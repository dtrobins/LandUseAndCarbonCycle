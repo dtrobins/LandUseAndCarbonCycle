{
 "cells": [
  {
   "cell_type": "markdown",
   "id": "d46f2d98-c2de-4c47-9321-fd481ffbfe19",
   "metadata": {},
   "source": [
    "# Settlement land cover and carbon stocks by land use and parcel size in Ontario, Canada\n",
    "\n",
    "Created by: Derek Robinson @UWaterloo in collaboration with Douglas MacDonald, Cameron Samonson Environment and Climate Change Canada<br>\n",
    "\n",
    "Additional assistance provided by Lyna Lapointe-Elmrabti and Meghan Bishoff @Environment and Climate Change Canada<br>\n",
    "\n",
    "Last Updated: February 26, 2023"
   ]
  },
  {
   "cell_type": "markdown",
   "id": "63a4d4e5-da2d-49fc-9de4-e3e6bc28aeda",
   "metadata": {},
   "source": [
    "### Notebook Completion\n",
    "\n",
    "If the user is not familiar with executing Juptyer Notebook content we recommend reviewing online tutorials. The following text provides a couple basic steps for working through the notebook.\n",
    "\n",
    "To advance to the next text cell or execute the code in a cell hold <font style=\"font-family:'Courier New'\"><mark font-family=\"Courier New\" style=\"background-color: #F5F5F5\">Shift</mark></font> and press <font style=\"font-family:'Courier New'\"><mark font-family=\"Courier New\" style=\"background-color: #F5F5F5\">Enter</mark></font>. If there is a method for which you would like to know more about its parameters or how it works then you can place your cursor on the method and press <font style=\"font-family:'Courier New'\"><mark font-family=\"Courier New\" style=\"background-color: #F5F5F5\">Shift + Tab</mark></font> and a help box will appear that you can expand and scroll through."
   ]
  },
  {
   "cell_type": "markdown",
   "id": "0a2f1b2a-1f76-4707-8ea1-6c5f6d828e1a",
   "metadata": {
    "tags": []
   },
   "source": [
    "### Overview\n",
    "\n",
    "In the case that the user of this notebook has not read its complementary paper, the following provides some brief context that motivates our efforts to estimate carbon storage in Settlment areas.\n",
    "\n",
    "The storage and flux of terrestrial carbon is spatially heterogeneous partly due to how humans use (i.e., `land use`), manage, and change what resides on the landscape (i.e., `land cover`). To better understand the extent of land use and land cover change, extensive effort has gone into mapping historical and global land use and land cover. At least 10 different global land cover datasets have been generated. However, the spatial resolution of these global data is too coarse (30m – 1km) to accurately capture the quantity and location of land cover in highly fragmented and human dominated Settlement areas.\n",
    "\n",
    "`Settlement` areas are differentially defined by country, but can be generalized as all developed land not included in other `Land Use, Land Use Change and Forestry` (LULUCF) sector categories reported to the United Nations Framework Convention on Climate Change (UNFCCC). Within the LULUCF sector, Settlements are of particular interest for carbon reporting because 1) urbanization projections estimate that 68% of the global population and greater than 87% of the North American population will reside within urban settlement areas by 2050 (UN 2018) and it is necessary to engage this population if we are to mitigate the impacts of climate change, 2) conversions from other land uses to Settlement are typically unidirectional and consist of significant manipulation of the landscape, and 3) Settlements have the potential to remove CO<sub>2</sub> from the atmosphere or equally result in emissions, depending on the type and severity of disturbance.\n",
    "\n",
    "While there is a wealth of research linking land use and the carbon cycle (e.g., <a href=\"https://doi.org/10.1017/CBO9780511894824\">Brown et al. 2013</a>), there remains a paucity of research, particularly the classification of land cover required for the quantification of the change in carbon on the landscape when land is converted to Settlement or to estimate carbon emissions or removals within Settlement areas. \n",
    "\n",
    "The content you will work through in this notebook builds on the following efforts to map land cover, quantify carbon stocks and change, and model urban growth based on property parcel data:\n",
    "\n",
    "* Land-cover fragmentation and configuration of ownership parcels in an exurban landscape<br>\n",
    "https://link.springer.com/article/10.1007/s11252-011-0205-4\n",
    "\n",
    "* Quantifying spatial–temporal change in land-cover and carbon storage among exurban residential parcels<br>\n",
    "https://link.springer.com/article/10.1007/s10980-013-9963-0\n",
    "\n",
    "* Comparison of Statistical Approaches for Modelling Land-Use Change<br>\n",
    "https://www.mdpi.com/2073-445X/7/4/144\n",
    "\n",
    "* Steenberg, J., Ristow, M., Duinker, P., MacDonald, D., Samson, C., C. Flemming (2021). An updated approach for assessing Canada's urban forest carbon storage and sequestration. Internal report. Ottawa (ON): Environment Canada.\n",
    "\n",
    "\n",
    "To more accurately quantify carbon stocks in Settlement areas, high spatial resolution imagery (20 cm) were acquired from the Province of Ontario, Canada. The imagery were classified using object-based image analysis into one of the following `seven land cover classes: Grass, Coniferous, Deciduous, Cropland and Soil, Water, Impervious, Shadow`. Parcel data were manually interpreted using the same imagery to assign each parcel to one of the following `eleven land uses: Low Density Residential, Medium Density Residential, High Density Residential, Commercial, Industrial, Institutions, Transportation, Protected Areas, Agriculture, Water, and Under Development`. Then the land cover and land use data were intersected to derive land cover within each property parcel. The subsequent estimates of carbon are based on a combination of land use (Activity Data) and amount of area in different land covers. These estimates are then summarized by land-use type and property size within this notebook.\n",
    "\n",
    "An example area of the classified imagery is provided below."
   ]
  },
  {
   "cell_type": "markdown",
   "id": "02ec8d2f-5e10-4911-a739-6faaf24af347",
   "metadata": {},
   "source": [
    "<img src=\"LC_Classification.png\" alt=\"drawing\" width=\"600\"/>"
   ]
  },
  {
   "cell_type": "markdown",
   "id": "f904bba7-06fe-4c6a-9a13-d21291e54377",
   "metadata": {},
   "source": [
    "# Tree Cover Carbon"
   ]
  },
  {
   "cell_type": "markdown",
   "id": "c510e639-8ade-4847-8b3b-ead81aecf4ab",
   "metadata": {},
   "source": [
    "In the presented approach, all types of trees are lumped together and represented as tree cover. Assessment of Settlement tree cover across multiple locations in Canada has been conducted by Steenberg et al. (2021). Within this document, the average urban tree-cover carbon storage for the Mixedwood Plains ecozone in Canada is calculated as 57.8 t ha<sup>-1</sup>. "
   ]
  },
  {
   "cell_type": "code",
   "execution_count": 1,
   "id": "13964e11-59c3-4562-91e9-51edf37da2a9",
   "metadata": {},
   "outputs": [],
   "source": [
    "C_trees_t_ha <- 57.8"
   ]
  },
  {
   "cell_type": "markdown",
   "id": "75b422e0-60c1-4700-b286-a42113b3968b",
   "metadata": {},
   "source": [
    "For comparative purposes, it is good to make sure we understand how to work among different units. We can derive kg ha<sup>-1</sup> by multiplying our value of t ha<sup>-1</sup> by 1000 (1000 kg = 1 Mt). Then we can derive kg C m<sup>-2</sup> by dividing by 10000 since 10,000 m<sup>2</sup> = 1 ha"
   ]
  },
  {
   "cell_type": "code",
   "execution_count": 2,
   "id": "10b8bcd8-963d-41d5-9e11-a4bab60b1e08",
   "metadata": {},
   "outputs": [],
   "source": [
    "C_trees_kg_ha <- C_trees_t_ha * 1000"
   ]
  },
  {
   "cell_type": "code",
   "execution_count": 3,
   "id": "fdc04ff5-5156-4cd7-80f2-dd90aecee5fe",
   "metadata": {},
   "outputs": [],
   "source": [
    "C_trees_kg_m2 <- C_trees_kg_ha/10000"
   ]
  },
  {
   "cell_type": "markdown",
   "id": "f2115fcf-22e2-41dc-bb42-3a243fb31e42",
   "metadata": {},
   "source": [
    "Our estimate of carbon stock in tree cover per metre square is:"
   ]
  },
  {
   "cell_type": "code",
   "execution_count": 4,
   "id": "748b1936-3d7c-46ce-bfad-186495a34e31",
   "metadata": {},
   "outputs": [
    {
     "data": {
      "text/html": [
       "5.78"
      ],
      "text/latex": [
       "5.78"
      ],
      "text/markdown": [
       "5.78"
      ],
      "text/plain": [
       "[1] 5.78"
      ]
     },
     "metadata": {},
     "output_type": "display_data"
    }
   ],
   "source": [
    "C_trees_kg_m2"
   ]
  },
  {
   "cell_type": "markdown",
   "id": "259f88b2-c5f6-4034-a205-20d92f93e451",
   "metadata": {},
   "source": [
    "# Derivation of soil carbon estimates by land use"
   ]
  },
  {
   "cell_type": "markdown",
   "id": "157bfea3-76ed-4ad5-a8fc-8bb4cf2e66e7",
   "metadata": {},
   "source": [
    "While the above approach to tree cover carbon estimation embeds the work and assumptions of Steenberg et al. (in review), our approach to estimate soil carbon is more involved.\n",
    "\n",
    "Using an IPCC Tier 1 approach, soil carbon in different land uses is calculated relative to initial values in cropland using the following equation:"
   ]
  },
  {
   "cell_type": "markdown",
   "id": "bc27d19f-db05-4fc9-ba4c-10d6b2ed1f69",
   "metadata": {},
   "source": [
    "<i>C<sub>Soils_LC</sub> = C<sub>Cropland</sub> * IPCC<sub>LC</sub> * (1 - Prop<sub>Modified</sub>) + (0.5 * C<sub>Cropland</sub>) * IPCC<sub>LC</sub> * Prop<sub>Modified</sub></i><br><br>\n",
    "\n",
    "whereby:<br>\n",
    "<ul style=\"list-style-type:none\">\n",
    "    <li><i>C<sub>Soils_LC</sub></i> = Total soil carbon for a land cover in Mg C ha<sup>-1</sup>, which comprises both areas where soils have been modified by landscaping (i.e., soil extraction, grading and 15 cm of topsoil replaced) and unmodified (areas maintaining at least 30 cm depth of soil and conditions remnant of cropland land use)</li><br>\n",
    "    <li><i>C<sub>Cropland</sub></i> = Initial carbon stocks for cropland in the region were based on average soil carbon derived from CanSIS databases for medium textured cropland soils in the KCW region based on soil carbon in the upper 30 cm of the soil horizon, equivalent to 70 Mg C ha<sup>-1</sup> or 7 kg C m<sup>-2</sup></li> <br>\n",
    "    <li><i>IPCC<sub>LC</sub></i> = the factor multiplied against cropland soil carbon to determine soil carbon in different land covers (LCs). Acquired from IPCC 2006, Vol. 4. The Settlements chapter (Chapter 8), in Section 8.3.3.2 Mineral Soils, points to Grassland chapter (Chapter 6, Table 6.2) for the IPCC relative stock change factors for grassland management. We use a Land Use Factor (F<sub>LU</sub>) = 1 and the Management Factor (F<sub>MG</sub>) for Improved Grassland for the Temperate/Boreal climate region = 1.14 in our estimate of carbon in turfgrass in Settlement areas. A value of 1.1 is used for tree cover, which is derived from Table 5.5 (Chapter 5) for No-Till (F<sub>MG</sub>) in a Dry Temperate/Boreal climate region.</li><br>\n",
    "        <li><i>Prop<sub>Modified</sub></i> = proportion of the land use area assumed to be landscaped and modified such that 15 cm of topsoil has been applied over fill with only 50% of <i>C<sub>Cropland</sub></i>. The proportion modified changes by land-use type.</li><br>\n",
    "</ul>\n",
    "\n",
    "CANSIS Database: http://sis.agr.gc.ca/cansis <br>\n",
    "Chapter 8: https://www.ipcc-nggip.iges.or.jp/public/2006gl/pdf/4_Volume4/V4_08_Ch8_Settlements.pdf <br>\n",
    "Chapter 6: https://www.ipcc-nggip.iges.or.jp/public/2006gl/pdf/4_Volume4/V4_06_Ch6_Grassland.pdf"
   ]
  },
  {
   "cell_type": "markdown",
   "id": "074b1090-fffa-42b9-a5eb-66aef4a7803b",
   "metadata": {},
   "source": [
    "Using the above values, variables are created for each\n"
   ]
  },
  {
   "cell_type": "code",
   "execution_count": 5,
   "id": "cef70e94-115a-40c5-8215-8060feb2a193",
   "metadata": {},
   "outputs": [],
   "source": [
    "C_cropland <- 7.0"
   ]
  },
  {
   "cell_type": "code",
   "execution_count": 6,
   "id": "e1564516-7c89-4b1a-b473-9d4d834cd56f",
   "metadata": {},
   "outputs": [],
   "source": [
    "IPCC_soils_grass <- 1.14"
   ]
  },
  {
   "cell_type": "markdown",
   "id": "311dc957-b891-4a82-990b-ae678baedcba",
   "metadata": {},
   "source": [
    "Table 6.2<br>\n",
    "<img src=\"Table6.2.png\" alt=\"drawing\" width=\"800\"/><br>\n",
    "https://www.ipcc-nggip.iges.or.jp/public/2006gl/pdf/4_Volume4/V4_06_Ch6_Grassland.pdf"
   ]
  },
  {
   "cell_type": "code",
   "execution_count": 7,
   "id": "3d5ee9ae-d86d-4f86-9fff-89002a42b217",
   "metadata": {},
   "outputs": [],
   "source": [
    "IPCC_soils_trees <- 1.1"
   ]
  },
  {
   "cell_type": "markdown",
   "id": "c6dbf976-1f99-4000-b5f5-3f2435214d1f",
   "metadata": {},
   "source": [
    "Table 5.5 <br>\n",
    "<img src=\"Table5.5.png\" alt=\"drawing\" width=\"800\"/><br>\n",
    "https://www.ipcc-nggip.iges.or.jp/public/2006gl/pdf/4_Volume4/V4_05_Ch5_Cropland.pdf"
   ]
  },
  {
   "cell_type": "markdown",
   "id": "f066d25d-a088-4bd0-84a6-cc303b697bec",
   "metadata": {},
   "source": [
    "## Residential Land Uses\n",
    "Using the above equation for <i>C<sub>Soils</sub></i> and assumptions about the proportion of residential land-use types that have modified soils, we can estimate the total soil carbon associated with turfgrass in residential land uses. Soils under Grass and Tree cover were divided into two categories, either landscaped or unmodified, where the landscaped sites are assumed to have 15 cm of topsoil applied over fill with 50% of the carbon content observed for croplands. The extent of landscaped disturbance from construction on parcels was assumed to reach a maximum of 1 acre or 0.405 ha. Given our parcel size distribution for residential land uses, high and medium density parcels were assumed to be 100% landscaped and low-density residential parcels were assumed to be 10% landscaped."
   ]
  },
  {
   "cell_type": "markdown",
   "id": "7c9e01a0-e470-4d0f-8eaf-e2732b4d576e",
   "metadata": {},
   "source": [
    "Create a variable for each of these proportions of modified soils for each residential density. LDR = Low Density Residential, MDR = Medium Density Residential, HDR = High Density Residential."
   ]
  },
  {
   "cell_type": "code",
   "execution_count": 8,
   "id": "6297ab2a-f42a-462c-87b2-55ec6a81f2a1",
   "metadata": {},
   "outputs": [],
   "source": [
    "LDR_prop_modified <- 0.1\n",
    "MDR_prop_modified <- 1.0\n",
    "HDR_prop_modified <- 1.0"
   ]
  },
  {
   "cell_type": "markdown",
   "id": "ccab8673-ab73-4a96-835b-c2044f88a0e4",
   "metadata": {},
   "source": [
    "Place these proportions, and prior variables, into our equation for <i>C<sub>Soils_Grass</sub></i>."
   ]
  },
  {
   "cell_type": "code",
   "execution_count": 9,
   "id": "964f55fd-d957-4810-a39d-427232130424",
   "metadata": {},
   "outputs": [],
   "source": [
    "C_LDR_soils_grass <- C_cropland*IPCC_soils_grass*(1 - LDR_prop_modified)+(0.5*C_cropland)*IPCC_soils_grass*LDR_prop_modified\n",
    "C_MDR_soils_grass <- C_cropland*IPCC_soils_grass*(1 - MDR_prop_modified)+(0.5*C_cropland)*IPCC_soils_grass*MDR_prop_modified\n",
    "C_HDR_soils_grass <- C_cropland*IPCC_soils_grass*(1 - HDR_prop_modified)+(0.5*C_cropland)*IPCC_soils_grass*HDR_prop_modified"
   ]
  },
  {
   "cell_type": "markdown",
   "id": "500583d4-12cf-4a0e-acdc-243448ae43b9",
   "metadata": {},
   "source": [
    "Estimates of soil C in Mg C ha<sup>-1</sup> of turfgrass for each residential land-use type are as follows:"
   ]
  },
  {
   "cell_type": "code",
   "execution_count": 10,
   "id": "4a491827-be4d-4aa6-8e4c-1c15e55f3cf8",
   "metadata": {},
   "outputs": [
    {
     "data": {
      "text/html": [
       "7.581"
      ],
      "text/latex": [
       "7.581"
      ],
      "text/markdown": [
       "7.581"
      ],
      "text/plain": [
       "[1] 7.581"
      ]
     },
     "metadata": {},
     "output_type": "display_data"
    },
    {
     "data": {
      "text/html": [
       "3.99"
      ],
      "text/latex": [
       "3.99"
      ],
      "text/markdown": [
       "3.99"
      ],
      "text/plain": [
       "[1] 3.99"
      ]
     },
     "metadata": {},
     "output_type": "display_data"
    },
    {
     "data": {
      "text/html": [
       "3.99"
      ],
      "text/latex": [
       "3.99"
      ],
      "text/markdown": [
       "3.99"
      ],
      "text/plain": [
       "[1] 3.99"
      ]
     },
     "metadata": {},
     "output_type": "display_data"
    }
   ],
   "source": [
    "C_LDR_soils_grass\n",
    "C_MDR_soils_grass\n",
    "C_HDR_soils_grass"
   ]
  },
  {
   "cell_type": "markdown",
   "id": "03a62699-f5dd-4d39-a416-3cbc0b16d549",
   "metadata": {},
   "source": [
    "Using the same approach as above, we can estimate soil carbon under Tree cover (kg C m<sup>-2</sup>) for each residential land-use type as follows:"
   ]
  },
  {
   "cell_type": "code",
   "execution_count": 11,
   "id": "3052f7f2-83c5-4518-b98a-451c3388613b",
   "metadata": {},
   "outputs": [],
   "source": [
    "C_LDR_soils_trees <- C_cropland*IPCC_soils_trees*(1 - LDR_prop_modified)+(0.5*C_cropland)*IPCC_soils_trees*LDR_prop_modified\n",
    "C_MDR_soils_trees <- C_cropland*IPCC_soils_trees*(1 - MDR_prop_modified)+(0.5*C_cropland)*IPCC_soils_trees*MDR_prop_modified\n",
    "C_HDR_soils_trees <- C_cropland*IPCC_soils_trees*(1 - HDR_prop_modified)+(0.5*C_cropland)*IPCC_soils_trees*HDR_prop_modified"
   ]
  },
  {
   "cell_type": "markdown",
   "id": "4ec17182-b0ea-4173-89e0-0e92a56fcdff",
   "metadata": {},
   "source": [
    "Estimates of soil C under Tree cover (kg C m<sup>-2</sup>) for each residential land-use type are:"
   ]
  },
  {
   "cell_type": "code",
   "execution_count": 12,
   "id": "0c6c62a7-066d-4d95-8f83-96982a369935",
   "metadata": {},
   "outputs": [
    {
     "data": {
      "text/html": [
       "7.315"
      ],
      "text/latex": [
       "7.315"
      ],
      "text/markdown": [
       "7.315"
      ],
      "text/plain": [
       "[1] 7.315"
      ]
     },
     "metadata": {},
     "output_type": "display_data"
    },
    {
     "data": {
      "text/html": [
       "3.85"
      ],
      "text/latex": [
       "3.85"
      ],
      "text/markdown": [
       "3.85"
      ],
      "text/plain": [
       "[1] 3.85"
      ]
     },
     "metadata": {},
     "output_type": "display_data"
    },
    {
     "data": {
      "text/html": [
       "3.85"
      ],
      "text/latex": [
       "3.85"
      ],
      "text/markdown": [
       "3.85"
      ],
      "text/plain": [
       "[1] 3.85"
      ]
     },
     "metadata": {},
     "output_type": "display_data"
    }
   ],
   "source": [
    "C_LDR_soils_trees\n",
    "C_MDR_soils_trees\n",
    "C_HDR_soils_trees"
   ]
  },
  {
   "cell_type": "markdown",
   "id": "ea8af237-a569-4647-a977-0d38aded16a6",
   "metadata": {},
   "source": [
    "## Commercial, Industrial, Institutions, and Transportation Land Uses\n",
    "\n",
    "Soil carbon calculations for Commercial, Industrial, Institutions, and Transportation are done in a similar manner. The <i>IPCC<sub>Grass</sub></i> value is multipled against 50% of the C<sub>Cropland</sub>, with the assumption of 100% modified soil for each of the these land-use types. \n",
    "\n",
    "Set the proprtion modified"
   ]
  },
  {
   "cell_type": "code",
   "execution_count": 13,
   "id": "5fbd4bee-d345-4b8e-ab24-b0ae19b6d385",
   "metadata": {},
   "outputs": [],
   "source": [
    "comm_prop_modified <- 1.0"
   ]
  },
  {
   "cell_type": "markdown",
   "id": "8eb1433f-2cec-442d-8740-31bc4489ea25",
   "metadata": {},
   "source": [
    "Generate the estimated soil C for commercial"
   ]
  },
  {
   "cell_type": "code",
   "execution_count": 14,
   "id": "1d60d270-8fb4-453c-aeb1-530021081855",
   "metadata": {},
   "outputs": [],
   "source": [
    "C_comm_soils_grass <- C_cropland*IPCC_soils_grass*(1 - comm_prop_modified)+(0.5*C_cropland)*IPCC_soils_grass*comm_prop_modified"
   ]
  },
  {
   "cell_type": "markdown",
   "id": "d2b759e0-a4d2-4a69-89bc-3381f791f2fd",
   "metadata": {},
   "source": [
    "Set the same value for other land use types:"
   ]
  },
  {
   "cell_type": "code",
   "execution_count": 15,
   "id": "1ca37624-3773-48af-a756-ec1edd66cd37",
   "metadata": {},
   "outputs": [],
   "source": [
    "C_ind_soils_grass <- C_comm_soils_grass\n",
    "C_inst_soils_grass <- C_comm_soils_grass\n",
    "C_trans_soils_grass <- C_comm_soils_grass"
   ]
  },
  {
   "cell_type": "markdown",
   "id": "443e8092-26df-472f-ba04-b85f1d59d1b2",
   "metadata": {},
   "source": [
    "Estimates of soil C in kg C m<sup>-2</sup> for commercial, industrial, institutions, and transportation are as follows: "
   ]
  },
  {
   "cell_type": "code",
   "execution_count": 16,
   "id": "154c8ea9-e3e5-460f-88fe-bbe1870819c4",
   "metadata": {},
   "outputs": [
    {
     "data": {
      "text/html": [
       "3.99"
      ],
      "text/latex": [
       "3.99"
      ],
      "text/markdown": [
       "3.99"
      ],
      "text/plain": [
       "[1] 3.99"
      ]
     },
     "metadata": {},
     "output_type": "display_data"
    },
    {
     "data": {
      "text/html": [
       "3.99"
      ],
      "text/latex": [
       "3.99"
      ],
      "text/markdown": [
       "3.99"
      ],
      "text/plain": [
       "[1] 3.99"
      ]
     },
     "metadata": {},
     "output_type": "display_data"
    },
    {
     "data": {
      "text/html": [
       "3.99"
      ],
      "text/latex": [
       "3.99"
      ],
      "text/markdown": [
       "3.99"
      ],
      "text/plain": [
       "[1] 3.99"
      ]
     },
     "metadata": {},
     "output_type": "display_data"
    },
    {
     "data": {
      "text/html": [
       "3.99"
      ],
      "text/latex": [
       "3.99"
      ],
      "text/markdown": [
       "3.99"
      ],
      "text/plain": [
       "[1] 3.99"
      ]
     },
     "metadata": {},
     "output_type": "display_data"
    }
   ],
   "source": [
    "C_comm_soils_grass\n",
    "C_ind_soils_grass\n",
    "C_inst_soils_grass\n",
    "C_trans_soils_grass"
   ]
  },
  {
   "cell_type": "markdown",
   "id": "9d42f99b-faf4-49cc-9dae-000a6e9c519e",
   "metadata": {},
   "source": [
    "Next we estimate the above ground carbon storage in tree cover. We set commercial, industrial, and transportation soils under tree cover to zero, and use the same equation for soils under grass for under trees for Institutions."
   ]
  },
  {
   "cell_type": "code",
   "execution_count": 17,
   "id": "c760d463-4c21-4309-bea0-7b0938cbe328",
   "metadata": {},
   "outputs": [],
   "source": [
    "C_comm_soils_trees <- 0\n",
    "C_ind_soils_trees <- 0\n",
    "C_inst_soils_trees <- C_cropland*IPCC_soils_trees*(1 - comm_prop_modified)+(0.5*C_cropland)*IPCC_soils_trees*comm_prop_modified\n",
    "C_trans_soils_trees <- 0"
   ]
  },
  {
   "cell_type": "markdown",
   "id": "b13cc54e-d800-4698-9d2f-9b45d4ce2002",
   "metadata": {},
   "source": [
    "This gives us the following soil carbon (kg m<sup>-2</sup>) under tree cover estimates of "
   ]
  },
  {
   "cell_type": "code",
   "execution_count": 18,
   "id": "53971b3a-3a75-4810-bb9e-fdec5540238a",
   "metadata": {},
   "outputs": [
    {
     "data": {
      "text/html": [
       "0"
      ],
      "text/latex": [
       "0"
      ],
      "text/markdown": [
       "0"
      ],
      "text/plain": [
       "[1] 0"
      ]
     },
     "metadata": {},
     "output_type": "display_data"
    },
    {
     "data": {
      "text/html": [
       "0"
      ],
      "text/latex": [
       "0"
      ],
      "text/markdown": [
       "0"
      ],
      "text/plain": [
       "[1] 0"
      ]
     },
     "metadata": {},
     "output_type": "display_data"
    },
    {
     "data": {
      "text/html": [
       "3.85"
      ],
      "text/latex": [
       "3.85"
      ],
      "text/markdown": [
       "3.85"
      ],
      "text/plain": [
       "[1] 3.85"
      ]
     },
     "metadata": {},
     "output_type": "display_data"
    },
    {
     "data": {
      "text/html": [
       "0"
      ],
      "text/latex": [
       "0"
      ],
      "text/markdown": [
       "0"
      ],
      "text/plain": [
       "[1] 0"
      ]
     },
     "metadata": {},
     "output_type": "display_data"
    }
   ],
   "source": [
    "C_comm_soils_trees\n",
    "C_ind_soils_trees\n",
    "C_inst_soils_trees\n",
    "C_trans_soils_trees"
   ]
  },
  {
   "cell_type": "markdown",
   "id": "b2a731e7-ac54-4787-b74c-82626c8501f2",
   "metadata": {},
   "source": [
    "## Protected Areas\n",
    "\n",
    "The calculation for soil carbon under turfgrass in protected areas follows the same assumptions used for low-density residential and therefore the kg C m<sup>-2</sup> is the same."
   ]
  },
  {
   "cell_type": "code",
   "execution_count": 19,
   "id": "a3caff46-f334-4b78-9131-f4a34d18e7d2",
   "metadata": {},
   "outputs": [],
   "source": [
    "C_prot_soils_grass <- C_LDR_soils_grass"
   ]
  },
  {
   "cell_type": "markdown",
   "id": "522040af-39de-4c95-badd-de54c11c85ad",
   "metadata": {},
   "source": [
    "Estimate of kg C m<sup>-2</sup> in soils in protected areas is:"
   ]
  },
  {
   "cell_type": "code",
   "execution_count": 20,
   "id": "64b27d1e-5a45-451f-9438-4c74aeb23063",
   "metadata": {},
   "outputs": [
    {
     "data": {
      "text/html": [
       "7.581"
      ],
      "text/latex": [
       "7.581"
      ],
      "text/markdown": [
       "7.581"
      ],
      "text/plain": [
       "[1] 7.581"
      ]
     },
     "metadata": {},
     "output_type": "display_data"
    }
   ],
   "source": [
    "C_prot_soils_grass"
   ]
  },
  {
   "cell_type": "markdown",
   "id": "80838b8e-c45d-4b50-8f44-4ad701ea68e5",
   "metadata": {},
   "source": [
    "Similarly, the calculation for soil carbon under tree cover for protected areas uses the same assumptions used for low-density residential."
   ]
  },
  {
   "cell_type": "code",
   "execution_count": 21,
   "id": "7b6803de-3bba-489c-8af7-78b5adf3f9c2",
   "metadata": {},
   "outputs": [],
   "source": [
    "C_prot_soils_trees <- C_LDR_soils_trees"
   ]
  },
  {
   "cell_type": "markdown",
   "id": "528fc14d-a991-45f9-906c-4721a18aa192",
   "metadata": {},
   "source": [
    "Giving us the following kg C m<sup>-2</sup>"
   ]
  },
  {
   "cell_type": "code",
   "execution_count": 22,
   "id": "80607759-261e-4565-96a4-f662784a892c",
   "metadata": {},
   "outputs": [
    {
     "data": {
      "text/html": [
       "7.315"
      ],
      "text/latex": [
       "7.315"
      ],
      "text/markdown": [
       "7.315"
      ],
      "text/plain": [
       "[1] 7.315"
      ]
     },
     "metadata": {},
     "output_type": "display_data"
    }
   ],
   "source": [
    "C_prot_soils_trees"
   ]
  },
  {
   "cell_type": "markdown",
   "id": "13841b8a-20c3-4007-94d4-98e9f99c2a11",
   "metadata": {},
   "source": [
    "## Agriculture and Under development Turfgrass\n",
    "\n",
    "Soil carbon under agriculture was acquired by the CANSIS data as discussed above. Since the majority of conversions to Settlement in southern Ontario are from agricultural lands, we assume that areas Under Development retain the agricultural carbon values until fully transformed into a new land use."
   ]
  },
  {
   "cell_type": "code",
   "execution_count": 23,
   "id": "36065b61-aa45-4514-9162-51f0d1469f63",
   "metadata": {},
   "outputs": [],
   "source": [
    "C_ag_soils_grass <- 7.0\n",
    "C_und_soils_grass <- 7.0"
   ]
  },
  {
   "cell_type": "markdown",
   "id": "eb4f641a-85b2-4418-b93b-c58edb9ae3d6",
   "metadata": {},
   "source": [
    "Confirm the values"
   ]
  },
  {
   "cell_type": "code",
   "execution_count": 24,
   "id": "9557fd95-e8df-442f-b486-cb61367a2f0f",
   "metadata": {},
   "outputs": [
    {
     "data": {
      "text/html": [
       "7"
      ],
      "text/latex": [
       "7"
      ],
      "text/markdown": [
       "7"
      ],
      "text/plain": [
       "[1] 7"
      ]
     },
     "metadata": {},
     "output_type": "display_data"
    },
    {
     "data": {
      "text/html": [
       "7"
      ],
      "text/latex": [
       "7"
      ],
      "text/markdown": [
       "7"
      ],
      "text/plain": [
       "[1] 7"
      ]
     },
     "metadata": {},
     "output_type": "display_data"
    }
   ],
   "source": [
    "C_ag_soils_grass\n",
    "C_und_soils_grass"
   ]
  },
  {
   "cell_type": "markdown",
   "id": "0a13c9e0-c11e-44fd-8bb2-3cb09fc2aacb",
   "metadata": {},
   "source": [
    "Soil under trees in agricultural land uses are assumed the same as the CANSIS data at 7.0 kg C m<sup>-2</sup>.\n",
    "However, soils in Under Development land cover are assumed to be similar to low-density residential that have some landscape disturbance."
   ]
  },
  {
   "cell_type": "code",
   "execution_count": 25,
   "id": "b1844bad-6903-4f73-8caf-4bc8b024adb5",
   "metadata": {},
   "outputs": [],
   "source": [
    "C_ag_soils_trees <- 7.0\n",
    "C_und_soils_trees <- C_LDR_soils_trees"
   ]
  },
  {
   "cell_type": "markdown",
   "id": "475b7a39-7ba6-424b-a989-86b0f50a8cc6",
   "metadata": {},
   "source": [
    "Yielding a slightly higher value for soils under tree cover in Under Developed land use compared to Agricultural land use."
   ]
  },
  {
   "cell_type": "code",
   "execution_count": 26,
   "id": "3b2efcd1-bd60-4a7e-8dcf-f22d54c675be",
   "metadata": {},
   "outputs": [
    {
     "data": {
      "text/html": [
       "7"
      ],
      "text/latex": [
       "7"
      ],
      "text/markdown": [
       "7"
      ],
      "text/plain": [
       "[1] 7"
      ]
     },
     "metadata": {},
     "output_type": "display_data"
    },
    {
     "data": {
      "text/html": [
       "7.315"
      ],
      "text/latex": [
       "7.315"
      ],
      "text/markdown": [
       "7.315"
      ],
      "text/plain": [
       "[1] 7.315"
      ]
     },
     "metadata": {},
     "output_type": "display_data"
    }
   ],
   "source": [
    "C_ag_soils_trees\n",
    "C_und_soils_trees"
   ]
  },
  {
   "cell_type": "markdown",
   "id": "c7736f54-3a70-4f81-93e3-9c13f5973e6c",
   "metadata": {},
   "source": [
    "# Soil Carbon by Land Use (Table 1 in manuscript)\n",
    "\n",
    "Using the results from above we can make four columns of data and combine them using `cbind()` to create a dataframe of our values. First we will make a list of our land use categories. I note the variable as lulc because technically Water is a land cover."
   ]
  },
  {
   "cell_type": "code",
   "execution_count": 27,
   "id": "0c4be54d-8a25-4879-b9dd-247c2857b2e3",
   "metadata": {},
   "outputs": [],
   "source": [
    "lulc_categories <- c(\"Low Density Residential\", \"Medium Density Residential\", \"High Density Residential\", \"Commercial\", \n",
    "\"Industrial\", \"Institutions\", \"Transportation\", \"Protected Areas\", \"Agriculture\", \"Water\", \"Under Development\")"
   ]
  },
  {
   "cell_type": "markdown",
   "id": "c214da4a-f301-4e69-ae75-c88cb649d3d5",
   "metadata": {},
   "source": [
    "Next we will create a variable for each of our soil C estimates under turfgrass for each land use."
   ]
  },
  {
   "cell_type": "code",
   "execution_count": 28,
   "id": "3a28be29-5bcc-4ec7-9043-1cea6fd3cfd4",
   "metadata": {},
   "outputs": [],
   "source": [
    "lulc_grass_soilC <- c(C_LDR_soils_grass, C_MDR_soils_grass, C_HDR_soils_grass, C_comm_soils_grass, C_ind_soils_grass, \n",
    "                      C_inst_soils_grass, C_trans_soils_grass, C_prot_soils_grass, C_ag_soils_grass, 0, C_und_soils_grass) "
   ]
  },
  {
   "cell_type": "markdown",
   "id": "f5f3dea1-7729-4963-b403-2256b1e55763",
   "metadata": {},
   "source": [
    "Then we create a variable holding our soil C estimates under tree cover for each land use."
   ]
  },
  {
   "cell_type": "code",
   "execution_count": 29,
   "id": "a85d3113-d597-4d00-8021-b3f147295010",
   "metadata": {},
   "outputs": [],
   "source": [
    "lulc_trees_soilC <- c(C_LDR_soils_trees, C_MDR_soils_trees, C_HDR_soils_trees, C_comm_soils_trees, C_ind_soils_trees, \n",
    "                      C_inst_soils_trees, C_trans_soils_trees, C_prot_soils_trees, C_ag_soils_trees, 0, C_und_soils_trees) "
   ]
  },
  {
   "cell_type": "markdown",
   "id": "6e5d74e5-9d7f-498f-86d7-2f81c7d864d2",
   "metadata": {},
   "source": [
    "Finally we create a variable holding our soil C estimates under cropland for each land use. While one might think of cropland under some land uses as an error, there are many cases where the back of a parcel is still used for agricultural purposes even though the dominant portion of the parcel is used for residential (as an example). Typically, the larger the parcel adjacent to agricultural lands the more we see this overlap. Of course some of the classification is error."
   ]
  },
  {
   "cell_type": "code",
   "execution_count": 30,
   "id": "ca56bdfe-31a7-4dd2-9a0a-a9600339a540",
   "metadata": {},
   "outputs": [],
   "source": [
    "lulc_crop_soilC <- c(7.0, 7.0, 7.0, 7.0, 7.0, 7.0, 7.0, 7.0, 7.0, 0.0, 7.0)"
   ]
  },
  {
   "cell_type": "markdown",
   "id": "258b81c1-1656-4943-a55f-4b6fa501f35a",
   "metadata": {},
   "source": [
    "Lets put all these data together now using the `cbind()` function to derive a table of kg C m<sup>-2</sup> in soil by land use."
   ]
  },
  {
   "cell_type": "code",
   "execution_count": 31,
   "id": "9c35ea0d-eb2b-4308-94bc-7ebf2381480e",
   "metadata": {},
   "outputs": [],
   "source": [
    "soilCbylu <- cbind(lulc_categories, lulc_grass_soilC, lulc_trees_soilC, lulc_crop_soilC)"
   ]
  },
  {
   "cell_type": "code",
   "execution_count": 32,
   "id": "25a9ccca-9f17-4a94-a0e1-ed185eee3fc5",
   "metadata": {},
   "outputs": [],
   "source": [
    "# kg C m-2\n",
    "soilCbylu <- as.data.frame(soilCbylu)\n",
    "soilCbylu$lulc_grass_soilC <- as.numeric(soilCbylu$lulc_grass_soilC)\n",
    "soilCbylu$lulc_trees_soilC <- as.numeric(soilCbylu$lulc_trees_soilC)\n",
    "soilCbylu$lulc_crop_soilC <- as.numeric(soilCbylu$lulc_crop_soilC)"
   ]
  },
  {
   "cell_type": "markdown",
   "id": "9e874d3e-3547-4b8d-b2cf-a4d79b0b7d24",
   "metadata": {},
   "source": [
    "Lastly, lets give the table some column names and display it."
   ]
  },
  {
   "cell_type": "code",
   "execution_count": 33,
   "id": "e2f55771-085d-4dc8-af70-7f6258505fbd",
   "metadata": {},
   "outputs": [
    {
     "name": "stdout",
     "output_type": "stream",
     "text": [
      "[1] \"Table 1 in Manuscript\"\n"
     ]
    },
    {
     "data": {
      "text/html": [
       "<table class=\"dataframe\">\n",
       "<caption>A data.frame: 11 x 4</caption>\n",
       "<thead>\n",
       "\t<tr><th scope=col>Land.Use</th><th scope=col>Grass</th><th scope=col>Trees</th><th scope=col>Cropland</th></tr>\n",
       "\t<tr><th scope=col>&lt;chr&gt;</th><th scope=col>&lt;dbl&gt;</th><th scope=col>&lt;dbl&gt;</th><th scope=col>&lt;dbl&gt;</th></tr>\n",
       "</thead>\n",
       "<tbody>\n",
       "\t<tr><td>Low Density Residential   </td><td>7.581</td><td>7.315</td><td>7</td></tr>\n",
       "\t<tr><td>Medium Density Residential</td><td>3.990</td><td>3.850</td><td>7</td></tr>\n",
       "\t<tr><td>High Density Residential  </td><td>3.990</td><td>3.850</td><td>7</td></tr>\n",
       "\t<tr><td>Commercial                </td><td>3.990</td><td>0.000</td><td>7</td></tr>\n",
       "\t<tr><td>Industrial                </td><td>3.990</td><td>0.000</td><td>7</td></tr>\n",
       "\t<tr><td>Institutions              </td><td>3.990</td><td>3.850</td><td>7</td></tr>\n",
       "\t<tr><td>Transportation            </td><td>3.990</td><td>0.000</td><td>7</td></tr>\n",
       "\t<tr><td>Protected Areas           </td><td>7.581</td><td>7.315</td><td>7</td></tr>\n",
       "\t<tr><td>Agriculture               </td><td>7.000</td><td>7.000</td><td>7</td></tr>\n",
       "\t<tr><td>Water                     </td><td>0.000</td><td>0.000</td><td>0</td></tr>\n",
       "\t<tr><td>Under Development         </td><td>7.000</td><td>7.315</td><td>7</td></tr>\n",
       "</tbody>\n",
       "</table>\n"
      ],
      "text/latex": [
       "A data.frame: 11 x 4\n",
       "\\begin{tabular}{llll}\n",
       " Land.Use & Grass & Trees & Cropland\\\\\n",
       " <chr> & <dbl> & <dbl> & <dbl>\\\\\n",
       "\\hline\n",
       "\t Low Density Residential    & 7.581 & 7.315 & 7\\\\\n",
       "\t Medium Density Residential & 3.990 & 3.850 & 7\\\\\n",
       "\t High Density Residential   & 3.990 & 3.850 & 7\\\\\n",
       "\t Commercial                 & 3.990 & 0.000 & 7\\\\\n",
       "\t Industrial                 & 3.990 & 0.000 & 7\\\\\n",
       "\t Institutions               & 3.990 & 3.850 & 7\\\\\n",
       "\t Transportation             & 3.990 & 0.000 & 7\\\\\n",
       "\t Protected Areas            & 7.581 & 7.315 & 7\\\\\n",
       "\t Agriculture                & 7.000 & 7.000 & 7\\\\\n",
       "\t Water                      & 0.000 & 0.000 & 0\\\\\n",
       "\t Under Development          & 7.000 & 7.315 & 7\\\\\n",
       "\\end{tabular}\n"
      ],
      "text/markdown": [
       "\n",
       "A data.frame: 11 x 4\n",
       "\n",
       "| Land.Use &lt;chr&gt; | Grass &lt;dbl&gt; | Trees &lt;dbl&gt; | Cropland &lt;dbl&gt; |\n",
       "|---|---|---|---|\n",
       "| Low Density Residential    | 7.581 | 7.315 | 7 |\n",
       "| Medium Density Residential | 3.990 | 3.850 | 7 |\n",
       "| High Density Residential   | 3.990 | 3.850 | 7 |\n",
       "| Commercial                 | 3.990 | 0.000 | 7 |\n",
       "| Industrial                 | 3.990 | 0.000 | 7 |\n",
       "| Institutions               | 3.990 | 3.850 | 7 |\n",
       "| Transportation             | 3.990 | 0.000 | 7 |\n",
       "| Protected Areas            | 7.581 | 7.315 | 7 |\n",
       "| Agriculture                | 7.000 | 7.000 | 7 |\n",
       "| Water                      | 0.000 | 0.000 | 0 |\n",
       "| Under Development          | 7.000 | 7.315 | 7 |\n",
       "\n"
      ],
      "text/plain": [
       "   Land.Use                   Grass Trees Cropland\n",
       "1  Low Density Residential    7.581 7.315 7       \n",
       "2  Medium Density Residential 3.990 3.850 7       \n",
       "3  High Density Residential   3.990 3.850 7       \n",
       "4  Commercial                 3.990 0.000 7       \n",
       "5  Industrial                 3.990 0.000 7       \n",
       "6  Institutions               3.990 3.850 7       \n",
       "7  Transportation             3.990 0.000 7       \n",
       "8  Protected Areas            7.581 7.315 7       \n",
       "9  Agriculture                7.000 7.000 7       \n",
       "10 Water                      0.000 0.000 0       \n",
       "11 Under Development          7.000 7.315 7       "
      ]
     },
     "metadata": {},
     "output_type": "display_data"
    }
   ],
   "source": [
    "# kg C m-2\n",
    "colnames(soilCbylu) <- c(\"Land.Use\",\"Grass\",\"Trees\",\"Cropland\")\n",
    "print (\"Table 1 in Manuscript\")\n",
    "soilCbylu"
   ]
  },
  {
   "cell_type": "markdown",
   "id": "16b54f43-33b0-447b-89bd-a1a82d8ea9d6",
   "metadata": {},
   "source": [
    "# Estimates of Carbon by Land Use (Tables F1 and F2 - Manuscript)\n",
    "\n",
    "Now that we have calculated estimates of soil C under grass, trees, and crop as well as an above-ground estimate of tree carbon, we can apply these values to a study area.\n",
    "The Kitchener-Cambridge-Waterloo (KCW) Census Metropolitan Area (CMA) has been classified at 20 cm resolution in urban core areas and 80 cm in rural areas within the CMA boundary to derive the following land cover areas. The land use classification is the result of individual parcel manual interpretation. \n",
    "\n",
    "Read in a `.csv` of the area in different land covers using the `read.csv()` function."
   ]
  },
  {
   "cell_type": "code",
   "execution_count": 34,
   "id": "6262eb34-23dd-4bae-8fc0-f8861c6606eb",
   "metadata": {},
   "outputs": [],
   "source": [
    "lc_data <- read.csv(\"landcoverarea.csv\")"
   ]
  },
  {
   "cell_type": "markdown",
   "id": "55a475fb-af1f-4d62-8a00-c6fb4f80628a",
   "metadata": {},
   "source": [
    "Lets take a quick look at these data."
   ]
  },
  {
   "cell_type": "code",
   "execution_count": 35,
   "id": "8ae344eb-6fb3-4652-9136-899ed6bf0958",
   "metadata": {},
   "outputs": [
    {
     "data": {
      "text/html": [
       "<table class=\"dataframe\">\n",
       "<caption>A data.frame: 11 x 7</caption>\n",
       "<thead>\n",
       "\t<tr><th scope=col>Land.Use</th><th scope=col>Grass</th><th scope=col>Tree</th><th scope=col>Crop</th><th scope=col>Water</th><th scope=col>Impervious</th><th scope=col>Shadow</th></tr>\n",
       "\t<tr><th scope=col>&lt;chr&gt;</th><th scope=col>&lt;dbl&gt;</th><th scope=col>&lt;dbl&gt;</th><th scope=col>&lt;dbl&gt;</th><th scope=col>&lt;dbl&gt;</th><th scope=col>&lt;dbl&gt;</th><th scope=col>&lt;dbl&gt;</th></tr>\n",
       "</thead>\n",
       "<tbody>\n",
       "\t<tr><td>Low Density Residential   </td><td> 1493.56</td><td> 2236.91</td><td>  695.79</td><td>105.22</td><td> 445.13</td><td>165.57</td></tr>\n",
       "\t<tr><td>Medium Density Residential</td><td> 1176.22</td><td> 2642.14</td><td>  377.67</td><td>224.51</td><td>3465.25</td><td>374.52</td></tr>\n",
       "\t<tr><td>High Density Residential  </td><td>  211.59</td><td>  422.25</td><td>   66.34</td><td> 46.94</td><td> 710.86</td><td> 53.31</td></tr>\n",
       "\t<tr><td>Commercial                </td><td>  550.25</td><td>  513.21</td><td>  293.74</td><td> 78.65</td><td>1515.69</td><td> 38.32</td></tr>\n",
       "\t<tr><td>Industrial                </td><td>  378.48</td><td>  481.77</td><td>  733.64</td><td> 73.07</td><td>1677.90</td><td> 31.00</td></tr>\n",
       "\t<tr><td>Institutions              </td><td>  174.93</td><td>  133.46</td><td>   44.03</td><td> 10.65</td><td> 229.10</td><td>  7.36</td></tr>\n",
       "\t<tr><td>Transportation            </td><td>  584.44</td><td> 1053.56</td><td>  635.84</td><td> 41.18</td><td>2221.68</td><td> 60.22</td></tr>\n",
       "\t<tr><td>Protected Areas/Recreation</td><td> 2985.95</td><td> 7327.66</td><td> 1366.57</td><td>175.34</td><td> 497.53</td><td>253.08</td></tr>\n",
       "\t<tr><td>Agriculture               </td><td>10537.42</td><td>14116.16</td><td>32224.38</td><td>418.39</td><td>1042.06</td><td>468.16</td></tr>\n",
       "\t<tr><td>Water                     </td><td>  341.22</td><td>  845.23</td><td>  305.38</td><td>590.59</td><td> 104.24</td><td> 99.61</td></tr>\n",
       "\t<tr><td>Under Development         </td><td>  103.27</td><td>  195.28</td><td>  215.01</td><td> 19.20</td><td> 257.68</td><td>  8.14</td></tr>\n",
       "</tbody>\n",
       "</table>\n"
      ],
      "text/latex": [
       "A data.frame: 11 x 7\n",
       "\\begin{tabular}{lllllll}\n",
       " Land.Use & Grass & Tree & Crop & Water & Impervious & Shadow\\\\\n",
       " <chr> & <dbl> & <dbl> & <dbl> & <dbl> & <dbl> & <dbl>\\\\\n",
       "\\hline\n",
       "\t Low Density Residential    &  1493.56 &  2236.91 &   695.79 & 105.22 &  445.13 & 165.57\\\\\n",
       "\t Medium Density Residential &  1176.22 &  2642.14 &   377.67 & 224.51 & 3465.25 & 374.52\\\\\n",
       "\t High Density Residential   &   211.59 &   422.25 &    66.34 &  46.94 &  710.86 &  53.31\\\\\n",
       "\t Commercial                 &   550.25 &   513.21 &   293.74 &  78.65 & 1515.69 &  38.32\\\\\n",
       "\t Industrial                 &   378.48 &   481.77 &   733.64 &  73.07 & 1677.90 &  31.00\\\\\n",
       "\t Institutions               &   174.93 &   133.46 &    44.03 &  10.65 &  229.10 &   7.36\\\\\n",
       "\t Transportation             &   584.44 &  1053.56 &   635.84 &  41.18 & 2221.68 &  60.22\\\\\n",
       "\t Protected Areas/Recreation &  2985.95 &  7327.66 &  1366.57 & 175.34 &  497.53 & 253.08\\\\\n",
       "\t Agriculture                & 10537.42 & 14116.16 & 32224.38 & 418.39 & 1042.06 & 468.16\\\\\n",
       "\t Water                      &   341.22 &   845.23 &   305.38 & 590.59 &  104.24 &  99.61\\\\\n",
       "\t Under Development          &   103.27 &   195.28 &   215.01 &  19.20 &  257.68 &   8.14\\\\\n",
       "\\end{tabular}\n"
      ],
      "text/markdown": [
       "\n",
       "A data.frame: 11 x 7\n",
       "\n",
       "| Land.Use &lt;chr&gt; | Grass &lt;dbl&gt; | Tree &lt;dbl&gt; | Crop &lt;dbl&gt; | Water &lt;dbl&gt; | Impervious &lt;dbl&gt; | Shadow &lt;dbl&gt; |\n",
       "|---|---|---|---|---|---|---|\n",
       "| Low Density Residential    |  1493.56 |  2236.91 |   695.79 | 105.22 |  445.13 | 165.57 |\n",
       "| Medium Density Residential |  1176.22 |  2642.14 |   377.67 | 224.51 | 3465.25 | 374.52 |\n",
       "| High Density Residential   |   211.59 |   422.25 |    66.34 |  46.94 |  710.86 |  53.31 |\n",
       "| Commercial                 |   550.25 |   513.21 |   293.74 |  78.65 | 1515.69 |  38.32 |\n",
       "| Industrial                 |   378.48 |   481.77 |   733.64 |  73.07 | 1677.90 |  31.00 |\n",
       "| Institutions               |   174.93 |   133.46 |    44.03 |  10.65 |  229.10 |   7.36 |\n",
       "| Transportation             |   584.44 |  1053.56 |   635.84 |  41.18 | 2221.68 |  60.22 |\n",
       "| Protected Areas/Recreation |  2985.95 |  7327.66 |  1366.57 | 175.34 |  497.53 | 253.08 |\n",
       "| Agriculture                | 10537.42 | 14116.16 | 32224.38 | 418.39 | 1042.06 | 468.16 |\n",
       "| Water                      |   341.22 |   845.23 |   305.38 | 590.59 |  104.24 |  99.61 |\n",
       "| Under Development          |   103.27 |   195.28 |   215.01 |  19.20 |  257.68 |   8.14 |\n",
       "\n"
      ],
      "text/plain": [
       "   Land.Use                   Grass    Tree     Crop     Water  Impervious\n",
       "1  Low Density Residential     1493.56  2236.91   695.79 105.22  445.13   \n",
       "2  Medium Density Residential  1176.22  2642.14   377.67 224.51 3465.25   \n",
       "3  High Density Residential     211.59   422.25    66.34  46.94  710.86   \n",
       "4  Commercial                   550.25   513.21   293.74  78.65 1515.69   \n",
       "5  Industrial                   378.48   481.77   733.64  73.07 1677.90   \n",
       "6  Institutions                 174.93   133.46    44.03  10.65  229.10   \n",
       "7  Transportation               584.44  1053.56   635.84  41.18 2221.68   \n",
       "8  Protected Areas/Recreation  2985.95  7327.66  1366.57 175.34  497.53   \n",
       "9  Agriculture                10537.42 14116.16 32224.38 418.39 1042.06   \n",
       "10 Water                        341.22   845.23   305.38 590.59  104.24   \n",
       "11 Under Development            103.27   195.28   215.01  19.20  257.68   \n",
       "   Shadow\n",
       "1  165.57\n",
       "2  374.52\n",
       "3   53.31\n",
       "4   38.32\n",
       "5   31.00\n",
       "6    7.36\n",
       "7   60.22\n",
       "8  253.08\n",
       "9  468.16\n",
       "10  99.61\n",
       "11   8.14"
      ]
     },
     "metadata": {},
     "output_type": "display_data"
    }
   ],
   "source": [
    "lc_data"
   ]
  },
  {
   "cell_type": "markdown",
   "id": "1553c7c6-131a-4fcf-a189-5a2953ea75ee",
   "metadata": {},
   "source": [
    "Create a total area for each land use, by using the `rowSums()` function, and the percent of all area represented by each land use. We will also round our data to two decimals using the `round()` function."
   ]
  },
  {
   "cell_type": "code",
   "execution_count": 36,
   "id": "47f04ecb-713c-410c-a832-58e0361d56be",
   "metadata": {},
   "outputs": [],
   "source": [
    "lc_data[ ,\"Total\"] <- rowSums(lc_data[,2:7])"
   ]
  },
  {
   "cell_type": "markdown",
   "id": "deb35e20-5f96-45c5-80ce-ea05b78efbd7",
   "metadata": {},
   "source": [
    "Use the same approach to calculate the total percent of the study area represented by each land use type."
   ]
  },
  {
   "cell_type": "code",
   "execution_count": 37,
   "id": "4414a37a-8dfc-4893-9037-a0a6b537842a",
   "metadata": {},
   "outputs": [],
   "source": [
    "lc_data[ ,\"Perc\"] <- round(lc_data$Total/sum(lc_data$Total)*100, 1)"
   ]
  },
  {
   "cell_type": "markdown",
   "id": "1ff94636-00e8-4041-9ae3-3c7503d9efb8",
   "metadata": {},
   "source": [
    "Review these additions to our table of area (ha) of land cover by land use type."
   ]
  },
  {
   "cell_type": "code",
   "execution_count": 38,
   "id": "ae2db62c-336c-47d4-ba7b-414dedf64735",
   "metadata": {},
   "outputs": [
    {
     "name": "stdout",
     "output_type": "stream",
     "text": [
      "[1] \"Table F1 - Manuscript\"\n"
     ]
    },
    {
     "data": {
      "text/html": [
       "<table class=\"dataframe\">\n",
       "<caption>A data.frame: 11 x 9</caption>\n",
       "<thead>\n",
       "\t<tr><th scope=col>Land.Use</th><th scope=col>Grass</th><th scope=col>Tree</th><th scope=col>Crop</th><th scope=col>Water</th><th scope=col>Impervious</th><th scope=col>Shadow</th><th scope=col>Total</th><th scope=col>Perc</th></tr>\n",
       "\t<tr><th scope=col>&lt;chr&gt;</th><th scope=col>&lt;dbl&gt;</th><th scope=col>&lt;dbl&gt;</th><th scope=col>&lt;dbl&gt;</th><th scope=col>&lt;dbl&gt;</th><th scope=col>&lt;dbl&gt;</th><th scope=col>&lt;dbl&gt;</th><th scope=col>&lt;dbl&gt;</th><th scope=col>&lt;dbl&gt;</th></tr>\n",
       "</thead>\n",
       "<tbody>\n",
       "\t<tr><td>Low Density Residential   </td><td> 1493.56</td><td> 2236.91</td><td>  695.79</td><td>105.22</td><td> 445.13</td><td>165.57</td><td> 5142.18</td><td> 5.1</td></tr>\n",
       "\t<tr><td>Medium Density Residential</td><td> 1176.22</td><td> 2642.14</td><td>  377.67</td><td>224.51</td><td>3465.25</td><td>374.52</td><td> 8260.31</td><td> 8.2</td></tr>\n",
       "\t<tr><td>High Density Residential  </td><td>  211.59</td><td>  422.25</td><td>   66.34</td><td> 46.94</td><td> 710.86</td><td> 53.31</td><td> 1511.29</td><td> 1.5</td></tr>\n",
       "\t<tr><td>Commercial                </td><td>  550.25</td><td>  513.21</td><td>  293.74</td><td> 78.65</td><td>1515.69</td><td> 38.32</td><td> 2989.86</td><td> 3.0</td></tr>\n",
       "\t<tr><td>Industrial                </td><td>  378.48</td><td>  481.77</td><td>  733.64</td><td> 73.07</td><td>1677.90</td><td> 31.00</td><td> 3375.86</td><td> 3.3</td></tr>\n",
       "\t<tr><td>Institutions              </td><td>  174.93</td><td>  133.46</td><td>   44.03</td><td> 10.65</td><td> 229.10</td><td>  7.36</td><td>  599.53</td><td> 0.6</td></tr>\n",
       "\t<tr><td>Transportation            </td><td>  584.44</td><td> 1053.56</td><td>  635.84</td><td> 41.18</td><td>2221.68</td><td> 60.22</td><td> 4596.92</td><td> 4.6</td></tr>\n",
       "\t<tr><td>Protected Areas/Recreation</td><td> 2985.95</td><td> 7327.66</td><td> 1366.57</td><td>175.34</td><td> 497.53</td><td>253.08</td><td>12606.13</td><td>12.5</td></tr>\n",
       "\t<tr><td>Agriculture               </td><td>10537.42</td><td>14116.16</td><td>32224.38</td><td>418.39</td><td>1042.06</td><td>468.16</td><td>58806.57</td><td>58.2</td></tr>\n",
       "\t<tr><td>Water                     </td><td>  341.22</td><td>  845.23</td><td>  305.38</td><td>590.59</td><td> 104.24</td><td> 99.61</td><td> 2286.27</td><td> 2.3</td></tr>\n",
       "\t<tr><td>Under Development         </td><td>  103.27</td><td>  195.28</td><td>  215.01</td><td> 19.20</td><td> 257.68</td><td>  8.14</td><td>  798.58</td><td> 0.8</td></tr>\n",
       "</tbody>\n",
       "</table>\n"
      ],
      "text/latex": [
       "A data.frame: 11 x 9\n",
       "\\begin{tabular}{lllllllll}\n",
       " Land.Use & Grass & Tree & Crop & Water & Impervious & Shadow & Total & Perc\\\\\n",
       " <chr> & <dbl> & <dbl> & <dbl> & <dbl> & <dbl> & <dbl> & <dbl> & <dbl>\\\\\n",
       "\\hline\n",
       "\t Low Density Residential    &  1493.56 &  2236.91 &   695.79 & 105.22 &  445.13 & 165.57 &  5142.18 &  5.1\\\\\n",
       "\t Medium Density Residential &  1176.22 &  2642.14 &   377.67 & 224.51 & 3465.25 & 374.52 &  8260.31 &  8.2\\\\\n",
       "\t High Density Residential   &   211.59 &   422.25 &    66.34 &  46.94 &  710.86 &  53.31 &  1511.29 &  1.5\\\\\n",
       "\t Commercial                 &   550.25 &   513.21 &   293.74 &  78.65 & 1515.69 &  38.32 &  2989.86 &  3.0\\\\\n",
       "\t Industrial                 &   378.48 &   481.77 &   733.64 &  73.07 & 1677.90 &  31.00 &  3375.86 &  3.3\\\\\n",
       "\t Institutions               &   174.93 &   133.46 &    44.03 &  10.65 &  229.10 &   7.36 &   599.53 &  0.6\\\\\n",
       "\t Transportation             &   584.44 &  1053.56 &   635.84 &  41.18 & 2221.68 &  60.22 &  4596.92 &  4.6\\\\\n",
       "\t Protected Areas/Recreation &  2985.95 &  7327.66 &  1366.57 & 175.34 &  497.53 & 253.08 & 12606.13 & 12.5\\\\\n",
       "\t Agriculture                & 10537.42 & 14116.16 & 32224.38 & 418.39 & 1042.06 & 468.16 & 58806.57 & 58.2\\\\\n",
       "\t Water                      &   341.22 &   845.23 &   305.38 & 590.59 &  104.24 &  99.61 &  2286.27 &  2.3\\\\\n",
       "\t Under Development          &   103.27 &   195.28 &   215.01 &  19.20 &  257.68 &   8.14 &   798.58 &  0.8\\\\\n",
       "\\end{tabular}\n"
      ],
      "text/markdown": [
       "\n",
       "A data.frame: 11 x 9\n",
       "\n",
       "| Land.Use &lt;chr&gt; | Grass &lt;dbl&gt; | Tree &lt;dbl&gt; | Crop &lt;dbl&gt; | Water &lt;dbl&gt; | Impervious &lt;dbl&gt; | Shadow &lt;dbl&gt; | Total &lt;dbl&gt; | Perc &lt;dbl&gt; |\n",
       "|---|---|---|---|---|---|---|---|---|\n",
       "| Low Density Residential    |  1493.56 |  2236.91 |   695.79 | 105.22 |  445.13 | 165.57 |  5142.18 |  5.1 |\n",
       "| Medium Density Residential |  1176.22 |  2642.14 |   377.67 | 224.51 | 3465.25 | 374.52 |  8260.31 |  8.2 |\n",
       "| High Density Residential   |   211.59 |   422.25 |    66.34 |  46.94 |  710.86 |  53.31 |  1511.29 |  1.5 |\n",
       "| Commercial                 |   550.25 |   513.21 |   293.74 |  78.65 | 1515.69 |  38.32 |  2989.86 |  3.0 |\n",
       "| Industrial                 |   378.48 |   481.77 |   733.64 |  73.07 | 1677.90 |  31.00 |  3375.86 |  3.3 |\n",
       "| Institutions               |   174.93 |   133.46 |    44.03 |  10.65 |  229.10 |   7.36 |   599.53 |  0.6 |\n",
       "| Transportation             |   584.44 |  1053.56 |   635.84 |  41.18 | 2221.68 |  60.22 |  4596.92 |  4.6 |\n",
       "| Protected Areas/Recreation |  2985.95 |  7327.66 |  1366.57 | 175.34 |  497.53 | 253.08 | 12606.13 | 12.5 |\n",
       "| Agriculture                | 10537.42 | 14116.16 | 32224.38 | 418.39 | 1042.06 | 468.16 | 58806.57 | 58.2 |\n",
       "| Water                      |   341.22 |   845.23 |   305.38 | 590.59 |  104.24 |  99.61 |  2286.27 |  2.3 |\n",
       "| Under Development          |   103.27 |   195.28 |   215.01 |  19.20 |  257.68 |   8.14 |   798.58 |  0.8 |\n",
       "\n"
      ],
      "text/plain": [
       "   Land.Use                   Grass    Tree     Crop     Water  Impervious\n",
       "1  Low Density Residential     1493.56  2236.91   695.79 105.22  445.13   \n",
       "2  Medium Density Residential  1176.22  2642.14   377.67 224.51 3465.25   \n",
       "3  High Density Residential     211.59   422.25    66.34  46.94  710.86   \n",
       "4  Commercial                   550.25   513.21   293.74  78.65 1515.69   \n",
       "5  Industrial                   378.48   481.77   733.64  73.07 1677.90   \n",
       "6  Institutions                 174.93   133.46    44.03  10.65  229.10   \n",
       "7  Transportation               584.44  1053.56   635.84  41.18 2221.68   \n",
       "8  Protected Areas/Recreation  2985.95  7327.66  1366.57 175.34  497.53   \n",
       "9  Agriculture                10537.42 14116.16 32224.38 418.39 1042.06   \n",
       "10 Water                        341.22   845.23   305.38 590.59  104.24   \n",
       "11 Under Development            103.27   195.28   215.01  19.20  257.68   \n",
       "   Shadow Total    Perc\n",
       "1  165.57  5142.18  5.1\n",
       "2  374.52  8260.31  8.2\n",
       "3   53.31  1511.29  1.5\n",
       "4   38.32  2989.86  3.0\n",
       "5   31.00  3375.86  3.3\n",
       "6    7.36   599.53  0.6\n",
       "7   60.22  4596.92  4.6\n",
       "8  253.08 12606.13 12.5\n",
       "9  468.16 58806.57 58.2\n",
       "10  99.61  2286.27  2.3\n",
       "11   8.14   798.58  0.8"
      ]
     },
     "metadata": {},
     "output_type": "display_data"
    }
   ],
   "source": [
    "print(\"Table F1 - Manuscript\")\n",
    "lc_data"
   ]
  },
  {
   "cell_type": "markdown",
   "id": "b72594cb-ce82-4982-a469-a08eb714593e",
   "metadata": {},
   "source": [
    "Now we can calculate the carbon for each of the different land covers for each land use. To do this we will use a simple equation of <br>\n",
    "<i>C<sub>Grass</sub> = LU<sub>Area</sub> * C<sub>Soils</sub></i> <br>\n",
    "<i>C<sub>Cropland</sub> = LU<sub>Area</sub> * C<sub>Soils</sub></i> <br>\n",
    "<i>C<sub>Trees</sub> = LU<sub>Area</sub> * (C<sub>Soils</sub> + C<sub>Trees</sub>)</i><br>\n",
    "\n",
    "we then divide the outcome by 1,000,000 to convert from kilogram (kg) to gigagram (Gg) and we use the `round()` function to round the result to 2 decimal places. "
   ]
  },
  {
   "cell_type": "code",
   "execution_count": 39,
   "id": "1f445367-dfc0-4578-b6ef-9b4ac4e7654c",
   "metadata": {},
   "outputs": [],
   "source": [
    "C_grass <- round(lc_data$Grass * 10000 * (soilCbylu$Grass)/1000000, 2)"
   ]
  },
  {
   "cell_type": "code",
   "execution_count": 40,
   "id": "cf6975b6-a85c-49f9-af7c-8b792a7bd262",
   "metadata": {},
   "outputs": [],
   "source": [
    "C_cropland <- round(lc_data$Crop * 10000 * (soilCbylu$Cropland)/1000000, 2) "
   ]
  },
  {
   "cell_type": "code",
   "execution_count": 41,
   "id": "bfb0bd1e-6d7f-434e-845c-993f8b65690b",
   "metadata": {},
   "outputs": [],
   "source": [
    "C_tree <- round(lc_data$Tree * 10000 * (soilCbylu$Tree + C_trees_kg_m2) / 1000000, 2)"
   ]
  },
  {
   "cell_type": "markdown",
   "id": "a179a019-a751-4bf7-9519-88184ad80cdd",
   "metadata": {},
   "source": [
    "The result is a matrix that we convert to a dataframe using the `as.data.frame()` function. We assign column headings using the `colnames()` function and convert the columns to `numeric` data types instead of chr type."
   ]
  },
  {
   "cell_type": "code",
   "execution_count": 42,
   "id": "c6532a47-7f0f-4eab-95b8-28851a63231e",
   "metadata": {},
   "outputs": [],
   "source": [
    "totalCarbon <- as.data.frame(cbind(lulc_categories, C_grass, C_tree, C_cropland))\n",
    "colnames(totalCarbon) <- c(\"Land.Use\",\"Grass\",\"Trees\",\"Cropland\")\n",
    "totalCarbon$Grass <- as.numeric(totalCarbon$Grass)\n",
    "totalCarbon$Trees <- as.numeric(totalCarbon$Trees)\n",
    "totalCarbon$Cropland <- as.numeric(totalCarbon$Cropland)"
   ]
  },
  {
   "cell_type": "markdown",
   "id": "f5ece67e-a69f-4cc1-bd4e-7a45962a6470",
   "metadata": {},
   "source": [
    "Next we calculate the total carbon for each land use type using `rowSums()` and the percent of all carbon stored in the landscape represented by each land use type."
   ]
  },
  {
   "cell_type": "code",
   "execution_count": 43,
   "id": "3ab95b2e-267c-422c-bddc-748137d1b2bb",
   "metadata": {},
   "outputs": [],
   "source": [
    "totalCarbon[ ,\"Total\"] <- rowSums(totalCarbon[,2:4])\n",
    "totalCarbon[ ,\"Perc\"] <- round(totalCarbon$Total/sum(totalCarbon$Total)*100, 1)"
   ]
  },
  {
   "cell_type": "markdown",
   "id": "5dbe2665-25f6-40f1-9b19-9ddf90da35a5",
   "metadata": {},
   "source": [
    "Calculate the carbon density for each land use type."
   ]
  },
  {
   "cell_type": "code",
   "execution_count": 44,
   "id": "e40494c0-5893-4def-8b3f-b7816ba32b6f",
   "metadata": {},
   "outputs": [],
   "source": [
    "totalCarbon[ ,\"Cdens\"] <- round(totalCarbon$Total / lc_data$Total, 4)"
   ]
  },
  {
   "cell_type": "markdown",
   "id": "b585a3ec-0e3e-4d82-8458-b4fa69747cc3",
   "metadata": {},
   "source": [
    "Lastly, we can display our table of gigagrams (Gg) of carbon per land cover by land use type, with `Cdens` displaying Gg C ha<sup>-1</sup>"
   ]
  },
  {
   "cell_type": "code",
   "execution_count": 45,
   "id": "a7ef2d50-1105-4c45-9e3d-ae82610e96c9",
   "metadata": {
    "tags": []
   },
   "outputs": [
    {
     "name": "stdout",
     "output_type": "stream",
     "text": [
      "[1] \"Table F2 - Manuscript\"\n"
     ]
    },
    {
     "data": {
      "text/html": [
       "<table class=\"dataframe\">\n",
       "<caption>A data.frame: 11 x 7</caption>\n",
       "<thead>\n",
       "\t<tr><th scope=col>Land.Use</th><th scope=col>Grass</th><th scope=col>Trees</th><th scope=col>Cropland</th><th scope=col>Total</th><th scope=col>Perc</th><th scope=col>Cdens</th></tr>\n",
       "\t<tr><th scope=col>&lt;chr&gt;</th><th scope=col>&lt;dbl&gt;</th><th scope=col>&lt;dbl&gt;</th><th scope=col>&lt;dbl&gt;</th><th scope=col>&lt;dbl&gt;</th><th scope=col>&lt;dbl&gt;</th><th scope=col>&lt;dbl&gt;</th></tr>\n",
       "</thead>\n",
       "<tbody>\n",
       "\t<tr><td>Low Density Residential   </td><td>113.23</td><td> 292.92</td><td>  48.71</td><td> 454.86</td><td> 6.2</td><td>0.0885</td></tr>\n",
       "\t<tr><td>Medium Density Residential</td><td> 46.93</td><td> 254.44</td><td>  26.44</td><td> 327.81</td><td> 4.5</td><td>0.0397</td></tr>\n",
       "\t<tr><td>High Density Residential  </td><td>  8.44</td><td>  40.66</td><td>   4.64</td><td>  53.74</td><td> 0.7</td><td>0.0356</td></tr>\n",
       "\t<tr><td>Commercial                </td><td> 21.95</td><td>  29.66</td><td>  20.56</td><td>  72.17</td><td> 1.0</td><td>0.0241</td></tr>\n",
       "\t<tr><td>Industrial                </td><td> 15.10</td><td>  27.85</td><td>  51.35</td><td>  94.30</td><td> 1.3</td><td>0.0279</td></tr>\n",
       "\t<tr><td>Institutions              </td><td>  6.98</td><td>  12.85</td><td>   3.08</td><td>  22.91</td><td> 0.3</td><td>0.0382</td></tr>\n",
       "\t<tr><td>Transportation            </td><td> 23.32</td><td>  60.90</td><td>  44.51</td><td> 128.73</td><td> 1.8</td><td>0.0280</td></tr>\n",
       "\t<tr><td>Protected Areas           </td><td>226.36</td><td> 959.56</td><td>  95.66</td><td>1281.58</td><td>17.5</td><td>0.1017</td></tr>\n",
       "\t<tr><td>Agriculture               </td><td>737.62</td><td>1804.05</td><td>2255.71</td><td>4797.38</td><td>65.4</td><td>0.0816</td></tr>\n",
       "\t<tr><td>Water                     </td><td>  0.00</td><td>  48.85</td><td>   0.00</td><td>  48.85</td><td> 0.7</td><td>0.0214</td></tr>\n",
       "\t<tr><td>Under Development         </td><td>  7.23</td><td>  25.57</td><td>  15.05</td><td>  47.85</td><td> 0.7</td><td>0.0599</td></tr>\n",
       "</tbody>\n",
       "</table>\n"
      ],
      "text/latex": [
       "A data.frame: 11 x 7\n",
       "\\begin{tabular}{lllllll}\n",
       " Land.Use & Grass & Trees & Cropland & Total & Perc & Cdens\\\\\n",
       " <chr> & <dbl> & <dbl> & <dbl> & <dbl> & <dbl> & <dbl>\\\\\n",
       "\\hline\n",
       "\t Low Density Residential    & 113.23 &  292.92 &   48.71 &  454.86 &  6.2 & 0.0885\\\\\n",
       "\t Medium Density Residential &  46.93 &  254.44 &   26.44 &  327.81 &  4.5 & 0.0397\\\\\n",
       "\t High Density Residential   &   8.44 &   40.66 &    4.64 &   53.74 &  0.7 & 0.0356\\\\\n",
       "\t Commercial                 &  21.95 &   29.66 &   20.56 &   72.17 &  1.0 & 0.0241\\\\\n",
       "\t Industrial                 &  15.10 &   27.85 &   51.35 &   94.30 &  1.3 & 0.0279\\\\\n",
       "\t Institutions               &   6.98 &   12.85 &    3.08 &   22.91 &  0.3 & 0.0382\\\\\n",
       "\t Transportation             &  23.32 &   60.90 &   44.51 &  128.73 &  1.8 & 0.0280\\\\\n",
       "\t Protected Areas            & 226.36 &  959.56 &   95.66 & 1281.58 & 17.5 & 0.1017\\\\\n",
       "\t Agriculture                & 737.62 & 1804.05 & 2255.71 & 4797.38 & 65.4 & 0.0816\\\\\n",
       "\t Water                      &   0.00 &   48.85 &    0.00 &   48.85 &  0.7 & 0.0214\\\\\n",
       "\t Under Development          &   7.23 &   25.57 &   15.05 &   47.85 &  0.7 & 0.0599\\\\\n",
       "\\end{tabular}\n"
      ],
      "text/markdown": [
       "\n",
       "A data.frame: 11 x 7\n",
       "\n",
       "| Land.Use &lt;chr&gt; | Grass &lt;dbl&gt; | Trees &lt;dbl&gt; | Cropland &lt;dbl&gt; | Total &lt;dbl&gt; | Perc &lt;dbl&gt; | Cdens &lt;dbl&gt; |\n",
       "|---|---|---|---|---|---|---|\n",
       "| Low Density Residential    | 113.23 |  292.92 |   48.71 |  454.86 |  6.2 | 0.0885 |\n",
       "| Medium Density Residential |  46.93 |  254.44 |   26.44 |  327.81 |  4.5 | 0.0397 |\n",
       "| High Density Residential   |   8.44 |   40.66 |    4.64 |   53.74 |  0.7 | 0.0356 |\n",
       "| Commercial                 |  21.95 |   29.66 |   20.56 |   72.17 |  1.0 | 0.0241 |\n",
       "| Industrial                 |  15.10 |   27.85 |   51.35 |   94.30 |  1.3 | 0.0279 |\n",
       "| Institutions               |   6.98 |   12.85 |    3.08 |   22.91 |  0.3 | 0.0382 |\n",
       "| Transportation             |  23.32 |   60.90 |   44.51 |  128.73 |  1.8 | 0.0280 |\n",
       "| Protected Areas            | 226.36 |  959.56 |   95.66 | 1281.58 | 17.5 | 0.1017 |\n",
       "| Agriculture                | 737.62 | 1804.05 | 2255.71 | 4797.38 | 65.4 | 0.0816 |\n",
       "| Water                      |   0.00 |   48.85 |    0.00 |   48.85 |  0.7 | 0.0214 |\n",
       "| Under Development          |   7.23 |   25.57 |   15.05 |   47.85 |  0.7 | 0.0599 |\n",
       "\n"
      ],
      "text/plain": [
       "   Land.Use                   Grass  Trees   Cropland Total   Perc Cdens \n",
       "1  Low Density Residential    113.23  292.92   48.71   454.86  6.2 0.0885\n",
       "2  Medium Density Residential  46.93  254.44   26.44   327.81  4.5 0.0397\n",
       "3  High Density Residential     8.44   40.66    4.64    53.74  0.7 0.0356\n",
       "4  Commercial                  21.95   29.66   20.56    72.17  1.0 0.0241\n",
       "5  Industrial                  15.10   27.85   51.35    94.30  1.3 0.0279\n",
       "6  Institutions                 6.98   12.85    3.08    22.91  0.3 0.0382\n",
       "7  Transportation              23.32   60.90   44.51   128.73  1.8 0.0280\n",
       "8  Protected Areas            226.36  959.56   95.66  1281.58 17.5 0.1017\n",
       "9  Agriculture                737.62 1804.05 2255.71  4797.38 65.4 0.0816\n",
       "10 Water                        0.00   48.85    0.00    48.85  0.7 0.0214\n",
       "11 Under Development            7.23   25.57   15.05    47.85  0.7 0.0599"
      ]
     },
     "metadata": {},
     "output_type": "display_data"
    }
   ],
   "source": [
    "print (\"Table F2 - Manuscript\")\n",
    "totalCarbon"
   ]
  },
  {
   "cell_type": "markdown",
   "id": "75692721-6478-4f21-b03d-1dedd9f717ed",
   "metadata": {},
   "source": [
    "To better understand our carbon density values, we translate the density from Gg C ha<sup>-1</sup> to kg C m<sup>-2</sup>."
   ]
  },
  {
   "cell_type": "code",
   "execution_count": 46,
   "id": "86a1c82d-444e-4882-8462-f0d346ff0c02",
   "metadata": {},
   "outputs": [
    {
     "data": {
      "text/html": [
       "<style>\n",
       ".list-inline {list-style: none; margin:0; padding: 0}\n",
       ".list-inline>li {display: inline-block}\n",
       ".list-inline>li:not(:last-child)::after {content: \"\\00b7\"; padding: 0 .5ex}\n",
       "</style>\n",
       "<ol class=list-inline><li>8.85</li><li>3.97</li><li>3.56</li><li>2.41</li><li>2.79</li><li>3.82</li><li>2.8</li><li>10.17</li><li>8.16</li><li>2.14</li><li>5.99</li></ol>\n"
      ],
      "text/latex": [
       "\\begin{enumerate*}\n",
       "\\item 8.85\n",
       "\\item 3.97\n",
       "\\item 3.56\n",
       "\\item 2.41\n",
       "\\item 2.79\n",
       "\\item 3.82\n",
       "\\item 2.8\n",
       "\\item 10.17\n",
       "\\item 8.16\n",
       "\\item 2.14\n",
       "\\item 5.99\n",
       "\\end{enumerate*}\n"
      ],
      "text/markdown": [
       "1. 8.85\n",
       "2. 3.97\n",
       "3. 3.56\n",
       "4. 2.41\n",
       "5. 2.79\n",
       "6. 3.82\n",
       "7. 2.8\n",
       "8. 10.17\n",
       "9. 8.16\n",
       "10. 2.14\n",
       "11. 5.99\n",
       "\n",
       "\n"
      ],
      "text/plain": [
       " [1]  8.85  3.97  3.56  2.41  2.79  3.82  2.80 10.17  8.16  2.14  5.99"
      ]
     },
     "metadata": {},
     "output_type": "display_data"
    }
   ],
   "source": [
    "# Gg / ha --> kg / m2\n",
    "totalCarbon$Cdens * 100"
   ]
  },
  {
   "cell_type": "markdown",
   "id": "fdfe49cc-a851-4d29-b8db-204fba8c760f",
   "metadata": {},
   "source": [
    "# Estimates of Carbon by Parcel Size (Tables F3 & F4 - Manuscript)\n",
    "\n",
    "Using the same classified imagery as above, areas of different land cover have been summarized by parcel size (ha) and put into a comma separated value (.csv) file. Next we'll read in that .csv and estimate carbon values for each land cover to see if there is a relationship between parcel size and carbon storage."
   ]
  },
  {
   "cell_type": "code",
   "execution_count": 47,
   "id": "214b3e3a-96e1-4fde-bdf9-a446b6b594c5",
   "metadata": {},
   "outputs": [],
   "source": [
    "lc_parcel_data <- read.csv(\"parcelha.csv\")"
   ]
  },
  {
   "cell_type": "code",
   "execution_count": 48,
   "id": "291d0d30-7a11-4083-b4e4-7ac6e5875f60",
   "metadata": {},
   "outputs": [
    {
     "data": {
      "text/html": [
       "<table class=\"dataframe\">\n",
       "<caption>A data.frame: 9 x 7</caption>\n",
       "<thead>\n",
       "\t<tr><th scope=col>ParcelSizeha</th><th scope=col>Grass</th><th scope=col>Tree</th><th scope=col>Crop</th><th scope=col>Water</th><th scope=col>Impervious</th><th scope=col>Shadow</th></tr>\n",
       "\t<tr><th scope=col>&lt;chr&gt;</th><th scope=col>&lt;dbl&gt;</th><th scope=col>&lt;dbl&gt;</th><th scope=col>&lt;dbl&gt;</th><th scope=col>&lt;dbl&gt;</th><th scope=col>&lt;dbl&gt;</th><th scope=col>&lt;dbl&gt;</th></tr>\n",
       "</thead>\n",
       "<tbody>\n",
       "\t<tr><td>0-0.404    </td><td> 1479.83</td><td> 3216.77</td><td>  458.27</td><td> 200.13</td><td>3840.52</td><td>439.05</td></tr>\n",
       "\t<tr><td>0.405-0.809</td><td>  510.43</td><td>  845.24</td><td>  208.20</td><td>  54.07</td><td>1285.91</td><td> 69.85</td></tr>\n",
       "\t<tr><td>0.810-1.219</td><td>  378.08</td><td>  581.35</td><td>  187.04</td><td>  46.53</td><td> 951.65</td><td> 44.52</td></tr>\n",
       "\t<tr><td>1.220-1.619</td><td>  280.12</td><td>  417.33</td><td>  135.31</td><td>  35.53</td><td> 610.81</td><td> 30.14</td></tr>\n",
       "\t<tr><td>1.620-2.429</td><td>  436.53</td><td>  684.31</td><td>  254.07</td><td>  49.10</td><td> 778.09</td><td> 39.37</td></tr>\n",
       "\t<tr><td>2.430-3.649</td><td>  510.27</td><td>  783.91</td><td>  334.19</td><td>  44.24</td><td> 768.59</td><td> 41.69</td></tr>\n",
       "\t<tr><td>3.650-4.459</td><td>  320.21</td><td>  651.96</td><td>  306.99</td><td>  35.21</td><td> 353.32</td><td> 31.23</td></tr>\n",
       "\t<tr><td>4.460-8.099</td><td>  930.77</td><td> 1774.81</td><td>  869.47</td><td>  88.41</td><td> 849.17</td><td> 77.78</td></tr>\n",
       "\t<tr><td>8.1+       </td><td>13691.07</td><td>21012.03</td><td>34204.83</td><td>1230.51</td><td>2719.90</td><td>785.66</td></tr>\n",
       "</tbody>\n",
       "</table>\n"
      ],
      "text/latex": [
       "A data.frame: 9 x 7\n",
       "\\begin{tabular}{lllllll}\n",
       " ParcelSizeha & Grass & Tree & Crop & Water & Impervious & Shadow\\\\\n",
       " <chr> & <dbl> & <dbl> & <dbl> & <dbl> & <dbl> & <dbl>\\\\\n",
       "\\hline\n",
       "\t 0-0.404     &  1479.83 &  3216.77 &   458.27 &  200.13 & 3840.52 & 439.05\\\\\n",
       "\t 0.405-0.809 &   510.43 &   845.24 &   208.20 &   54.07 & 1285.91 &  69.85\\\\\n",
       "\t 0.810-1.219 &   378.08 &   581.35 &   187.04 &   46.53 &  951.65 &  44.52\\\\\n",
       "\t 1.220-1.619 &   280.12 &   417.33 &   135.31 &   35.53 &  610.81 &  30.14\\\\\n",
       "\t 1.620-2.429 &   436.53 &   684.31 &   254.07 &   49.10 &  778.09 &  39.37\\\\\n",
       "\t 2.430-3.649 &   510.27 &   783.91 &   334.19 &   44.24 &  768.59 &  41.69\\\\\n",
       "\t 3.650-4.459 &   320.21 &   651.96 &   306.99 &   35.21 &  353.32 &  31.23\\\\\n",
       "\t 4.460-8.099 &   930.77 &  1774.81 &   869.47 &   88.41 &  849.17 &  77.78\\\\\n",
       "\t 8.1+        & 13691.07 & 21012.03 & 34204.83 & 1230.51 & 2719.90 & 785.66\\\\\n",
       "\\end{tabular}\n"
      ],
      "text/markdown": [
       "\n",
       "A data.frame: 9 x 7\n",
       "\n",
       "| ParcelSizeha &lt;chr&gt; | Grass &lt;dbl&gt; | Tree &lt;dbl&gt; | Crop &lt;dbl&gt; | Water &lt;dbl&gt; | Impervious &lt;dbl&gt; | Shadow &lt;dbl&gt; |\n",
       "|---|---|---|---|---|---|---|\n",
       "| 0-0.404     |  1479.83 |  3216.77 |   458.27 |  200.13 | 3840.52 | 439.05 |\n",
       "| 0.405-0.809 |   510.43 |   845.24 |   208.20 |   54.07 | 1285.91 |  69.85 |\n",
       "| 0.810-1.219 |   378.08 |   581.35 |   187.04 |   46.53 |  951.65 |  44.52 |\n",
       "| 1.220-1.619 |   280.12 |   417.33 |   135.31 |   35.53 |  610.81 |  30.14 |\n",
       "| 1.620-2.429 |   436.53 |   684.31 |   254.07 |   49.10 |  778.09 |  39.37 |\n",
       "| 2.430-3.649 |   510.27 |   783.91 |   334.19 |   44.24 |  768.59 |  41.69 |\n",
       "| 3.650-4.459 |   320.21 |   651.96 |   306.99 |   35.21 |  353.32 |  31.23 |\n",
       "| 4.460-8.099 |   930.77 |  1774.81 |   869.47 |   88.41 |  849.17 |  77.78 |\n",
       "| 8.1+        | 13691.07 | 21012.03 | 34204.83 | 1230.51 | 2719.90 | 785.66 |\n",
       "\n"
      ],
      "text/plain": [
       "  ParcelSizeha Grass    Tree     Crop     Water   Impervious Shadow\n",
       "1 0-0.404       1479.83  3216.77   458.27  200.13 3840.52    439.05\n",
       "2 0.405-0.809    510.43   845.24   208.20   54.07 1285.91     69.85\n",
       "3 0.810-1.219    378.08   581.35   187.04   46.53  951.65     44.52\n",
       "4 1.220-1.619    280.12   417.33   135.31   35.53  610.81     30.14\n",
       "5 1.620-2.429    436.53   684.31   254.07   49.10  778.09     39.37\n",
       "6 2.430-3.649    510.27   783.91   334.19   44.24  768.59     41.69\n",
       "7 3.650-4.459    320.21   651.96   306.99   35.21  353.32     31.23\n",
       "8 4.460-8.099    930.77  1774.81   869.47   88.41  849.17     77.78\n",
       "9 8.1+         13691.07 21012.03 34204.83 1230.51 2719.90    785.66"
      ]
     },
     "metadata": {},
     "output_type": "display_data"
    }
   ],
   "source": [
    "lc_parcel_data"
   ]
  },
  {
   "cell_type": "code",
   "execution_count": 49,
   "id": "8aabc77e-6723-4dae-8066-d85a18100713",
   "metadata": {},
   "outputs": [],
   "source": [
    "lc_parcel_data[ ,\"Total\"] <- rowSums(lc_parcel_data[,2:7])"
   ]
  },
  {
   "cell_type": "code",
   "execution_count": 50,
   "id": "7fb5d76c-eedf-4a54-83d3-cc3b81a1afe1",
   "metadata": {},
   "outputs": [],
   "source": [
    "lc_parcel_data[ ,\"Perc\"] <- round(lc_parcel_data$Total/sum(lc_parcel_data$Total)*100, 1)"
   ]
  },
  {
   "cell_type": "code",
   "execution_count": 51,
   "id": "2d432715-947c-49e7-bc1b-3d4deddc07cc",
   "metadata": {},
   "outputs": [
    {
     "name": "stdout",
     "output_type": "stream",
     "text": [
      "[1] \"Table F3 - Manuscript\"\n"
     ]
    },
    {
     "data": {
      "text/html": [
       "<table class=\"dataframe\">\n",
       "<caption>A data.frame: 9 x 9</caption>\n",
       "<thead>\n",
       "\t<tr><th scope=col>ParcelSizeha</th><th scope=col>Grass</th><th scope=col>Tree</th><th scope=col>Crop</th><th scope=col>Water</th><th scope=col>Impervious</th><th scope=col>Shadow</th><th scope=col>Total</th><th scope=col>Perc</th></tr>\n",
       "\t<tr><th scope=col>&lt;chr&gt;</th><th scope=col>&lt;dbl&gt;</th><th scope=col>&lt;dbl&gt;</th><th scope=col>&lt;dbl&gt;</th><th scope=col>&lt;dbl&gt;</th><th scope=col>&lt;dbl&gt;</th><th scope=col>&lt;dbl&gt;</th><th scope=col>&lt;dbl&gt;</th><th scope=col>&lt;dbl&gt;</th></tr>\n",
       "</thead>\n",
       "<tbody>\n",
       "\t<tr><td>0-0.404    </td><td> 1479.83</td><td> 3216.77</td><td>  458.27</td><td> 200.13</td><td>3840.52</td><td>439.05</td><td> 9634.57</td><td> 9.5</td></tr>\n",
       "\t<tr><td>0.405-0.809</td><td>  510.43</td><td>  845.24</td><td>  208.20</td><td>  54.07</td><td>1285.91</td><td> 69.85</td><td> 2973.70</td><td> 2.9</td></tr>\n",
       "\t<tr><td>0.810-1.219</td><td>  378.08</td><td>  581.35</td><td>  187.04</td><td>  46.53</td><td> 951.65</td><td> 44.52</td><td> 2189.17</td><td> 2.2</td></tr>\n",
       "\t<tr><td>1.220-1.619</td><td>  280.12</td><td>  417.33</td><td>  135.31</td><td>  35.53</td><td> 610.81</td><td> 30.14</td><td> 1509.24</td><td> 1.5</td></tr>\n",
       "\t<tr><td>1.620-2.429</td><td>  436.53</td><td>  684.31</td><td>  254.07</td><td>  49.10</td><td> 778.09</td><td> 39.37</td><td> 2241.47</td><td> 2.2</td></tr>\n",
       "\t<tr><td>2.430-3.649</td><td>  510.27</td><td>  783.91</td><td>  334.19</td><td>  44.24</td><td> 768.59</td><td> 41.69</td><td> 2482.89</td><td> 2.5</td></tr>\n",
       "\t<tr><td>3.650-4.459</td><td>  320.21</td><td>  651.96</td><td>  306.99</td><td>  35.21</td><td> 353.32</td><td> 31.23</td><td> 1698.92</td><td> 1.7</td></tr>\n",
       "\t<tr><td>4.460-8.099</td><td>  930.77</td><td> 1774.81</td><td>  869.47</td><td>  88.41</td><td> 849.17</td><td> 77.78</td><td> 4590.41</td><td> 4.5</td></tr>\n",
       "\t<tr><td>8.1+       </td><td>13691.07</td><td>21012.03</td><td>34204.83</td><td>1230.51</td><td>2719.90</td><td>785.66</td><td>73644.00</td><td>72.9</td></tr>\n",
       "</tbody>\n",
       "</table>\n"
      ],
      "text/latex": [
       "A data.frame: 9 x 9\n",
       "\\begin{tabular}{lllllllll}\n",
       " ParcelSizeha & Grass & Tree & Crop & Water & Impervious & Shadow & Total & Perc\\\\\n",
       " <chr> & <dbl> & <dbl> & <dbl> & <dbl> & <dbl> & <dbl> & <dbl> & <dbl>\\\\\n",
       "\\hline\n",
       "\t 0-0.404     &  1479.83 &  3216.77 &   458.27 &  200.13 & 3840.52 & 439.05 &  9634.57 &  9.5\\\\\n",
       "\t 0.405-0.809 &   510.43 &   845.24 &   208.20 &   54.07 & 1285.91 &  69.85 &  2973.70 &  2.9\\\\\n",
       "\t 0.810-1.219 &   378.08 &   581.35 &   187.04 &   46.53 &  951.65 &  44.52 &  2189.17 &  2.2\\\\\n",
       "\t 1.220-1.619 &   280.12 &   417.33 &   135.31 &   35.53 &  610.81 &  30.14 &  1509.24 &  1.5\\\\\n",
       "\t 1.620-2.429 &   436.53 &   684.31 &   254.07 &   49.10 &  778.09 &  39.37 &  2241.47 &  2.2\\\\\n",
       "\t 2.430-3.649 &   510.27 &   783.91 &   334.19 &   44.24 &  768.59 &  41.69 &  2482.89 &  2.5\\\\\n",
       "\t 3.650-4.459 &   320.21 &   651.96 &   306.99 &   35.21 &  353.32 &  31.23 &  1698.92 &  1.7\\\\\n",
       "\t 4.460-8.099 &   930.77 &  1774.81 &   869.47 &   88.41 &  849.17 &  77.78 &  4590.41 &  4.5\\\\\n",
       "\t 8.1+        & 13691.07 & 21012.03 & 34204.83 & 1230.51 & 2719.90 & 785.66 & 73644.00 & 72.9\\\\\n",
       "\\end{tabular}\n"
      ],
      "text/markdown": [
       "\n",
       "A data.frame: 9 x 9\n",
       "\n",
       "| ParcelSizeha &lt;chr&gt; | Grass &lt;dbl&gt; | Tree &lt;dbl&gt; | Crop &lt;dbl&gt; | Water &lt;dbl&gt; | Impervious &lt;dbl&gt; | Shadow &lt;dbl&gt; | Total &lt;dbl&gt; | Perc &lt;dbl&gt; |\n",
       "|---|---|---|---|---|---|---|---|---|\n",
       "| 0-0.404     |  1479.83 |  3216.77 |   458.27 |  200.13 | 3840.52 | 439.05 |  9634.57 |  9.5 |\n",
       "| 0.405-0.809 |   510.43 |   845.24 |   208.20 |   54.07 | 1285.91 |  69.85 |  2973.70 |  2.9 |\n",
       "| 0.810-1.219 |   378.08 |   581.35 |   187.04 |   46.53 |  951.65 |  44.52 |  2189.17 |  2.2 |\n",
       "| 1.220-1.619 |   280.12 |   417.33 |   135.31 |   35.53 |  610.81 |  30.14 |  1509.24 |  1.5 |\n",
       "| 1.620-2.429 |   436.53 |   684.31 |   254.07 |   49.10 |  778.09 |  39.37 |  2241.47 |  2.2 |\n",
       "| 2.430-3.649 |   510.27 |   783.91 |   334.19 |   44.24 |  768.59 |  41.69 |  2482.89 |  2.5 |\n",
       "| 3.650-4.459 |   320.21 |   651.96 |   306.99 |   35.21 |  353.32 |  31.23 |  1698.92 |  1.7 |\n",
       "| 4.460-8.099 |   930.77 |  1774.81 |   869.47 |   88.41 |  849.17 |  77.78 |  4590.41 |  4.5 |\n",
       "| 8.1+        | 13691.07 | 21012.03 | 34204.83 | 1230.51 | 2719.90 | 785.66 | 73644.00 | 72.9 |\n",
       "\n"
      ],
      "text/plain": [
       "  ParcelSizeha Grass    Tree     Crop     Water   Impervious Shadow Total   \n",
       "1 0-0.404       1479.83  3216.77   458.27  200.13 3840.52    439.05  9634.57\n",
       "2 0.405-0.809    510.43   845.24   208.20   54.07 1285.91     69.85  2973.70\n",
       "3 0.810-1.219    378.08   581.35   187.04   46.53  951.65     44.52  2189.17\n",
       "4 1.220-1.619    280.12   417.33   135.31   35.53  610.81     30.14  1509.24\n",
       "5 1.620-2.429    436.53   684.31   254.07   49.10  778.09     39.37  2241.47\n",
       "6 2.430-3.649    510.27   783.91   334.19   44.24  768.59     41.69  2482.89\n",
       "7 3.650-4.459    320.21   651.96   306.99   35.21  353.32     31.23  1698.92\n",
       "8 4.460-8.099    930.77  1774.81   869.47   88.41  849.17     77.78  4590.41\n",
       "9 8.1+         13691.07 21012.03 34204.83 1230.51 2719.90    785.66 73644.00\n",
       "  Perc\n",
       "1  9.5\n",
       "2  2.9\n",
       "3  2.2\n",
       "4  1.5\n",
       "5  2.2\n",
       "6  2.5\n",
       "7  1.7\n",
       "8  4.5\n",
       "9 72.9"
      ]
     },
     "metadata": {},
     "output_type": "display_data"
    }
   ],
   "source": [
    "print(\"Table F3 - Manuscript\")\n",
    "lc_parcel_data"
   ]
  },
  {
   "cell_type": "markdown",
   "id": "20010145-fe33-45d7-b649-1bb9d27bd8ba",
   "metadata": {},
   "source": [
    "The parcel data summary information includes all land-use types. Therefore, the carbon estimation uses an average soil carbon for Grass, Tree, and Crop from the soil carbon table for all land uses applied against the areas of each land cover within the different parcel size classes. Then we divide the outcome by 1000 to convert from kilogram (kg) to Gigagram (Gg) and use the `round()` function to round the result to 2 decimal places. "
   ]
  },
  {
   "cell_type": "code",
   "execution_count": 52,
   "id": "3cc66502-b372-481e-b775-4f8a75e4cd49",
   "metadata": {},
   "outputs": [],
   "source": [
    "C_grass_parcel <- round(lc_parcel_data$Grass * 10000 * (ave(soilCbylu$Grass)[1])/ 1000000, 2)\n",
    "C_cropland_parcel <- round(lc_parcel_data$Crop * 10000 * (ave(soilCbylu$Crop)[1])/1000000, 2)\n",
    "C_tree_parcel <- round(lc_parcel_data$Tree * 10000 * (ave(soilCbylu$Tree)[1] + C_trees_kg_m2) / 1000000, 2)"
   ]
  },
  {
   "cell_type": "markdown",
   "id": "ea3738c2-8c29-45d6-9954-c2f93b1bfb0f",
   "metadata": {},
   "source": [
    "As earlier, we can combine our parcel sizes with the carbon values we just calculated. Then ensure each column has a name and is a numeric data type (dbl)."
   ]
  },
  {
   "cell_type": "code",
   "execution_count": 53,
   "id": "c04545e2-ff5f-42f9-b686-0c40a3e41506",
   "metadata": {},
   "outputs": [],
   "source": [
    "parcelCarbon <- as.data.frame(cbind(lc_parcel_data$ParcelSizeha, C_grass_parcel, C_tree_parcel, C_cropland_parcel))\n",
    "colnames(parcelCarbon) <- c(\"ParcelSizeha\",\"Grass\",\"Trees\",\"Cropland\")\n",
    "parcelCarbon$Grass <- as.numeric(parcelCarbon$Grass)\n",
    "parcelCarbon$Trees <- as.numeric(parcelCarbon$Trees)\n",
    "parcelCarbon$Cropland <- as.numeric(parcelCarbon$Cropland)"
   ]
  },
  {
   "cell_type": "markdown",
   "id": "bfc15498-993e-4e37-82ef-ee656dbd5929",
   "metadata": {},
   "source": [
    "Now lets summarize the data by adding columns with the total amount of carbon, the percent of all parcel carbon represented by that parcel-size class, and the carbon density for that parcel size."
   ]
  },
  {
   "cell_type": "code",
   "execution_count": 54,
   "id": "8c4a191f-8ed5-4c93-807d-5836ea35d988",
   "metadata": {},
   "outputs": [],
   "source": [
    "parcelCarbon[ ,\"Total\"] <- rowSums(parcelCarbon[,2:4])"
   ]
  },
  {
   "cell_type": "code",
   "execution_count": 55,
   "id": "f5d9a754-b533-4cf0-b6e3-bcdf841eb067",
   "metadata": {},
   "outputs": [],
   "source": [
    "parcelCarbon[ ,\"Perc\"] <- round(parcelCarbon$Total/sum(parcelCarbon$Total)*100, 1)"
   ]
  },
  {
   "cell_type": "code",
   "execution_count": 56,
   "id": "95d3185f-844e-45c8-872a-d0f8e5400980",
   "metadata": {},
   "outputs": [],
   "source": [
    "parcelCarbon[ ,\"Cdens\"] <- round(parcelCarbon$Total / lc_parcel_data$Total, 4)"
   ]
  },
  {
   "cell_type": "markdown",
   "id": "947e66bd-268a-4b58-a2bf-02b0411729be",
   "metadata": {},
   "source": [
    "Then view the newly created table (i.e., dataframe)."
   ]
  },
  {
   "cell_type": "code",
   "execution_count": 57,
   "id": "a39dad93-e3df-415f-9463-f91efa345a2e",
   "metadata": {},
   "outputs": [
    {
     "name": "stdout",
     "output_type": "stream",
     "text": [
      "[1] \"Table 9 - Manuscript\"\n"
     ]
    },
    {
     "data": {
      "text/html": [
       "<table class=\"dataframe\">\n",
       "<caption>A data.frame: 9 x 7</caption>\n",
       "<thead>\n",
       "\t<tr><th scope=col>ParcelSizeha</th><th scope=col>Grass</th><th scope=col>Trees</th><th scope=col>Cropland</th><th scope=col>Total</th><th scope=col>Perc</th><th scope=col>Cdens</th></tr>\n",
       "\t<tr><th scope=col>&lt;chr&gt;</th><th scope=col>&lt;dbl&gt;</th><th scope=col>&lt;dbl&gt;</th><th scope=col>&lt;dbl&gt;</th><th scope=col>&lt;dbl&gt;</th><th scope=col>&lt;dbl&gt;</th><th scope=col>&lt;dbl&gt;</th></tr>\n",
       "</thead>\n",
       "<tbody>\n",
       "\t<tr><td>0-0.404    </td><td> 71.44</td><td> 304.35</td><td>  29.16</td><td> 404.95</td><td> 6.7</td><td>0.0420</td></tr>\n",
       "\t<tr><td>0.405-0.809</td><td> 24.64</td><td>  79.97</td><td>  13.25</td><td> 117.86</td><td> 1.9</td><td>0.0396</td></tr>\n",
       "\t<tr><td>0.810-1.219</td><td> 18.25</td><td>  55.00</td><td>  11.90</td><td>  85.15</td><td> 1.4</td><td>0.0389</td></tr>\n",
       "\t<tr><td>1.220-1.619</td><td> 13.52</td><td>  39.49</td><td>   8.61</td><td>  61.62</td><td> 1.0</td><td>0.0408</td></tr>\n",
       "\t<tr><td>1.620-2.429</td><td> 21.07</td><td>  64.75</td><td>  16.17</td><td> 101.99</td><td> 1.7</td><td>0.0455</td></tr>\n",
       "\t<tr><td>2.430-3.649</td><td> 24.63</td><td>  74.17</td><td>  21.27</td><td> 120.07</td><td> 2.0</td><td>0.0484</td></tr>\n",
       "\t<tr><td>3.650-4.459</td><td> 15.46</td><td>  61.68</td><td>  19.54</td><td>  96.68</td><td> 1.6</td><td>0.0569</td></tr>\n",
       "\t<tr><td>4.460-8.099</td><td> 44.93</td><td> 167.92</td><td>  55.33</td><td> 268.18</td><td> 4.4</td><td>0.0584</td></tr>\n",
       "\t<tr><td>8.1+       </td><td>660.93</td><td>1988.02</td><td>2176.67</td><td>4825.62</td><td>79.3</td><td>0.0655</td></tr>\n",
       "</tbody>\n",
       "</table>\n"
      ],
      "text/latex": [
       "A data.frame: 9 x 7\n",
       "\\begin{tabular}{lllllll}\n",
       " ParcelSizeha & Grass & Trees & Cropland & Total & Perc & Cdens\\\\\n",
       " <chr> & <dbl> & <dbl> & <dbl> & <dbl> & <dbl> & <dbl>\\\\\n",
       "\\hline\n",
       "\t 0-0.404     &  71.44 &  304.35 &   29.16 &  404.95 &  6.7 & 0.0420\\\\\n",
       "\t 0.405-0.809 &  24.64 &   79.97 &   13.25 &  117.86 &  1.9 & 0.0396\\\\\n",
       "\t 0.810-1.219 &  18.25 &   55.00 &   11.90 &   85.15 &  1.4 & 0.0389\\\\\n",
       "\t 1.220-1.619 &  13.52 &   39.49 &    8.61 &   61.62 &  1.0 & 0.0408\\\\\n",
       "\t 1.620-2.429 &  21.07 &   64.75 &   16.17 &  101.99 &  1.7 & 0.0455\\\\\n",
       "\t 2.430-3.649 &  24.63 &   74.17 &   21.27 &  120.07 &  2.0 & 0.0484\\\\\n",
       "\t 3.650-4.459 &  15.46 &   61.68 &   19.54 &   96.68 &  1.6 & 0.0569\\\\\n",
       "\t 4.460-8.099 &  44.93 &  167.92 &   55.33 &  268.18 &  4.4 & 0.0584\\\\\n",
       "\t 8.1+        & 660.93 & 1988.02 & 2176.67 & 4825.62 & 79.3 & 0.0655\\\\\n",
       "\\end{tabular}\n"
      ],
      "text/markdown": [
       "\n",
       "A data.frame: 9 x 7\n",
       "\n",
       "| ParcelSizeha &lt;chr&gt; | Grass &lt;dbl&gt; | Trees &lt;dbl&gt; | Cropland &lt;dbl&gt; | Total &lt;dbl&gt; | Perc &lt;dbl&gt; | Cdens &lt;dbl&gt; |\n",
       "|---|---|---|---|---|---|---|\n",
       "| 0-0.404     |  71.44 |  304.35 |   29.16 |  404.95 |  6.7 | 0.0420 |\n",
       "| 0.405-0.809 |  24.64 |   79.97 |   13.25 |  117.86 |  1.9 | 0.0396 |\n",
       "| 0.810-1.219 |  18.25 |   55.00 |   11.90 |   85.15 |  1.4 | 0.0389 |\n",
       "| 1.220-1.619 |  13.52 |   39.49 |    8.61 |   61.62 |  1.0 | 0.0408 |\n",
       "| 1.620-2.429 |  21.07 |   64.75 |   16.17 |  101.99 |  1.7 | 0.0455 |\n",
       "| 2.430-3.649 |  24.63 |   74.17 |   21.27 |  120.07 |  2.0 | 0.0484 |\n",
       "| 3.650-4.459 |  15.46 |   61.68 |   19.54 |   96.68 |  1.6 | 0.0569 |\n",
       "| 4.460-8.099 |  44.93 |  167.92 |   55.33 |  268.18 |  4.4 | 0.0584 |\n",
       "| 8.1+        | 660.93 | 1988.02 | 2176.67 | 4825.62 | 79.3 | 0.0655 |\n",
       "\n"
      ],
      "text/plain": [
       "  ParcelSizeha Grass  Trees   Cropland Total   Perc Cdens \n",
       "1 0-0.404       71.44  304.35   29.16   404.95  6.7 0.0420\n",
       "2 0.405-0.809   24.64   79.97   13.25   117.86  1.9 0.0396\n",
       "3 0.810-1.219   18.25   55.00   11.90    85.15  1.4 0.0389\n",
       "4 1.220-1.619   13.52   39.49    8.61    61.62  1.0 0.0408\n",
       "5 1.620-2.429   21.07   64.75   16.17   101.99  1.7 0.0455\n",
       "6 2.430-3.649   24.63   74.17   21.27   120.07  2.0 0.0484\n",
       "7 3.650-4.459   15.46   61.68   19.54    96.68  1.6 0.0569\n",
       "8 4.460-8.099   44.93  167.92   55.33   268.18  4.4 0.0584\n",
       "9 8.1+         660.93 1988.02 2176.67  4825.62 79.3 0.0655"
      ]
     },
     "metadata": {},
     "output_type": "display_data"
    }
   ],
   "source": [
    "print (\"Table 9 - Manuscript\")\n",
    "parcelCarbon"
   ]
  },
  {
   "cell_type": "markdown",
   "id": "474cfc22-0924-4c3d-a606-38cdf9fde253",
   "metadata": {},
   "source": [
    "Again, I like to view some of the data in kg m<sup>-2</sup>. So lets just look at the densities that way."
   ]
  },
  {
   "cell_type": "code",
   "execution_count": 58,
   "id": "847c9e86-f15e-43e3-bc37-b22d5b08c992",
   "metadata": {},
   "outputs": [
    {
     "data": {
      "text/html": [
       "<style>\n",
       ".list-inline {list-style: none; margin:0; padding: 0}\n",
       ".list-inline>li {display: inline-block}\n",
       ".list-inline>li:not(:last-child)::after {content: \"\\00b7\"; padding: 0 .5ex}\n",
       "</style>\n",
       "<ol class=list-inline><li>4.2</li><li>3.96</li><li>3.89</li><li>4.08</li><li>4.55</li><li>4.84</li><li>5.69</li><li>5.84</li><li>6.55</li></ol>\n"
      ],
      "text/latex": [
       "\\begin{enumerate*}\n",
       "\\item 4.2\n",
       "\\item 3.96\n",
       "\\item 3.89\n",
       "\\item 4.08\n",
       "\\item 4.55\n",
       "\\item 4.84\n",
       "\\item 5.69\n",
       "\\item 5.84\n",
       "\\item 6.55\n",
       "\\end{enumerate*}\n"
      ],
      "text/markdown": [
       "1. 4.2\n",
       "2. 3.96\n",
       "3. 3.89\n",
       "4. 4.08\n",
       "5. 4.55\n",
       "6. 4.84\n",
       "7. 5.69\n",
       "8. 5.84\n",
       "9. 6.55\n",
       "\n",
       "\n"
      ],
      "text/plain": [
       "[1] 4.20 3.96 3.89 4.08 4.55 4.84 5.69 5.84 6.55"
      ]
     },
     "metadata": {},
     "output_type": "display_data"
    }
   ],
   "source": [
    "# Gg / ha --> kg / m-2\n",
    "parcelCarbon$Cdens * 100"
   ]
  },
  {
   "cell_type": "markdown",
   "id": "2be8d69e-e603-4c46-8745-1878f700bc1c",
   "metadata": {},
   "source": [
    "# Estimates of Carbon by Parcle Size within Low-Density Residential Land Use (Table 2 - Manuscript)\n",
    "\n",
    "To assess carbon estimates by parcel size within the low-density residential land use classification, we use the same parcel sizes used in previous research for comparative purposes.\n",
    "\n",
    "* Land-cover fragmentation and configuration of ownership parcels in an exurban landscape<br>\n",
    "https://link.springer.com/article/10.1007/s11252-011-0205-4\n",
    "\n",
    "* Quantifying spatial–temporal change in land-cover and carbon storage among exurban residential parcels<br>\n",
    "https://link.springer.com/article/10.1007/s10980-013-9963-0\n",
    "\n",
    "This portion of the notebook was generated after the manuscript was completed. Therefore, minor rounding differences are present but the outcome values are very similar to those in the published manuscript.\n",
    "\n",
    "First we read in our table of land cover (ha) by parcel size."
   ]
  },
  {
   "cell_type": "code",
   "execution_count": 59,
   "id": "2ec9d3ff-3c5a-427a-93eb-e8c6090bcb5b",
   "metadata": {},
   "outputs": [],
   "source": [
    "ldr_data <- read.csv(\"LDRparcelcarbon.csv\")"
   ]
  },
  {
   "cell_type": "code",
   "execution_count": 60,
   "id": "e118d84e-bbbc-4ae2-ac25-39e5d12d13ba",
   "metadata": {},
   "outputs": [
    {
     "data": {
      "text/html": [
       "<table class=\"dataframe\">\n",
       "<caption>A data.frame: 18 x 9</caption>\n",
       "<thead>\n",
       "\t<tr><th scope=col>ParcelSize</th><th scope=col>Unit</th><th scope=col>n</th><th scope=col>LowBoundary</th><th scope=col>HighBoundary</th><th scope=col>Statistic</th><th scope=col>Grass</th><th scope=col>Trees</th><th scope=col>Cropland</th></tr>\n",
       "\t<tr><th scope=col>&lt;chr&gt;</th><th scope=col>&lt;chr&gt;</th><th scope=col>&lt;int&gt;</th><th scope=col>&lt;dbl&gt;</th><th scope=col>&lt;dbl&gt;</th><th scope=col>&lt;chr&gt;</th><th scope=col>&lt;dbl&gt;</th><th scope=col>&lt;dbl&gt;</th><th scope=col>&lt;dbl&gt;</th></tr>\n",
       "</thead>\n",
       "<tbody>\n",
       "\t<tr><td>0-0.404    </td><td>ha</td><td>4590</td><td>0.000</td><td>0.404</td><td>mean</td><td>0.06</td><td>0.11</td><td>0.01</td></tr>\n",
       "\t<tr><td>0-0.404    </td><td>ha</td><td>4590</td><td>0.000</td><td>0.404</td><td>sd  </td><td>0.05</td><td>0.04</td><td>0.02</td></tr>\n",
       "\t<tr><td>0.405-0.809</td><td>ha</td><td>1353</td><td>0.405</td><td>0.809</td><td>mean</td><td>0.18</td><td>0.25</td><td>0.03</td></tr>\n",
       "\t<tr><td>0.405-0.809</td><td>ha</td><td>1353</td><td>0.405</td><td>0.809</td><td>sd  </td><td>0.12</td><td>0.10</td><td>0.05</td></tr>\n",
       "\t<tr><td>0.810-1.219</td><td>ha</td><td> 444</td><td>0.810</td><td>1.219</td><td>mean</td><td>0.34</td><td>0.41</td><td>0.08</td></tr>\n",
       "\t<tr><td>0.810-1.219</td><td>ha</td><td> 444</td><td>0.810</td><td>1.219</td><td>sd  </td><td>0.22</td><td>0.18</td><td>0.11</td></tr>\n",
       "\t<tr><td>1.220-1.619</td><td>ha</td><td> 189</td><td>1.220</td><td>1.619</td><td>mean</td><td>0.48</td><td>0.61</td><td>0.13</td></tr>\n",
       "\t<tr><td>1.220-1.619</td><td>ha</td><td> 189</td><td>1.220</td><td>1.619</td><td>sd  </td><td>0.30</td><td>0.24</td><td>0.19</td></tr>\n",
       "\t<tr><td>1.620-2.429</td><td>ha</td><td> 147</td><td>1.620</td><td>2.429</td><td>mean</td><td>0.58</td><td>0.89</td><td>0.26</td></tr>\n",
       "\t<tr><td>1.620-2.429</td><td>ha</td><td> 147</td><td>1.620</td><td>2.429</td><td>sd  </td><td>0.42</td><td>0.38</td><td>0.39</td></tr>\n",
       "\t<tr><td>2.430-3.649</td><td>ha</td><td>  92</td><td>2.430</td><td>3.649</td><td>mean</td><td>0.85</td><td>1.20</td><td>0.55</td></tr>\n",
       "\t<tr><td>2.430-3.649</td><td>ha</td><td>  92</td><td>2.430</td><td>3.649</td><td>sd  </td><td>0.65</td><td>0.56</td><td>0.75</td></tr>\n",
       "\t<tr><td>3.650-4.459</td><td>ha</td><td>  53</td><td>3.650</td><td>4.459</td><td>mean</td><td>1.04</td><td>1.29</td><td>1.35</td></tr>\n",
       "\t<tr><td>3.650-4.459</td><td>ha</td><td>  53</td><td>3.650</td><td>4.459</td><td>sd  </td><td>0.90</td><td>0.63</td><td>1.08</td></tr>\n",
       "\t<tr><td>4.460-8.099</td><td>ha</td><td>  47</td><td>4.460</td><td>8.099</td><td>mean</td><td>1.60</td><td>1.89</td><td>1.66</td></tr>\n",
       "\t<tr><td>4.460-8.099</td><td>ha</td><td>  47</td><td>4.460</td><td>8.099</td><td>sd  </td><td>1.30</td><td>0.84</td><td>1.41</td></tr>\n",
       "\t<tr><td>8.1+       </td><td>ha</td><td>  92</td><td>8.100</td><td>   NA</td><td>mean</td><td>4.90</td><td>7.64</td><td>3.31</td></tr>\n",
       "\t<tr><td>8.1+       </td><td>ha</td><td>  92</td><td>8.100</td><td>   NA</td><td>sd  </td><td>5.47</td><td>4.63</td><td>3.58</td></tr>\n",
       "</tbody>\n",
       "</table>\n"
      ],
      "text/latex": [
       "A data.frame: 18 x 9\n",
       "\\begin{tabular}{lllllllll}\n",
       " ParcelSize & Unit & n & LowBoundary & HighBoundary & Statistic & Grass & Trees & Cropland\\\\\n",
       " <chr> & <chr> & <int> & <dbl> & <dbl> & <chr> & <dbl> & <dbl> & <dbl>\\\\\n",
       "\\hline\n",
       "\t 0-0.404     & ha & 4590 & 0.000 & 0.404 & mean & 0.06 & 0.11 & 0.01\\\\\n",
       "\t 0-0.404     & ha & 4590 & 0.000 & 0.404 & sd   & 0.05 & 0.04 & 0.02\\\\\n",
       "\t 0.405-0.809 & ha & 1353 & 0.405 & 0.809 & mean & 0.18 & 0.25 & 0.03\\\\\n",
       "\t 0.405-0.809 & ha & 1353 & 0.405 & 0.809 & sd   & 0.12 & 0.10 & 0.05\\\\\n",
       "\t 0.810-1.219 & ha &  444 & 0.810 & 1.219 & mean & 0.34 & 0.41 & 0.08\\\\\n",
       "\t 0.810-1.219 & ha &  444 & 0.810 & 1.219 & sd   & 0.22 & 0.18 & 0.11\\\\\n",
       "\t 1.220-1.619 & ha &  189 & 1.220 & 1.619 & mean & 0.48 & 0.61 & 0.13\\\\\n",
       "\t 1.220-1.619 & ha &  189 & 1.220 & 1.619 & sd   & 0.30 & 0.24 & 0.19\\\\\n",
       "\t 1.620-2.429 & ha &  147 & 1.620 & 2.429 & mean & 0.58 & 0.89 & 0.26\\\\\n",
       "\t 1.620-2.429 & ha &  147 & 1.620 & 2.429 & sd   & 0.42 & 0.38 & 0.39\\\\\n",
       "\t 2.430-3.649 & ha &   92 & 2.430 & 3.649 & mean & 0.85 & 1.20 & 0.55\\\\\n",
       "\t 2.430-3.649 & ha &   92 & 2.430 & 3.649 & sd   & 0.65 & 0.56 & 0.75\\\\\n",
       "\t 3.650-4.459 & ha &   53 & 3.650 & 4.459 & mean & 1.04 & 1.29 & 1.35\\\\\n",
       "\t 3.650-4.459 & ha &   53 & 3.650 & 4.459 & sd   & 0.90 & 0.63 & 1.08\\\\\n",
       "\t 4.460-8.099 & ha &   47 & 4.460 & 8.099 & mean & 1.60 & 1.89 & 1.66\\\\\n",
       "\t 4.460-8.099 & ha &   47 & 4.460 & 8.099 & sd   & 1.30 & 0.84 & 1.41\\\\\n",
       "\t 8.1+        & ha &   92 & 8.100 &    NA & mean & 4.90 & 7.64 & 3.31\\\\\n",
       "\t 8.1+        & ha &   92 & 8.100 &    NA & sd   & 5.47 & 4.63 & 3.58\\\\\n",
       "\\end{tabular}\n"
      ],
      "text/markdown": [
       "\n",
       "A data.frame: 18 x 9\n",
       "\n",
       "| ParcelSize &lt;chr&gt; | Unit &lt;chr&gt; | n &lt;int&gt; | LowBoundary &lt;dbl&gt; | HighBoundary &lt;dbl&gt; | Statistic &lt;chr&gt; | Grass &lt;dbl&gt; | Trees &lt;dbl&gt; | Cropland &lt;dbl&gt; |\n",
       "|---|---|---|---|---|---|---|---|---|\n",
       "| 0-0.404     | ha | 4590 | 0.000 | 0.404 | mean | 0.06 | 0.11 | 0.01 |\n",
       "| 0-0.404     | ha | 4590 | 0.000 | 0.404 | sd   | 0.05 | 0.04 | 0.02 |\n",
       "| 0.405-0.809 | ha | 1353 | 0.405 | 0.809 | mean | 0.18 | 0.25 | 0.03 |\n",
       "| 0.405-0.809 | ha | 1353 | 0.405 | 0.809 | sd   | 0.12 | 0.10 | 0.05 |\n",
       "| 0.810-1.219 | ha |  444 | 0.810 | 1.219 | mean | 0.34 | 0.41 | 0.08 |\n",
       "| 0.810-1.219 | ha |  444 | 0.810 | 1.219 | sd   | 0.22 | 0.18 | 0.11 |\n",
       "| 1.220-1.619 | ha |  189 | 1.220 | 1.619 | mean | 0.48 | 0.61 | 0.13 |\n",
       "| 1.220-1.619 | ha |  189 | 1.220 | 1.619 | sd   | 0.30 | 0.24 | 0.19 |\n",
       "| 1.620-2.429 | ha |  147 | 1.620 | 2.429 | mean | 0.58 | 0.89 | 0.26 |\n",
       "| 1.620-2.429 | ha |  147 | 1.620 | 2.429 | sd   | 0.42 | 0.38 | 0.39 |\n",
       "| 2.430-3.649 | ha |   92 | 2.430 | 3.649 | mean | 0.85 | 1.20 | 0.55 |\n",
       "| 2.430-3.649 | ha |   92 | 2.430 | 3.649 | sd   | 0.65 | 0.56 | 0.75 |\n",
       "| 3.650-4.459 | ha |   53 | 3.650 | 4.459 | mean | 1.04 | 1.29 | 1.35 |\n",
       "| 3.650-4.459 | ha |   53 | 3.650 | 4.459 | sd   | 0.90 | 0.63 | 1.08 |\n",
       "| 4.460-8.099 | ha |   47 | 4.460 | 8.099 | mean | 1.60 | 1.89 | 1.66 |\n",
       "| 4.460-8.099 | ha |   47 | 4.460 | 8.099 | sd   | 1.30 | 0.84 | 1.41 |\n",
       "| 8.1+        | ha |   92 | 8.100 |    NA | mean | 4.90 | 7.64 | 3.31 |\n",
       "| 8.1+        | ha |   92 | 8.100 |    NA | sd   | 5.47 | 4.63 | 3.58 |\n",
       "\n"
      ],
      "text/plain": [
       "   ParcelSize  Unit n    LowBoundary HighBoundary Statistic Grass Trees\n",
       "1  0-0.404     ha   4590 0.000       0.404        mean      0.06  0.11 \n",
       "2  0-0.404     ha   4590 0.000       0.404        sd        0.05  0.04 \n",
       "3  0.405-0.809 ha   1353 0.405       0.809        mean      0.18  0.25 \n",
       "4  0.405-0.809 ha   1353 0.405       0.809        sd        0.12  0.10 \n",
       "5  0.810-1.219 ha    444 0.810       1.219        mean      0.34  0.41 \n",
       "6  0.810-1.219 ha    444 0.810       1.219        sd        0.22  0.18 \n",
       "7  1.220-1.619 ha    189 1.220       1.619        mean      0.48  0.61 \n",
       "8  1.220-1.619 ha    189 1.220       1.619        sd        0.30  0.24 \n",
       "9  1.620-2.429 ha    147 1.620       2.429        mean      0.58  0.89 \n",
       "10 1.620-2.429 ha    147 1.620       2.429        sd        0.42  0.38 \n",
       "11 2.430-3.649 ha     92 2.430       3.649        mean      0.85  1.20 \n",
       "12 2.430-3.649 ha     92 2.430       3.649        sd        0.65  0.56 \n",
       "13 3.650-4.459 ha     53 3.650       4.459        mean      1.04  1.29 \n",
       "14 3.650-4.459 ha     53 3.650       4.459        sd        0.90  0.63 \n",
       "15 4.460-8.099 ha     47 4.460       8.099        mean      1.60  1.89 \n",
       "16 4.460-8.099 ha     47 4.460       8.099        sd        1.30  0.84 \n",
       "17 8.1+        ha     92 8.100          NA        mean      4.90  7.64 \n",
       "18 8.1+        ha     92 8.100          NA        sd        5.47  4.63 \n",
       "   Cropland\n",
       "1  0.01    \n",
       "2  0.02    \n",
       "3  0.03    \n",
       "4  0.05    \n",
       "5  0.08    \n",
       "6  0.11    \n",
       "7  0.13    \n",
       "8  0.19    \n",
       "9  0.26    \n",
       "10 0.39    \n",
       "11 0.55    \n",
       "12 0.75    \n",
       "13 1.35    \n",
       "14 1.08    \n",
       "15 1.66    \n",
       "16 1.41    \n",
       "17 3.31    \n",
       "18 3.58    "
      ]
     },
     "metadata": {},
     "output_type": "display_data"
    }
   ],
   "source": [
    "ldr_data"
   ]
  },
  {
   "cell_type": "markdown",
   "id": "6fdde725-3fe9-4b98-9e34-69f4597b9fb9",
   "metadata": {},
   "source": [
    "Remember above we set a threshold of 1 acre (0.404 ha) of area that would be landscaped and the rest of the area we would assume would not be landscaped. Therefore we will caculate the area landscaped first and then the remaining area as not landscaped for each parcel size bin. We use the mean and standard deviation (sd) areal calculations for our carbon estimates kg C."
   ]
  },
  {
   "cell_type": "code",
   "execution_count": 61,
   "id": "94e284a0-fde3-427e-a667-553a1d611fb4",
   "metadata": {},
   "outputs": [],
   "source": [
    "# Three variables that will hold carbon estimates. Just populating them with\n",
    "# the same data as earlier to ensure formatting and data types are the same\n",
    "C_grass_ldr <- round(ldr_data$Grass * 0.0, 3)\n",
    "C_trees_ldr <- round(ldr_data$Trees * 0.0, 3)\n",
    "C_cropland_ldr <- round(ldr_data$Cropland * 0.0, 3)"
   ]
  },
  {
   "cell_type": "markdown",
   "id": "ad965f1c-661b-4294-9e10-2a00c7c89e17",
   "metadata": {},
   "source": [
    "### Calculate proportion of parcel-size bin landscaped\n",
    "\n",
    "All carbon estimates were conducted assuming a land-use and land-cover analysis was already completed so that the same methods could be applied to historical land use and land cover tables/data and future land use and land cover generated tables. Given the ranges of parcel sizes we are working with and the average areas in Grass, Trees, and Cropland, we used the following approach:\n",
    "\n",
    "* identify the midpoint of the parcel bin range\n",
    "* divide that midpoint by our 1 acre (0.404 ha) threshold of area assumed to be landscaped (L<sub>threshold</sub>) to retrieve a proportion of the midpoint area that was landscaped or not landscaped (1 - L<sub>threshold</sub>)\n",
    "* multiply that proportion against the average land cover area (LC<sub>area</sub>) calculations to derive a proportion landscaped and not landscaped \n",
    "* multiply against the carbon estimate for a specific land cover (C<sub>LC</sub>) for non-landscaped area or the unmodified soils value for agriculture (C<sub>unmod</sub>) for the landscaped area\n",
    "\n",
    "midpoint = [(Bin<sub>upper</sub> - Bin<sub>lower</sub>) / 2] \n",
    "\n",
    "C<sub>parcel</sub> = midpoint / L<sub>threshold</sub> * LC<sub>area</sub> * C<sub>LC</sub> + midpoint / (1 - L<sub>threshold</sub>) * LC<sub>area</sub> * C<sub>unmod</sub>\n",
    "\n",
    "While there are assumptions and errors in our carbon estimation approach, the approach facilitates a decoupling from the land use and land cover analysis and the estimation of carbon storage as well as provides a comparative framework underwhich the relative impact of different land cover types will not change. \n",
    "\n",
    "First we calculate the mid-parcel size for each parcel size bin."
   ]
  },
  {
   "cell_type": "code",
   "execution_count": 62,
   "id": "27939509-7ecb-4498-bd81-bcb44930be90",
   "metadata": {},
   "outputs": [],
   "source": [
    "midparcelbinsize <- (ldr_data$HighBoundary - ldr_data$LowBoundary)/2 + ldr_data$LowBoundary"
   ]
  },
  {
   "cell_type": "markdown",
   "id": "741700af-3234-40bb-86f0-412f68ff8d43",
   "metadata": {},
   "source": [
    "Then we estimate carbon in Grass for all parcel bins."
   ]
  },
  {
   "cell_type": "code",
   "execution_count": 63,
   "id": "82e42e6e-90ea-48aa-b786-59a54a320afc",
   "metadata": {},
   "outputs": [],
   "source": [
    "# using IPCC value of 1.14 against cropland value of 7.0 noted above\n",
    "unmodifiedSoils <- 7.0 * 1.14\n",
    "\n",
    "# Grass only\n",
    "for(i in 1:nrow(ldr_data)) {       # for-loop over rows\n",
    "    if (is.na(midparcelbinsize[i])) {\n",
    "        # no upper boundary, therefore use the mean area\n",
    "        propLandscaped <- 0.404/ldr_data$Grass[i]\n",
    "        # multiply that proportion against area in Grass and apply landscaped carbon\n",
    "        # add to it the remaining proportion of carbon in non-landscaped soils\n",
    "        C_grass_ldr[i] <- round(ldr_data$Grass[i]*propLandscaped*soilCbylu$Grass[3]*10000+\n",
    "                               ldr_data$Grass[i]*(1-propLandscaped)*unmodifiedSoils*10000, 0)        \n",
    "    } else if (midparcelbinsize[i] > 0.404) {\n",
    "        # calculate the proportion of the parcel that is landscaped\n",
    "        propLandscaped <- 0.404/midparcelbinsize[i]\n",
    "        # multiply that proportion against area in Grass and apply landscaped carbon\n",
    "        # add to it the remaining proportion of carbon in non-landscaped soils\n",
    "        C_grass_ldr[i] <- round(ldr_data$Grass[i]*propLandscaped*soilCbylu$Grass[3]*10000+\n",
    "                               ldr_data$Grass[i]*(1-propLandscaped)*unmodifiedSoils*10000, 0)\n",
    "    } else {\n",
    "        # 100% of parcel is landscaped so treat as high-density residential    \n",
    "        C_grass_ldr[i] <- round(ldr_data$Grass[i] * (soilCbylu$Grass)[3]*10000, 0)\n",
    "    }\n",
    "}"
   ]
  },
  {
   "cell_type": "code",
   "execution_count": 64,
   "id": "ad8ec744-66b9-4415-a836-60b5b38dcff9",
   "metadata": {},
   "outputs": [
    {
     "data": {
      "text/html": [
       "<style>\n",
       ".list-inline {list-style: none; margin:0; padding: 0}\n",
       ".list-inline>li {display: inline-block}\n",
       ".list-inline>li:not(:last-child)::after {content: \"\\00b7\"; padding: 0 .5ex}\n",
       "</style>\n",
       "<ol class=list-inline><li>2394</li><li>1995</li><li>9584</li><li>6389</li><li>21730</li><li>14060</li><li>32853</li><li>20533</li><li>41666</li><li>30172</li><li>63322</li><li>48423</li><li>78857</li><li>68242</li><li>123573</li><li>100403</li><li>374900</li><li>420386</li></ol>\n"
      ],
      "text/latex": [
       "\\begin{enumerate*}\n",
       "\\item 2394\n",
       "\\item 1995\n",
       "\\item 9584\n",
       "\\item 6389\n",
       "\\item 21730\n",
       "\\item 14060\n",
       "\\item 32853\n",
       "\\item 20533\n",
       "\\item 41666\n",
       "\\item 30172\n",
       "\\item 63322\n",
       "\\item 48423\n",
       "\\item 78857\n",
       "\\item 68242\n",
       "\\item 123573\n",
       "\\item 100403\n",
       "\\item 374900\n",
       "\\item 420386\n",
       "\\end{enumerate*}\n"
      ],
      "text/markdown": [
       "1. 2394\n",
       "2. 1995\n",
       "3. 9584\n",
       "4. 6389\n",
       "5. 21730\n",
       "6. 14060\n",
       "7. 32853\n",
       "8. 20533\n",
       "9. 41666\n",
       "10. 30172\n",
       "11. 63322\n",
       "12. 48423\n",
       "13. 78857\n",
       "14. 68242\n",
       "15. 123573\n",
       "16. 100403\n",
       "17. 374900\n",
       "18. 420386\n",
       "\n",
       "\n"
      ],
      "text/plain": [
       " [1]   2394   1995   9584   6389  21730  14060  32853  20533  41666  30172\n",
       "[11]  63322  48423  78857  68242 123573 100403 374900 420386"
      ]
     },
     "metadata": {},
     "output_type": "display_data"
    }
   ],
   "source": [
    "C_grass_ldr"
   ]
  },
  {
   "cell_type": "markdown",
   "id": "97b7c5ea-5678-4dac-b355-8445edeac2ca",
   "metadata": {},
   "source": [
    "Next we can do the same for Tree cover"
   ]
  },
  {
   "cell_type": "code",
   "execution_count": 65,
   "id": "878e75e0-dd7c-4dc2-8c8e-e139d09e6181",
   "metadata": {},
   "outputs": [],
   "source": [
    "# Tees only\n",
    "for(i in 1:nrow(ldr_data)) {       # for-loop over rows\n",
    "    if (is.na(midparcelbinsize[i])) {\n",
    "        # no upper boundary, therefore use the mean area\n",
    "        propLandscaped <- 0.404/ldr_data$Trees[i]\n",
    "        # multiply that proportion against area in Trees and apply landscaped carbon\n",
    "        # add to it the remaining proportion of carbon in non-landscaped soils\n",
    "        C_trees_ldr[i] <- round(ldr_data$Trees[i]*propLandscaped*soilCbylu$Trees[3]*10000+\n",
    "                               ldr_data$Trees[i]*(1-propLandscaped)*unmodifiedSoils*10000+ \n",
    "                               ldr_data$Trees[i]* C_trees_kg_m2*10000, 0)        \n",
    "    } else if (midparcelbinsize[i] > 0.404) {\n",
    "        # calculate the proportion of the parcel that is landscaped\n",
    "        propLandscaped <- 0.404/midparcelbinsize[i]\n",
    "        # multiply that proportion against area in Grass and apply landscaped carbon\n",
    "        # add to it the remaining proportion of carbon in non-landscaped soils\n",
    "        C_trees_ldr[i] <- round(ldr_data$Trees[i]*propLandscaped*soilCbylu$Trees[3]*10000 +\n",
    "                               ldr_data$Trees[i]*(1-propLandscaped)*unmodifiedSoils*10000 +\n",
    "                               ldr_data$Trees[i]* C_trees_kg_m2*10000, 0)\n",
    "    } else {\n",
    "        # 100% of parcel is landscaped so treat as high-density residential    \n",
    "        C_trees_ldr[i] <- round(ldr_data$Trees[i] * (soilCbylu$Trees)[3]*10000 +\n",
    "                                ldr_data$Trees[i]* C_trees_kg_m2*10000, 0)\n",
    "    }\n",
    "}"
   ]
  },
  {
   "cell_type": "code",
   "execution_count": 66,
   "id": "85f6e186-4ff1-4c69-a6eb-42f4a5fc2266",
   "metadata": {},
   "outputs": [
    {
     "data": {
      "text/html": [
       "<style>\n",
       ".list-inline {list-style: none; margin:0; padding: 0}\n",
       ".list-inline>li {display: inline-block}\n",
       ".list-inline>li:not(:last-child)::after {content: \"\\00b7\"; padding: 0 .5ex}\n",
       "</style>\n",
       "<ol class=list-inline><li>10593</li><li>3852</li><li>27528</li><li>11011</li><li>49673</li><li>21808</li><li>76766</li><li>30203</li><li>115129</li><li>49156</li><li>158533</li><li>73982</li><li>172195</li><li>84095</li><li>255042</li><li>113352</li><li>1034579</li><li>620403</li></ol>\n"
      ],
      "text/latex": [
       "\\begin{enumerate*}\n",
       "\\item 10593\n",
       "\\item 3852\n",
       "\\item 27528\n",
       "\\item 11011\n",
       "\\item 49673\n",
       "\\item 21808\n",
       "\\item 76766\n",
       "\\item 30203\n",
       "\\item 115129\n",
       "\\item 49156\n",
       "\\item 158533\n",
       "\\item 73982\n",
       "\\item 172195\n",
       "\\item 84095\n",
       "\\item 255042\n",
       "\\item 113352\n",
       "\\item 1034579\n",
       "\\item 620403\n",
       "\\end{enumerate*}\n"
      ],
      "text/markdown": [
       "1. 10593\n",
       "2. 3852\n",
       "3. 27528\n",
       "4. 11011\n",
       "5. 49673\n",
       "6. 21808\n",
       "7. 76766\n",
       "8. 30203\n",
       "9. 115129\n",
       "10. 49156\n",
       "11. 158533\n",
       "12. 73982\n",
       "13. 172195\n",
       "14. 84095\n",
       "15. 255042\n",
       "16. 113352\n",
       "17. 1034579\n",
       "18. 620403\n",
       "\n",
       "\n"
      ],
      "text/plain": [
       " [1]   10593    3852   27528   11011   49673   21808   76766   30203  115129\n",
       "[10]   49156  158533   73982  172195   84095  255042  113352 1034579  620403"
      ]
     },
     "metadata": {},
     "output_type": "display_data"
    }
   ],
   "source": [
    "C_trees_ldr"
   ]
  },
  {
   "cell_type": "markdown",
   "id": "7e497d5b-40d3-405b-9cbb-b79135c9a2d7",
   "metadata": {},
   "source": [
    "Lastly, for those areas that include some form of cropland, whether it is bare soils or areas in crop that overlap parcel boundaries."
   ]
  },
  {
   "cell_type": "code",
   "execution_count": 67,
   "id": "64f07630-dffe-4e20-a8ba-1354d1121ba5",
   "metadata": {},
   "outputs": [
    {
     "data": {
      "text/html": [
       "<style>\n",
       ".list-inline {list-style: none; margin:0; padding: 0}\n",
       ".list-inline>li {display: inline-block}\n",
       ".list-inline>li:not(:last-child)::after {content: \"\\00b7\"; padding: 0 .5ex}\n",
       "</style>\n",
       "<ol class=list-inline><li>700</li><li>1400</li><li>2100</li><li>3500</li><li>5600</li><li>7700</li><li>9100</li><li>13300</li><li>18200</li><li>27300</li><li>38500</li><li>52500</li><li>94500</li><li>75600</li><li>116200</li><li>98700</li><li>231700</li><li>250600</li></ol>\n"
      ],
      "text/latex": [
       "\\begin{enumerate*}\n",
       "\\item 700\n",
       "\\item 1400\n",
       "\\item 2100\n",
       "\\item 3500\n",
       "\\item 5600\n",
       "\\item 7700\n",
       "\\item 9100\n",
       "\\item 13300\n",
       "\\item 18200\n",
       "\\item 27300\n",
       "\\item 38500\n",
       "\\item 52500\n",
       "\\item 94500\n",
       "\\item 75600\n",
       "\\item 116200\n",
       "\\item 98700\n",
       "\\item 231700\n",
       "\\item 250600\n",
       "\\end{enumerate*}\n"
      ],
      "text/markdown": [
       "1. 700\n",
       "2. 1400\n",
       "3. 2100\n",
       "4. 3500\n",
       "5. 5600\n",
       "6. 7700\n",
       "7. 9100\n",
       "8. 13300\n",
       "9. 18200\n",
       "10. 27300\n",
       "11. 38500\n",
       "12. 52500\n",
       "13. 94500\n",
       "14. 75600\n",
       "15. 116200\n",
       "16. 98700\n",
       "17. 231700\n",
       "18. 250600\n",
       "\n",
       "\n"
      ],
      "text/plain": [
       " [1]    700   1400   2100   3500   5600   7700   9100  13300  18200  27300\n",
       "[11]  38500  52500  94500  75600 116200  98700 231700 250600"
      ]
     },
     "metadata": {},
     "output_type": "display_data"
    }
   ],
   "source": [
    "C_cropland_ldr <- round(ldr_data$Cropland * (soilCbylu$Cropland)[1]*10000, 3)\n",
    "C_cropland_ldr"
   ]
  },
  {
   "cell_type": "markdown",
   "id": "40f0d352-0c59-4367-8ed1-7519dcd855ac",
   "metadata": {},
   "source": [
    "Using these carbon estimates, we can recreate a portion of Table 10 from the paper, which includes the carbon estimates for different parcel sizes of low-density residential land use. "
   ]
  },
  {
   "cell_type": "code",
   "execution_count": 68,
   "id": "0895ee1f-7aa4-4e49-863a-b71f2081c803",
   "metadata": {},
   "outputs": [],
   "source": [
    "ldrCarbon <- as.data.frame(cbind(ldr_data$ParcelSize, ldr_data$Statistic, C_grass_ldr, C_trees_ldr, C_cropland_ldr))\n",
    "colnames(ldrCarbon) <- c(\"ParcelSize\",\"Statistic\", \"Grass\",\"Trees\",\"Cropland\")\n",
    "ldrCarbon$Grass <- as.numeric(ldrCarbon$Grass)\n",
    "ldrCarbon$Trees <- as.numeric(ldrCarbon$Trees)\n",
    "ldrCarbon$Cropland <- as.numeric(ldrCarbon$Cropland)"
   ]
  },
  {
   "cell_type": "code",
   "execution_count": 69,
   "id": "4ac01608-53b5-4e37-8599-59bb96f0424a",
   "metadata": {},
   "outputs": [
    {
     "name": "stdout",
     "output_type": "stream",
     "text": [
      "[1] \"Table 2 - Manuscript\"\n"
     ]
    },
    {
     "data": {
      "text/html": [
       "<table class=\"dataframe\">\n",
       "<caption>A data.frame: 18 x 5</caption>\n",
       "<thead>\n",
       "\t<tr><th scope=col>ParcelSize</th><th scope=col>Statistic</th><th scope=col>Grass</th><th scope=col>Trees</th><th scope=col>Cropland</th></tr>\n",
       "\t<tr><th scope=col>&lt;chr&gt;</th><th scope=col>&lt;chr&gt;</th><th scope=col>&lt;dbl&gt;</th><th scope=col>&lt;dbl&gt;</th><th scope=col>&lt;dbl&gt;</th></tr>\n",
       "</thead>\n",
       "<tbody>\n",
       "\t<tr><td>0-0.404    </td><td>mean</td><td>  2394</td><td>  10593</td><td>   700</td></tr>\n",
       "\t<tr><td>0-0.404    </td><td>sd  </td><td>  1995</td><td>   3852</td><td>  1400</td></tr>\n",
       "\t<tr><td>0.405-0.809</td><td>mean</td><td>  9584</td><td>  27528</td><td>  2100</td></tr>\n",
       "\t<tr><td>0.405-0.809</td><td>sd  </td><td>  6389</td><td>  11011</td><td>  3500</td></tr>\n",
       "\t<tr><td>0.810-1.219</td><td>mean</td><td> 21730</td><td>  49673</td><td>  5600</td></tr>\n",
       "\t<tr><td>0.810-1.219</td><td>sd  </td><td> 14060</td><td>  21808</td><td>  7700</td></tr>\n",
       "\t<tr><td>1.220-1.619</td><td>mean</td><td> 32853</td><td>  76766</td><td>  9100</td></tr>\n",
       "\t<tr><td>1.220-1.619</td><td>sd  </td><td> 20533</td><td>  30203</td><td> 13300</td></tr>\n",
       "\t<tr><td>1.620-2.429</td><td>mean</td><td> 41666</td><td> 115129</td><td> 18200</td></tr>\n",
       "\t<tr><td>1.620-2.429</td><td>sd  </td><td> 30172</td><td>  49156</td><td> 27300</td></tr>\n",
       "\t<tr><td>2.430-3.649</td><td>mean</td><td> 63322</td><td> 158533</td><td> 38500</td></tr>\n",
       "\t<tr><td>2.430-3.649</td><td>sd  </td><td> 48423</td><td>  73982</td><td> 52500</td></tr>\n",
       "\t<tr><td>3.650-4.459</td><td>mean</td><td> 78857</td><td> 172195</td><td> 94500</td></tr>\n",
       "\t<tr><td>3.650-4.459</td><td>sd  </td><td> 68242</td><td>  84095</td><td> 75600</td></tr>\n",
       "\t<tr><td>4.460-8.099</td><td>mean</td><td>123573</td><td> 255042</td><td>116200</td></tr>\n",
       "\t<tr><td>4.460-8.099</td><td>sd  </td><td>100403</td><td> 113352</td><td> 98700</td></tr>\n",
       "\t<tr><td>8.1+       </td><td>mean</td><td>374900</td><td>1034579</td><td>231700</td></tr>\n",
       "\t<tr><td>8.1+       </td><td>sd  </td><td>420386</td><td> 620403</td><td>250600</td></tr>\n",
       "</tbody>\n",
       "</table>\n"
      ],
      "text/latex": [
       "A data.frame: 18 x 5\n",
       "\\begin{tabular}{lllll}\n",
       " ParcelSize & Statistic & Grass & Trees & Cropland\\\\\n",
       " <chr> & <chr> & <dbl> & <dbl> & <dbl>\\\\\n",
       "\\hline\n",
       "\t 0-0.404     & mean &   2394 &   10593 &    700\\\\\n",
       "\t 0-0.404     & sd   &   1995 &    3852 &   1400\\\\\n",
       "\t 0.405-0.809 & mean &   9584 &   27528 &   2100\\\\\n",
       "\t 0.405-0.809 & sd   &   6389 &   11011 &   3500\\\\\n",
       "\t 0.810-1.219 & mean &  21730 &   49673 &   5600\\\\\n",
       "\t 0.810-1.219 & sd   &  14060 &   21808 &   7700\\\\\n",
       "\t 1.220-1.619 & mean &  32853 &   76766 &   9100\\\\\n",
       "\t 1.220-1.619 & sd   &  20533 &   30203 &  13300\\\\\n",
       "\t 1.620-2.429 & mean &  41666 &  115129 &  18200\\\\\n",
       "\t 1.620-2.429 & sd   &  30172 &   49156 &  27300\\\\\n",
       "\t 2.430-3.649 & mean &  63322 &  158533 &  38500\\\\\n",
       "\t 2.430-3.649 & sd   &  48423 &   73982 &  52500\\\\\n",
       "\t 3.650-4.459 & mean &  78857 &  172195 &  94500\\\\\n",
       "\t 3.650-4.459 & sd   &  68242 &   84095 &  75600\\\\\n",
       "\t 4.460-8.099 & mean & 123573 &  255042 & 116200\\\\\n",
       "\t 4.460-8.099 & sd   & 100403 &  113352 &  98700\\\\\n",
       "\t 8.1+        & mean & 374900 & 1034579 & 231700\\\\\n",
       "\t 8.1+        & sd   & 420386 &  620403 & 250600\\\\\n",
       "\\end{tabular}\n"
      ],
      "text/markdown": [
       "\n",
       "A data.frame: 18 x 5\n",
       "\n",
       "| ParcelSize &lt;chr&gt; | Statistic &lt;chr&gt; | Grass &lt;dbl&gt; | Trees &lt;dbl&gt; | Cropland &lt;dbl&gt; |\n",
       "|---|---|---|---|---|\n",
       "| 0-0.404     | mean |   2394 |   10593 |    700 |\n",
       "| 0-0.404     | sd   |   1995 |    3852 |   1400 |\n",
       "| 0.405-0.809 | mean |   9584 |   27528 |   2100 |\n",
       "| 0.405-0.809 | sd   |   6389 |   11011 |   3500 |\n",
       "| 0.810-1.219 | mean |  21730 |   49673 |   5600 |\n",
       "| 0.810-1.219 | sd   |  14060 |   21808 |   7700 |\n",
       "| 1.220-1.619 | mean |  32853 |   76766 |   9100 |\n",
       "| 1.220-1.619 | sd   |  20533 |   30203 |  13300 |\n",
       "| 1.620-2.429 | mean |  41666 |  115129 |  18200 |\n",
       "| 1.620-2.429 | sd   |  30172 |   49156 |  27300 |\n",
       "| 2.430-3.649 | mean |  63322 |  158533 |  38500 |\n",
       "| 2.430-3.649 | sd   |  48423 |   73982 |  52500 |\n",
       "| 3.650-4.459 | mean |  78857 |  172195 |  94500 |\n",
       "| 3.650-4.459 | sd   |  68242 |   84095 |  75600 |\n",
       "| 4.460-8.099 | mean | 123573 |  255042 | 116200 |\n",
       "| 4.460-8.099 | sd   | 100403 |  113352 |  98700 |\n",
       "| 8.1+        | mean | 374900 | 1034579 | 231700 |\n",
       "| 8.1+        | sd   | 420386 |  620403 | 250600 |\n",
       "\n"
      ],
      "text/plain": [
       "   ParcelSize  Statistic Grass  Trees   Cropland\n",
       "1  0-0.404     mean        2394   10593    700  \n",
       "2  0-0.404     sd          1995    3852   1400  \n",
       "3  0.405-0.809 mean        9584   27528   2100  \n",
       "4  0.405-0.809 sd          6389   11011   3500  \n",
       "5  0.810-1.219 mean       21730   49673   5600  \n",
       "6  0.810-1.219 sd         14060   21808   7700  \n",
       "7  1.220-1.619 mean       32853   76766   9100  \n",
       "8  1.220-1.619 sd         20533   30203  13300  \n",
       "9  1.620-2.429 mean       41666  115129  18200  \n",
       "10 1.620-2.429 sd         30172   49156  27300  \n",
       "11 2.430-3.649 mean       63322  158533  38500  \n",
       "12 2.430-3.649 sd         48423   73982  52500  \n",
       "13 3.650-4.459 mean       78857  172195  94500  \n",
       "14 3.650-4.459 sd         68242   84095  75600  \n",
       "15 4.460-8.099 mean      123573  255042 116200  \n",
       "16 4.460-8.099 sd        100403  113352  98700  \n",
       "17 8.1+        mean      374900 1034579 231700  \n",
       "18 8.1+        sd        420386  620403 250600  "
      ]
     },
     "metadata": {},
     "output_type": "display_data"
    }
   ],
   "source": [
    "print (\"Table 2 - Manuscript\")\n",
    "ldrCarbon"
   ]
  },
  {
   "cell_type": "markdown",
   "id": "4759dc83-e194-493b-a1f3-666b3984445e",
   "metadata": {},
   "source": [
    "# Total land cover and carbon for low-density residential by parcel size (Table 3 - Manuscript)\n",
    "\n",
    "The above table (Table 2) uses average values, here we use the total land cover areas and estimate total carbon storage and subsequently the average carbon density among different parcel sizes for low-density residential.\n",
    "\n",
    "Read in the land cover area data by parcel size."
   ]
  },
  {
   "cell_type": "code",
   "execution_count": 70,
   "id": "4e7b65f5-0685-43c2-ab87-dfb2c977e8f4",
   "metadata": {},
   "outputs": [],
   "source": [
    "ldr_tot_data <- read.csv(\"LDR_tot_parcelArea.csv\")"
   ]
  },
  {
   "cell_type": "code",
   "execution_count": 71,
   "id": "d3a1cc1c-14f3-40f1-ad8f-7f8e928ec382",
   "metadata": {},
   "outputs": [
    {
     "data": {
      "text/html": [
       "<table class=\"dataframe\">\n",
       "<caption>A data.frame: 9 x 11</caption>\n",
       "<thead>\n",
       "\t<tr><th scope=col>parcelSize</th><th scope=col>LowBoundary</th><th scope=col>UpperBoundary</th><th scope=col>numParcels</th><th scope=col>Grass</th><th scope=col>Trees</th><th scope=col>Cropland</th><th scope=col>Impervious</th><th scope=col>Shadow</th><th scope=col>Water</th><th scope=col>TotalArea</th></tr>\n",
       "\t<tr><th scope=col>&lt;chr&gt;</th><th scope=col>&lt;dbl&gt;</th><th scope=col>&lt;dbl&gt;</th><th scope=col>&lt;int&gt;</th><th scope=col>&lt;dbl&gt;</th><th scope=col>&lt;dbl&gt;</th><th scope=col>&lt;dbl&gt;</th><th scope=col>&lt;dbl&gt;</th><th scope=col>&lt;dbl&gt;</th><th scope=col>&lt;dbl&gt;</th><th scope=col>&lt;dbl&gt;</th></tr>\n",
       "</thead>\n",
       "<tbody>\n",
       "\t<tr><td>0-0.404    </td><td>0.000</td><td>0.404</td><td>4590</td><td>266.64271</td><td>494.77173</td><td> 46.88461</td><td>167.86379</td><td>55.569490</td><td> 9.323505</td><td>1041.0558</td></tr>\n",
       "\t<tr><td>0.405-0.809</td><td>0.405</td><td>0.809</td><td>1353</td><td>238.50495</td><td>342.16308</td><td> 45.94391</td><td> 87.89454</td><td>30.553414</td><td> 5.183290</td><td> 750.2432</td></tr>\n",
       "\t<tr><td>0.810-1.219</td><td>0.810</td><td>1.219</td><td> 444</td><td>153.26279</td><td>184.30880</td><td> 35.72654</td><td> 43.90662</td><td>14.065213</td><td> 3.127062</td><td> 434.3970</td></tr>\n",
       "\t<tr><td>1.220-1.619</td><td>1.220</td><td>1.619</td><td> 189</td><td> 90.22723</td><td>114.96812</td><td> 24.55080</td><td> 25.03275</td><td> 8.462448</td><td> 2.694598</td><td> 265.9359</td></tr>\n",
       "\t<tr><td>1.620-2.429</td><td>1.620</td><td>2.429</td><td> 147</td><td> 85.30742</td><td>130.45799</td><td> 37.86736</td><td> 25.57722</td><td> 7.755838</td><td> 1.799992</td><td> 288.7658</td></tr>\n",
       "\t<tr><td>2.430-3.649</td><td>2.430</td><td>3.649</td><td>  92</td><td> 78.51910</td><td>110.62302</td><td> 50.91468</td><td> 21.74439</td><td> 7.694363</td><td> 3.135582</td><td> 272.6311</td></tr>\n",
       "\t<tr><td>3.650-4.459</td><td>3.650</td><td>4.459</td><td>  53</td><td> 54.95151</td><td> 68.25574</td><td> 71.61650</td><td> 11.28528</td><td> 6.860305</td><td> 2.147424</td><td> 215.1168</td></tr>\n",
       "\t<tr><td>4.460-8.099</td><td>4.460</td><td>8.099</td><td>  47</td><td> 75.15148</td><td> 88.68691</td><td> 77.86220</td><td> 17.22814</td><td> 8.144839</td><td> 4.611213</td><td> 271.6848</td></tr>\n",
       "\t<tr><td>8.1+       </td><td>8.100</td><td>   NA</td><td>  92</td><td>450.99746</td><td>702.67815</td><td>304.42478</td><td> 44.65881</td><td>26.459150</td><td>73.201558</td><td>1602.4199</td></tr>\n",
       "</tbody>\n",
       "</table>\n"
      ],
      "text/latex": [
       "A data.frame: 9 x 11\n",
       "\\begin{tabular}{lllllllllll}\n",
       " parcelSize & LowBoundary & UpperBoundary & numParcels & Grass & Trees & Cropland & Impervious & Shadow & Water & TotalArea\\\\\n",
       " <chr> & <dbl> & <dbl> & <int> & <dbl> & <dbl> & <dbl> & <dbl> & <dbl> & <dbl> & <dbl>\\\\\n",
       "\\hline\n",
       "\t 0-0.404     & 0.000 & 0.404 & 4590 & 266.64271 & 494.77173 &  46.88461 & 167.86379 & 55.569490 &  9.323505 & 1041.0558\\\\\n",
       "\t 0.405-0.809 & 0.405 & 0.809 & 1353 & 238.50495 & 342.16308 &  45.94391 &  87.89454 & 30.553414 &  5.183290 &  750.2432\\\\\n",
       "\t 0.810-1.219 & 0.810 & 1.219 &  444 & 153.26279 & 184.30880 &  35.72654 &  43.90662 & 14.065213 &  3.127062 &  434.3970\\\\\n",
       "\t 1.220-1.619 & 1.220 & 1.619 &  189 &  90.22723 & 114.96812 &  24.55080 &  25.03275 &  8.462448 &  2.694598 &  265.9359\\\\\n",
       "\t 1.620-2.429 & 1.620 & 2.429 &  147 &  85.30742 & 130.45799 &  37.86736 &  25.57722 &  7.755838 &  1.799992 &  288.7658\\\\\n",
       "\t 2.430-3.649 & 2.430 & 3.649 &   92 &  78.51910 & 110.62302 &  50.91468 &  21.74439 &  7.694363 &  3.135582 &  272.6311\\\\\n",
       "\t 3.650-4.459 & 3.650 & 4.459 &   53 &  54.95151 &  68.25574 &  71.61650 &  11.28528 &  6.860305 &  2.147424 &  215.1168\\\\\n",
       "\t 4.460-8.099 & 4.460 & 8.099 &   47 &  75.15148 &  88.68691 &  77.86220 &  17.22814 &  8.144839 &  4.611213 &  271.6848\\\\\n",
       "\t 8.1+        & 8.100 &    NA &   92 & 450.99746 & 702.67815 & 304.42478 &  44.65881 & 26.459150 & 73.201558 & 1602.4199\\\\\n",
       "\\end{tabular}\n"
      ],
      "text/markdown": [
       "\n",
       "A data.frame: 9 x 11\n",
       "\n",
       "| parcelSize &lt;chr&gt; | LowBoundary &lt;dbl&gt; | UpperBoundary &lt;dbl&gt; | numParcels &lt;int&gt; | Grass &lt;dbl&gt; | Trees &lt;dbl&gt; | Cropland &lt;dbl&gt; | Impervious &lt;dbl&gt; | Shadow &lt;dbl&gt; | Water &lt;dbl&gt; | TotalArea &lt;dbl&gt; |\n",
       "|---|---|---|---|---|---|---|---|---|---|---|\n",
       "| 0-0.404     | 0.000 | 0.404 | 4590 | 266.64271 | 494.77173 |  46.88461 | 167.86379 | 55.569490 |  9.323505 | 1041.0558 |\n",
       "| 0.405-0.809 | 0.405 | 0.809 | 1353 | 238.50495 | 342.16308 |  45.94391 |  87.89454 | 30.553414 |  5.183290 |  750.2432 |\n",
       "| 0.810-1.219 | 0.810 | 1.219 |  444 | 153.26279 | 184.30880 |  35.72654 |  43.90662 | 14.065213 |  3.127062 |  434.3970 |\n",
       "| 1.220-1.619 | 1.220 | 1.619 |  189 |  90.22723 | 114.96812 |  24.55080 |  25.03275 |  8.462448 |  2.694598 |  265.9359 |\n",
       "| 1.620-2.429 | 1.620 | 2.429 |  147 |  85.30742 | 130.45799 |  37.86736 |  25.57722 |  7.755838 |  1.799992 |  288.7658 |\n",
       "| 2.430-3.649 | 2.430 | 3.649 |   92 |  78.51910 | 110.62302 |  50.91468 |  21.74439 |  7.694363 |  3.135582 |  272.6311 |\n",
       "| 3.650-4.459 | 3.650 | 4.459 |   53 |  54.95151 |  68.25574 |  71.61650 |  11.28528 |  6.860305 |  2.147424 |  215.1168 |\n",
       "| 4.460-8.099 | 4.460 | 8.099 |   47 |  75.15148 |  88.68691 |  77.86220 |  17.22814 |  8.144839 |  4.611213 |  271.6848 |\n",
       "| 8.1+        | 8.100 |    NA |   92 | 450.99746 | 702.67815 | 304.42478 |  44.65881 | 26.459150 | 73.201558 | 1602.4199 |\n",
       "\n"
      ],
      "text/plain": [
       "  parcelSize  LowBoundary UpperBoundary numParcels Grass     Trees    \n",
       "1 0-0.404     0.000       0.404         4590       266.64271 494.77173\n",
       "2 0.405-0.809 0.405       0.809         1353       238.50495 342.16308\n",
       "3 0.810-1.219 0.810       1.219          444       153.26279 184.30880\n",
       "4 1.220-1.619 1.220       1.619          189        90.22723 114.96812\n",
       "5 1.620-2.429 1.620       2.429          147        85.30742 130.45799\n",
       "6 2.430-3.649 2.430       3.649           92        78.51910 110.62302\n",
       "7 3.650-4.459 3.650       4.459           53        54.95151  68.25574\n",
       "8 4.460-8.099 4.460       8.099           47        75.15148  88.68691\n",
       "9 8.1+        8.100          NA           92       450.99746 702.67815\n",
       "  Cropland  Impervious Shadow    Water     TotalArea\n",
       "1  46.88461 167.86379  55.569490  9.323505 1041.0558\n",
       "2  45.94391  87.89454  30.553414  5.183290  750.2432\n",
       "3  35.72654  43.90662  14.065213  3.127062  434.3970\n",
       "4  24.55080  25.03275   8.462448  2.694598  265.9359\n",
       "5  37.86736  25.57722   7.755838  1.799992  288.7658\n",
       "6  50.91468  21.74439   7.694363  3.135582  272.6311\n",
       "7  71.61650  11.28528   6.860305  2.147424  215.1168\n",
       "8  77.86220  17.22814   8.144839  4.611213  271.6848\n",
       "9 304.42478  44.65881  26.459150 73.201558 1602.4199"
      ]
     },
     "metadata": {},
     "output_type": "display_data"
    }
   ],
   "source": [
    "ldr_tot_data"
   ]
  },
  {
   "cell_type": "markdown",
   "id": "4ab6663c-293d-434d-bef1-6719c0086f1f",
   "metadata": {},
   "source": [
    "Using the same approach as above. First create three variables with placeholder values."
   ]
  },
  {
   "cell_type": "code",
   "execution_count": 72,
   "id": "5166af59-9726-484c-a713-32668a7e0067",
   "metadata": {},
   "outputs": [],
   "source": [
    "C_grass_ldr_tot <- round(ldr_tot_data$Grass * 0.0, 3)\n",
    "C_trees_ldr_tot <- round(ldr_tot_data$Trees * 0.0, 3)\n",
    "C_cropland_ldr_tot <- round(ldr_tot_data$Cropland * 0.0, 3)"
   ]
  },
  {
   "cell_type": "markdown",
   "id": "91c2532f-58e1-4214-911c-aa141dafae07",
   "metadata": {},
   "source": [
    "Calculate the parcel bin midpoints again"
   ]
  },
  {
   "cell_type": "code",
   "execution_count": 73,
   "id": "3e640e38-a8ba-4dcb-b7b3-0e24401a0195",
   "metadata": {},
   "outputs": [],
   "source": [
    "midparcelbinsize_tot_data <- (ldr_tot_data$UpperBoundary - ldr_tot_data$LowBoundary)/2 + ldr_tot_data$LowBoundary"
   ]
  },
  {
   "cell_type": "markdown",
   "id": "9484b19a-744f-409c-83b9-6923ee15d817",
   "metadata": {},
   "source": [
    "Calculate the Gg C for Grass"
   ]
  },
  {
   "cell_type": "code",
   "execution_count": 74,
   "id": "5d42cc5a-0134-41a0-9474-29a384523869",
   "metadata": {},
   "outputs": [],
   "source": [
    "# results in Gg\n",
    "# using IPCC value of 1.14 against cropland value of 7.0 noted above\n",
    "unmodifiedSoils <- 7.0 * 1.14\n",
    "\n",
    "# Grass only\n",
    "for(i in 1:nrow(ldr_tot_data)) {       # for-loop over rows\n",
    "    if (is.na(midparcelbinsize_tot_data[i])) {\n",
    "        # no upper boundary, therefore use the mean area\n",
    "        propLandscaped <- 0.404/ldr_tot_data$Grass[i]\n",
    "        # multiply that proportion against area in Grass and apply landscaped carbon\n",
    "        # add to it the remaining proportion of carbon in non-landscaped soils\n",
    "        C_grass_ldr_tot[i] <- round(ldr_tot_data$Grass[i]*propLandscaped*soilCbylu$Grass[3]*10000+\n",
    "                               ldr_tot_data$Grass[i]*(1-propLandscaped)*unmodifiedSoils*10000, 2)        \n",
    "    } else if (midparcelbinsize_tot_data[i] > 0.404) {\n",
    "        # calculate the proportion of the parcel that is landscaped\n",
    "        propLandscaped <- 0.404/midparcelbinsize_tot_data[i]\n",
    "        # multiply that proportion against area in Grass and apply landscaped carbon\n",
    "        # add to it the remaining proportion of carbon in non-landscaped soils\n",
    "        C_grass_ldr_tot[i] <- round(ldr_tot_data$Grass[i]*propLandscaped*soilCbylu$Grass[3]*10000+\n",
    "                               ldr_tot_data$Grass[i]*(1-propLandscaped)*unmodifiedSoils*10000, 2)\n",
    "    } else {\n",
    "        # 100% of parcel is landscaped so treat as high-density residential    \n",
    "        C_grass_ldr_tot[i] <- round(ldr_tot_data$Grass[i] * (soilCbylu$Grass)[3]*10000, 2)\n",
    "    }\n",
    "}"
   ]
  },
  {
   "cell_type": "markdown",
   "id": "9a9fdeb7-bf34-429b-afac-1131ca18eef0",
   "metadata": {},
   "source": [
    "Calculate Mg C for Trees"
   ]
  },
  {
   "cell_type": "code",
   "execution_count": 75,
   "id": "edccd571-9c5e-4176-8243-af64d6cbc21a",
   "metadata": {},
   "outputs": [],
   "source": [
    "# Tees only\n",
    "for(i in 1:nrow(ldr_tot_data)) {       # for-loop over rows\n",
    "    if (is.na(midparcelbinsize_tot_data[i])) {\n",
    "        # no upper boundary, therefore use the mean area\n",
    "        propLandscaped <- 0.404/ldr_tot_data$Trees[i]\n",
    "        # multiply that proportion against area in Trees and apply landscaped carbon\n",
    "        # add to it the remaining proportion of carbon in non-landscaped soils\n",
    "        C_trees_ldr_tot[i] <- round(ldr_tot_data$Trees[i]*propLandscaped*soilCbylu$Trees[3]*10000+\n",
    "                               ldr_tot_data$Trees[i]*(1-propLandscaped)*unmodifiedSoils*10000 + \n",
    "                               ldr_tot_data$Trees[i]* C_trees_kg_m2*10000, 2)        \n",
    "    } else if (midparcelbinsize_tot_data[i] > 0.404) {\n",
    "        # calculate the proportion of the parcel that is landscaped\n",
    "        propLandscaped <- 0.404/midparcelbinsize_tot_data[i]\n",
    "        # multiply that proportion against area in Grass and apply landscaped carbon\n",
    "        # add to it the remaining proportion of carbon in non-landscaped soils\n",
    "        C_trees_ldr_tot[i] <- round(ldr_tot_data$Trees[i]*propLandscaped*soilCbylu$Trees[3]*10000+\n",
    "                               ldr_tot_data$Trees[i]*(1-propLandscaped)*unmodifiedSoils*10000 +\n",
    "                               ldr_tot_data$Trees[i]* C_trees_kg_m2*10000, 2)\n",
    "    } else {\n",
    "        # 100% of parcel is landscaped so treat as high-density residential    \n",
    "        C_trees_ldr_tot[i] <- round(ldr_tot_data$Trees[i] * (soilCbylu$Trees)[3]*10000 +\n",
    "                                ldr_tot_data$Trees[i]* C_trees_kg_m2*10000, 2)\n",
    "    }\n",
    "}"
   ]
  },
  {
   "cell_type": "markdown",
   "id": "744dd2aa-ac6c-45ae-9fa8-2fba4670dbd3",
   "metadata": {},
   "source": [
    "Calculate the Mg C for those areas that include some form of cropland, whether it is bare soils or areas in crop that overlap parcel boundaries."
   ]
  },
  {
   "cell_type": "code",
   "execution_count": 76,
   "id": "c67fec03-b3c7-41f9-9499-bc5f5d133a1b",
   "metadata": {},
   "outputs": [],
   "source": [
    "C_cropland_ldr_tot <- 7.0*10000*ldr_tot_data$Cropland"
   ]
  },
  {
   "cell_type": "markdown",
   "id": "2663d4e5-e8bd-4f58-8999-fda0a9e20b52",
   "metadata": {},
   "source": [
    "Construct the dataframe."
   ]
  },
  {
   "cell_type": "code",
   "execution_count": 77,
   "id": "9f2ee1fd-d4c9-4140-9f38-d633e7c04082",
   "metadata": {},
   "outputs": [],
   "source": [
    "ldr_tot_Carbon <- as.data.frame(cbind(ldr_tot_data$parcelSize, ldr_tot_data$numParcels, C_grass_ldr_tot, C_trees_ldr_tot, C_cropland_ldr_tot))\n",
    "colnames(ldr_tot_Carbon) <- c(\"ParcelSize\",\"numParcels\", \"Grass\",\"Trees\",\"Cropland\")\n",
    "# divide by 1000 to convert from kg to Gg\n",
    "ldr_tot_Carbon$Grass <- round(as.numeric(ldr_tot_Carbon$Grass)/1000000, 2)\n",
    "ldr_tot_Carbon$Trees <- round(as.numeric(ldr_tot_Carbon$Trees)/1000000, 2)\n",
    "ldr_tot_Carbon$Cropland <- round(as.numeric(ldr_tot_Carbon$Cropland)/1000000, 2)"
   ]
  },
  {
   "cell_type": "markdown",
   "id": "7234c52c-d36f-4a81-a081-8a6adf2b931e",
   "metadata": {},
   "source": [
    "Sum the land-cover carbon estimates and calculate carbon density."
   ]
  },
  {
   "cell_type": "code",
   "execution_count": 78,
   "id": "6a250850-c176-4992-81e6-a1f828e44243",
   "metadata": {},
   "outputs": [],
   "source": [
    "ldr_tot_Carbon[ ,\"Total\"] <- rowSums(ldr_tot_Carbon[,3:5])\n",
    "ldr_tot_Carbon[ ,\"Cdens\"] <- round(ldr_tot_Carbon$Total / ldr_tot_data$TotalArea*100, 1)"
   ]
  },
  {
   "cell_type": "markdown",
   "id": "6712261c-78d5-499f-9c13-3c6d6e87ffc4",
   "metadata": {},
   "source": [
    "Recreate a portion of Table 11 comprising total Gg of C per land cover type by parcel size as well as the carbon density among different parcel sizes of low-density residential."
   ]
  },
  {
   "cell_type": "code",
   "execution_count": 79,
   "id": "9e52001a-ae13-469c-b7fd-0144bf965df9",
   "metadata": {},
   "outputs": [
    {
     "data": {
      "text/html": [
       "<table class=\"dataframe\">\n",
       "<caption>A data.frame: 9 x 7</caption>\n",
       "<thead>\n",
       "\t<tr><th scope=col>ParcelSize</th><th scope=col>numParcels</th><th scope=col>Grass</th><th scope=col>Trees</th><th scope=col>Cropland</th><th scope=col>Total</th><th scope=col>Cdens</th></tr>\n",
       "\t<tr><th scope=col>&lt;chr&gt;</th><th scope=col>&lt;chr&gt;</th><th scope=col>&lt;dbl&gt;</th><th scope=col>&lt;dbl&gt;</th><th scope=col>&lt;dbl&gt;</th><th scope=col>&lt;dbl&gt;</th><th scope=col>&lt;dbl&gt;</th></tr>\n",
       "</thead>\n",
       "<tbody>\n",
       "\t<tr><td>0-0.404    </td><td>4590</td><td>10.64</td><td>47.65</td><td> 3.28</td><td> 61.57</td><td>5.9</td></tr>\n",
       "\t<tr><td>0.405-0.809</td><td>1353</td><td>12.70</td><td>37.68</td><td> 3.22</td><td> 53.60</td><td>7.1</td></tr>\n",
       "\t<tr><td>0.810-1.219</td><td>444 </td><td> 9.80</td><td>22.33</td><td> 2.50</td><td> 34.63</td><td>8.0</td></tr>\n",
       "\t<tr><td>1.220-1.619</td><td>189 </td><td> 6.18</td><td>14.47</td><td> 1.72</td><td> 22.37</td><td>8.4</td></tr>\n",
       "\t<tr><td>1.620-2.429</td><td>147 </td><td> 6.13</td><td>16.88</td><td> 2.65</td><td> 25.66</td><td>8.9</td></tr>\n",
       "\t<tr><td>2.430-3.649</td><td>92  </td><td> 5.85</td><td>14.61</td><td> 3.56</td><td> 24.02</td><td>8.8</td></tr>\n",
       "\t<tr><td>3.650-4.459</td><td>53  </td><td> 4.17</td><td> 9.11</td><td> 5.01</td><td> 18.29</td><td>8.5</td></tr>\n",
       "\t<tr><td>4.460-8.099</td><td>47  </td><td> 5.80</td><td>11.97</td><td> 5.45</td><td> 23.22</td><td>8.5</td></tr>\n",
       "\t<tr><td>8.1+       </td><td>92  </td><td>35.97</td><td>96.67</td><td>21.31</td><td>153.95</td><td>9.6</td></tr>\n",
       "</tbody>\n",
       "</table>\n"
      ],
      "text/latex": [
       "A data.frame: 9 x 7\n",
       "\\begin{tabular}{lllllll}\n",
       " ParcelSize & numParcels & Grass & Trees & Cropland & Total & Cdens\\\\\n",
       " <chr> & <chr> & <dbl> & <dbl> & <dbl> & <dbl> & <dbl>\\\\\n",
       "\\hline\n",
       "\t 0-0.404     & 4590 & 10.64 & 47.65 &  3.28 &  61.57 & 5.9\\\\\n",
       "\t 0.405-0.809 & 1353 & 12.70 & 37.68 &  3.22 &  53.60 & 7.1\\\\\n",
       "\t 0.810-1.219 & 444  &  9.80 & 22.33 &  2.50 &  34.63 & 8.0\\\\\n",
       "\t 1.220-1.619 & 189  &  6.18 & 14.47 &  1.72 &  22.37 & 8.4\\\\\n",
       "\t 1.620-2.429 & 147  &  6.13 & 16.88 &  2.65 &  25.66 & 8.9\\\\\n",
       "\t 2.430-3.649 & 92   &  5.85 & 14.61 &  3.56 &  24.02 & 8.8\\\\\n",
       "\t 3.650-4.459 & 53   &  4.17 &  9.11 &  5.01 &  18.29 & 8.5\\\\\n",
       "\t 4.460-8.099 & 47   &  5.80 & 11.97 &  5.45 &  23.22 & 8.5\\\\\n",
       "\t 8.1+        & 92   & 35.97 & 96.67 & 21.31 & 153.95 & 9.6\\\\\n",
       "\\end{tabular}\n"
      ],
      "text/markdown": [
       "\n",
       "A data.frame: 9 x 7\n",
       "\n",
       "| ParcelSize &lt;chr&gt; | numParcels &lt;chr&gt; | Grass &lt;dbl&gt; | Trees &lt;dbl&gt; | Cropland &lt;dbl&gt; | Total &lt;dbl&gt; | Cdens &lt;dbl&gt; |\n",
       "|---|---|---|---|---|---|---|\n",
       "| 0-0.404     | 4590 | 10.64 | 47.65 |  3.28 |  61.57 | 5.9 |\n",
       "| 0.405-0.809 | 1353 | 12.70 | 37.68 |  3.22 |  53.60 | 7.1 |\n",
       "| 0.810-1.219 | 444  |  9.80 | 22.33 |  2.50 |  34.63 | 8.0 |\n",
       "| 1.220-1.619 | 189  |  6.18 | 14.47 |  1.72 |  22.37 | 8.4 |\n",
       "| 1.620-2.429 | 147  |  6.13 | 16.88 |  2.65 |  25.66 | 8.9 |\n",
       "| 2.430-3.649 | 92   |  5.85 | 14.61 |  3.56 |  24.02 | 8.8 |\n",
       "| 3.650-4.459 | 53   |  4.17 |  9.11 |  5.01 |  18.29 | 8.5 |\n",
       "| 4.460-8.099 | 47   |  5.80 | 11.97 |  5.45 |  23.22 | 8.5 |\n",
       "| 8.1+        | 92   | 35.97 | 96.67 | 21.31 | 153.95 | 9.6 |\n",
       "\n"
      ],
      "text/plain": [
       "  ParcelSize  numParcels Grass Trees Cropland Total  Cdens\n",
       "1 0-0.404     4590       10.64 47.65  3.28     61.57 5.9  \n",
       "2 0.405-0.809 1353       12.70 37.68  3.22     53.60 7.1  \n",
       "3 0.810-1.219 444         9.80 22.33  2.50     34.63 8.0  \n",
       "4 1.220-1.619 189         6.18 14.47  1.72     22.37 8.4  \n",
       "5 1.620-2.429 147         6.13 16.88  2.65     25.66 8.9  \n",
       "6 2.430-3.649 92          5.85 14.61  3.56     24.02 8.8  \n",
       "7 3.650-4.459 53          4.17  9.11  5.01     18.29 8.5  \n",
       "8 4.460-8.099 47          5.80 11.97  5.45     23.22 8.5  \n",
       "9 8.1+        92         35.97 96.67 21.31    153.95 9.6  "
      ]
     },
     "metadata": {},
     "output_type": "display_data"
    }
   ],
   "source": [
    "ldr_tot_Carbon"
   ]
  },
  {
   "cell_type": "markdown",
   "id": "2a8332f7-3974-4ebe-a53f-d3f59bba058f",
   "metadata": {
    "tags": []
   },
   "source": [
    "## Congratulations! You've completed this Notebook. \n",
    "\n",
    "Contact the corresponding author if you have any questions.\n",
    "\n",
    "Derek Robinson (dtrobins@uwaterloo.ca)"
   ]
  }
 ],
 "metadata": {
  "kernelspec": {
   "display_name": "R 4.2.0",
   "language": "R",
   "name": "uw-r-4-2-0-broadwell"
  },
  "language_info": {
   "codemirror_mode": "r",
   "file_extension": ".r",
   "mimetype": "text/x-r-source",
   "name": "R",
   "pygments_lexer": "r",
   "version": "4.2.0"
  }
 },
 "nbformat": 4,
 "nbformat_minor": 5
}
