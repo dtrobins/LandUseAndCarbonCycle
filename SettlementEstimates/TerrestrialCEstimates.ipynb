{
 "cells": [
  {
   "cell_type": "markdown",
   "id": "d46f2d98-c2de-4c47-9321-fd481ffbfe19",
   "metadata": {},
   "source": [
    "# Estimating Settlement Carbon Stocks using Land Cover and Land Use Data\n",
    "\n",
    "Created by: Derek Robinson @UWaterloo in collaboration with Douglas MacDonald, Lyna Lapointe-Elmrabti, Cameron Samonson, and Meghan Bishoff at Environment and Climate Change Canada<br>\n",
    "Last Updated: February 28, 2022"
   ]
  },
  {
   "cell_type": "markdown",
   "id": "af4013d8-4491-4615-8627-c480be49ba7e",
   "metadata": {},
   "source": [
    "### Learning Objectives\n",
    "\n",
    "In this Jupyter Notebook you will learn or review \n",
    "<ul>\n",
    "    <li> an approach for carbon stock estimation based on a combination of IPCC and Environment and Climate Change Canada data and methods; </li>\n",
    "    <li> gain more experience with R; and </li>\n",
    "    <li> estimate carbon stocks for different land cover types that have different amounts and management activities on different land uses.</li>  \n",
    "</ul>"
   ]
  },
  {
   "cell_type": "markdown",
   "id": "63a4d4e5-da2d-49fc-9de4-e3e6bc28aeda",
   "metadata": {},
   "source": [
    "### Assignment Completion\n",
    "\n",
    "The assignment will be completed as a quiz provided on LEARN that spans multiple days. To complete the quiz/assignment you may need to do the following:\n",
    "\n",
    "<ul>\n",
    "    <li> work through this notebook, </li>\n",
    "    <li> copy results from your notebook into the LEARN input boxes, </li>\n",
    "    <li> take screen captures of your notebook output and submit them via LEARN, or </li>\n",
    "    <li> change values in the Jupyter Notebook and re-execute cells/code to obtain new results. </li>\n",
    "</ul>\n",
    "\n",
    "To advance to the next text cell or execute the code in a cell hold <font style=\"font-family:'Courier New'\"><mark font-family=\"Courier New\" style=\"background-color: #F5F5F5\">Shift</mark></font> and press <font style=\"font-family:'Courier New'\"><mark font-family=\"Courier New\" style=\"background-color: #F5F5F5\">Enter</mark></font>. If there is a method for which you would like to know more about its parameters or how it works then you can place your cursor on the method and press <font style=\"font-family:'Courier New'\"><mark font-family=\"Courier New\" style=\"background-color: #F5F5F5\">Shift + Tab</mark></font> and a help box will appear that you can expand and scroll through.\n",
    "\n",
    "<i> <b>While you may discuss course content with your classmates, you are to complete the assignment individually.</b> </i>"
   ]
  },
  {
   "cell_type": "markdown",
   "id": "0a2f1b2a-1f76-4707-8ea1-6c5f6d828e1a",
   "metadata": {
    "tags": []
   },
   "source": [
    "### Overview\n",
    "\n",
    "The storage and flux of terrestrial carbon is spatially heterogeneous partly due to how humans use (i.e., `land use`), manage, and change what resides on the landscape (i.e., `land cover`). To better understand the extent of land use and land cover change, extensive effort has gone into mapping historical and global land use and land cover. At least 10 different global land cover datasets have been generated. However, the spatial resolution of these global data is too coarse (30m – 1km) to accurately capture the quantity and location of land cover in highly fragmented and human dominated Settlement areas.\n",
    "\n",
    "`Settlement` areas are differentially defined by country, but can be generalized as all developed land not included in other `Land Use, Land Use Change and Forestry` (LULUCF) sector categories reported to the United Nations Framework Convention on Climate Change (UNFCCC). Within the LULUCF sector, Settlements are of particular interest for carbon reporting because 1) urbanization projections estimate that 68% of the global population and greater than 87% of the North American population will reside within urban settlement areas by 2050 (UN 2018) and it is necessary to engage this population if we are to mitigate the impacts of climate change, 2) conversions from other land uses to Settlement are typically unidirectional and consist of significant manipulation of the landscape, and 3) Settlements have the potential to remove CO<sub>2</sub> from the atmosphere or equally result in emissions, depending on the type and severity of disturbance.\n",
    "\n",
    "While there is a wealth of research linking land use and the carbon cycle (e.g., Brown et al. 2013), there remains a paucity of research, particularly the classification of land cover required for the quantification of the change in carbon on the landscape when land is converted to Settlement or to estimate carbon emissions or removals within Settlement areas. \n",
    "\n",
    "The content you will work through in this notebook builds on the following efforts to map land cover, quantify carbon stocks and change, and model urban growth based on property parcel data:\n",
    "\n",
    "* Land-cover fragmentation and configuration of ownership parcels in an exurban landscape<br>\n",
    "https://link.springer.com/article/10.1007/s11252-011-0205-4\n",
    "\n",
    "* Quantifying spatial–temporal change in land-cover and carbon storage among exurban residential parcels<br>\n",
    "https://link.springer.com/article/10.1007/s10980-013-9963-0\n",
    "\n",
    "* Comparison of Statistical Approaches for Modelling Land-Use Change<br>\n",
    "https://www.mdpi.com/2073-445X/7/4/144\n",
    "\n",
    "\n",
    "To more accurately quantify carbon stocks in Settlement areas, high spatial resolution imagery (20 cm) were acquired from the Province of Ontario, Canada. The imagery were classified using object-based image analysis into one of the following `seven land cover classes: Grass, Coniferous, Deciduous, Cropland and Soil, Water, Impervious, Shadow`. Parcel data were manually interpreted using the same imagery to assign each parcel to one of the following `eleven land uses: Low Density Residential, Medium Density Residential, High Density Residential, Commercial, Industrial, Institutions, Transportation, Protected Areas, Agriculture, Water, and Under Development`. Then the land cover and land use data were intersected to derive land cover within each property parcel. The subsequent estimates of carbon are based on a combination of land use (Activity Data) and amount of area in different land covers. These estimates are then summarized by land-use type and property size within this notebook.\n",
    "\n",
    "An example area of the classified imagery is provided below."
   ]
  },
  {
   "cell_type": "markdown",
   "id": "02ec8d2f-5e10-4911-a739-6faaf24af347",
   "metadata": {},
   "source": [
    "<img src=\"LC_Classification.png\" alt=\"drawing\" width=\"600\"/>"
   ]
  },
  {
   "cell_type": "markdown",
   "id": "f904bba7-06fe-4c6a-9a13-d21291e54377",
   "metadata": {},
   "source": [
    "# Tree Cover Carbon"
   ]
  },
  {
   "cell_type": "markdown",
   "id": "c510e639-8ade-4847-8b3b-ead81aecf4ab",
   "metadata": {},
   "source": [
    "In the presented approach, all types of trees are lumped together and represented as tree cover. Assessment of Settlement tree cover across multiple locations in Canada has been conducted by Steenberg et al. (in review), which currently has the following title: \"An aupdated approach for assessing Canada's urban forest carbon storage and sequestration\". Within this document, the average urban tree-cover carbon storage for the Mixedwood Plains ecozone in Canada is calculated as 57.8 t ha<sup>-1</sup>. "
   ]
  },
  {
   "cell_type": "code",
   "execution_count": null,
   "id": "13964e11-59c3-4562-91e9-51edf37da2a9",
   "metadata": {},
   "outputs": [],
   "source": [
    "C_trees_t_ha <- 57.8"
   ]
  },
  {
   "cell_type": "markdown",
   "id": "75b422e0-60c1-4700-b286-a42113b3968b",
   "metadata": {},
   "source": [
    "For comparative purposes, it is good to make sure we understand how to work among different units. We can derive kg ha<sup>-1</sup> by multiplying our value of t ha<sup>-1</sup> by 1000 (1000 kg = 1 Mt). Then we can derive kg C m<sup>-2</sup> by dividing by 10000 since 10,000 m<sup>2</sup> = 1 ha"
   ]
  },
  {
   "cell_type": "code",
   "execution_count": null,
   "id": "10b8bcd8-963d-41d5-9e11-a4bab60b1e08",
   "metadata": {},
   "outputs": [],
   "source": [
    "C_trees_kg_ha <- C_trees_t_ha * 1000"
   ]
  },
  {
   "cell_type": "code",
   "execution_count": null,
   "id": "fdc04ff5-5156-4cd7-80f2-dd90aecee5fe",
   "metadata": {},
   "outputs": [],
   "source": [
    "C_trees_kg_m2 <- C_trees_kg_ha/10000"
   ]
  },
  {
   "cell_type": "markdown",
   "id": "f2115fcf-22e2-41dc-bb42-3a243fb31e42",
   "metadata": {},
   "source": [
    "Our estimate of carbon stock in tree cover per metre square is:"
   ]
  },
  {
   "cell_type": "code",
   "execution_count": null,
   "id": "748b1936-3d7c-46ce-bfad-186495a34e31",
   "metadata": {},
   "outputs": [],
   "source": [
    "C_trees_kg_m2"
   ]
  },
  {
   "cell_type": "markdown",
   "id": "259f88b2-c5f6-4034-a205-20d92f93e451",
   "metadata": {},
   "source": [
    "# Derivation of soil carbon estimates by land use"
   ]
  },
  {
   "cell_type": "markdown",
   "id": "157bfea3-76ed-4ad5-a8fc-8bb4cf2e66e7",
   "metadata": {},
   "source": [
    "While the above approach to tree cover carbon estimation embeds the work and assumptions of Steenberg et al. (in review), our approach to estimate soil carbon is more involved.\n",
    "\n",
    "Using an IPCC Tier 1 approach, soil carbon in different land uses is calculated relative to initial values in cropland using the following equation:"
   ]
  },
  {
   "cell_type": "markdown",
   "id": "bc27d19f-db05-4fc9-ba4c-10d6b2ed1f69",
   "metadata": {},
   "source": [
    "<i>C<sub>Soils_LC</sub> = C<sub>Cropland</sub> * IPCC<sub>LC</sub> * (1 - Prop<sub>Modified</sub>) + (0.5 * C<sub>Cropland</sub>) * IPCC<sub>LC</sub> * Prop<sub>Modified</sub></i><br><br>\n",
    "\n",
    "whereby:<br>\n",
    "<ul style=\"list-style-type:none\">\n",
    "    <li><i>C<sub>Soils_LC</sub></i> = Total soil carbon for a land cover in Mg C ha<sup>-1</sup>, which comprises both areas where soils have been modified by landscaping (i.e., soil extraction, grading and 15 cm of topsoil replaced) and unmodified (areas maintaining at least 30 cm depth of soil and conditions remnant of cropland land use)</li><br>\n",
    "    <li><i>C<sub>Cropland</sub></i> = Initial carbon stocks for cropland in the region were based on average soil carbon derived from CanSIS databases for medium textured cropland soils in the KCW region based on soil carbon in the upper 30 cm of the soil horizon, equivalent to 70 Mg C ha<sup>-1</sup></li><br>\n",
    "    <li><i>IPCC<sub>LC</sub></i> = the factor multiplied against cropland soil carbon to determine soil carbon in different land covers (LCs). Acquired from IPCC 2006, Vol. 4. The Settlements chapter (Chapter 8), in Section 8.3.3.2 Mineral Soils, points to Grassland chapter (Chapter 6, Table 6.2) for the IPCC relative stock change factors for grassland management. We use a Land Use Factor (F<sub>LU</sub>) = 1 and the Management Factor (F<sub>MG</sub>) for Improved Grassland for the Temperate/Boreal climate region = 1.14 in our estimate of carbon in turfgrass in Settlement areas. A value of 1.1 is used for tree cover, which is derived from Table 5.5 (Chapter 5) for No-Till (F<sub>MG</sub>) in a Dry Temperate/Boreal climate region.</li><br>\n",
    "        <li><i>Prop<sub>Modified</sub></i> = proportion of the land use area assumed to be landscaped and modified such that 15 cm of topsoil has been applied over fill with only 50% of <i>C<sub>Cropland</sub></i>. The proportion modified changes by land-use type.</li><br>\n",
    "</ul>\n",
    "\n",
    "CANSIS Database: http://sis.agr.gc.ca/cansis <br>\n",
    "Chapter 8: https://www.ipcc-nggip.iges.or.jp/public/2006gl/pdf/4_Volume4/V4_08_Ch8_Settlements.pdf <br>\n",
    "Chapter 6: https://www.ipcc-nggip.iges.or.jp/public/2006gl/pdf/4_Volume4/V4_06_Ch6_Grassland.pdf"
   ]
  },
  {
   "cell_type": "markdown",
   "id": "074b1090-fffa-42b9-a5eb-66aef4a7803b",
   "metadata": {},
   "source": [
    "Using the above values, variables are created for each\n"
   ]
  },
  {
   "cell_type": "code",
   "execution_count": null,
   "id": "cef70e94-115a-40c5-8215-8060feb2a193",
   "metadata": {},
   "outputs": [],
   "source": [
    "C_cropland <- 70"
   ]
  },
  {
   "cell_type": "code",
   "execution_count": null,
   "id": "e1564516-7c89-4b1a-b473-9d4d834cd56f",
   "metadata": {},
   "outputs": [],
   "source": [
    "IPCC_soils_grass <- 1.14"
   ]
  },
  {
   "cell_type": "markdown",
   "id": "311dc957-b891-4a82-990b-ae678baedcba",
   "metadata": {},
   "source": [
    "Table 6.2<br>\n",
    "<img src=\"Table6.2.png\" alt=\"drawing\" width=\"800\"/><br>\n",
    "https://www.ipcc-nggip.iges.or.jp/public/2006gl/pdf/4_Volume4/V4_06_Ch6_Grassland.pdf"
   ]
  },
  {
   "cell_type": "code",
   "execution_count": null,
   "id": "3d5ee9ae-d86d-4f86-9fff-89002a42b217",
   "metadata": {},
   "outputs": [],
   "source": [
    "IPCC_soils_trees <- 1.1"
   ]
  },
  {
   "cell_type": "markdown",
   "id": "c6dbf976-1f99-4000-b5f5-3f2435214d1f",
   "metadata": {},
   "source": [
    "Table 5.5 <br>\n",
    "<img src=\"Table5.5.png\" alt=\"drawing\" width=\"800\"/><br>\n",
    "https://www.ipcc-nggip.iges.or.jp/public/2006gl/pdf/4_Volume4/V4_05_Ch5_Cropland.pdf"
   ]
  },
  {
   "cell_type": "markdown",
   "id": "f066d25d-a088-4bd0-84a6-cc303b697bec",
   "metadata": {},
   "source": [
    "## Residential Land Uses\n",
    "Using the above equation for <i>C<sub>Soils</sub></i> and assumptions about the proportion of residential land-use types that have modified soils, we can estimate the total soil carbon associated with turfgrass in residential land uses. Soils under Grass and Tree cover were divided into two categories, either landscaped or unmodified, where the landscaped sites are assumed to have 15 cm of topsoil applied over fill with 50% of the carbon content observed for croplands. The extent of landscaped disturbance from construction on parcels was assumed to reach a maximum of 1 acre or 0.405 ha. Given our parcel size distribution for residential land uses, high and medium density parcels were assumed to be 100% landscaped and low-density residential parcels were assumed to be 10% landscaped."
   ]
  },
  {
   "cell_type": "markdown",
   "id": "7c9e01a0-e470-4d0f-8eaf-e2732b4d576e",
   "metadata": {},
   "source": [
    "Create a variable for each of these proportions of modified soils for each residential density. LDR = Low Density Residential, MDR = Medium Density Residential, HDR = High Density Residential."
   ]
  },
  {
   "cell_type": "code",
   "execution_count": null,
   "id": "6297ab2a-f42a-462c-87b2-55ec6a81f2a1",
   "metadata": {},
   "outputs": [],
   "source": [
    "LDR_prop_modified <- 0.1\n",
    "MDR_prop_modified <- 1.0\n",
    "HDR_prop_modified <- 1.0"
   ]
  },
  {
   "cell_type": "markdown",
   "id": "ccab8673-ab73-4a96-835b-c2044f88a0e4",
   "metadata": {},
   "source": [
    "Place these proportions, and prior variables, into our equation for <i>C<sub>Soils_Grass</sub></i>."
   ]
  },
  {
   "cell_type": "code",
   "execution_count": null,
   "id": "964f55fd-d957-4810-a39d-427232130424",
   "metadata": {},
   "outputs": [],
   "source": [
    "C_LDR_soils_grass <- C_cropland*IPCC_soils_grass*(1 - LDR_prop_modified)+(0.5*C_cropland)*IPCC_soils_grass*LDR_prop_modified\n",
    "C_MDR_soils_grass <- C_cropland*IPCC_soils_grass*(1 - MDR_prop_modified)+(0.5*C_cropland)*IPCC_soils_grass*MDR_prop_modified\n",
    "C_HDR_soils_grass <- C_cropland*IPCC_soils_grass*(1 - HDR_prop_modified)+(0.5*C_cropland)*IPCC_soils_grass*HDR_prop_modified"
   ]
  },
  {
   "cell_type": "markdown",
   "id": "500583d4-12cf-4a0e-acdc-243448ae43b9",
   "metadata": {},
   "source": [
    "Estimates of soil C in Mg C ha<sup>-1</sup> of turfgrass for each residential land-use type are as follows:"
   ]
  },
  {
   "cell_type": "code",
   "execution_count": null,
   "id": "4a491827-be4d-4aa6-8e4c-1c15e55f3cf8",
   "metadata": {},
   "outputs": [],
   "source": [
    "C_LDR_soils_grass\n",
    "C_MDR_soils_grass\n",
    "C_HDR_soils_grass"
   ]
  },
  {
   "cell_type": "markdown",
   "id": "03a62699-f5dd-4d39-a416-3cbc0b16d549",
   "metadata": {},
   "source": [
    "Using the same approach as above, we can estimate soil carbon under Tree cover (Mg C ha<sup>-1</sup>) for each residential land-use type as follows:"
   ]
  },
  {
   "cell_type": "code",
   "execution_count": null,
   "id": "3052f7f2-83c5-4518-b98a-451c3388613b",
   "metadata": {},
   "outputs": [],
   "source": [
    "C_LDR_soils_trees <- C_cropland*IPCC_soils_trees*(1 - LDR_prop_modified)+(0.5*C_cropland)*IPCC_soils_trees*LDR_prop_modified\n",
    "C_MDR_soils_trees <- C_cropland*IPCC_soils_trees*(1 - MDR_prop_modified)+(0.5*C_cropland)*IPCC_soils_trees*MDR_prop_modified\n",
    "C_HDR_soils_trees <- C_cropland*IPCC_soils_trees*(1 - HDR_prop_modified)+(0.5*C_cropland)*IPCC_soils_trees*HDR_prop_modified"
   ]
  },
  {
   "cell_type": "markdown",
   "id": "4ec17182-b0ea-4173-89e0-0e92a56fcdff",
   "metadata": {},
   "source": [
    "Estimates of soil C under Tree cover (Mg C ha<sup>-1</sup>) for each residential land-use type are:"
   ]
  },
  {
   "cell_type": "code",
   "execution_count": null,
   "id": "0c6c62a7-066d-4d95-8f83-96982a369935",
   "metadata": {},
   "outputs": [],
   "source": [
    "C_LDR_soils_trees\n",
    "C_MDR_soils_trees\n",
    "C_HDR_soils_trees"
   ]
  },
  {
   "cell_type": "markdown",
   "id": "ea8af237-a569-4647-a977-0d38aded16a6",
   "metadata": {},
   "source": [
    "## Commercial, Industrial, Institutions, and Transportation Land Uses\n",
    "\n",
    "Soil carbon calculations for Commercial, Industrial, Institutions, and Transportation are done in a similar manner. The <i>IPCC<sub>Grass</sub></i> value is multipled against 50% of the C<sub>Cropland</sub>, with the assumption of 100% modified soil for each of the these land-use types. \n",
    "\n",
    "Set the proprtion modified"
   ]
  },
  {
   "cell_type": "code",
   "execution_count": null,
   "id": "5fbd4bee-d345-4b8e-ab24-b0ae19b6d385",
   "metadata": {},
   "outputs": [],
   "source": [
    "comm_prop_modified <- 1.0"
   ]
  },
  {
   "cell_type": "markdown",
   "id": "8eb1433f-2cec-442d-8740-31bc4489ea25",
   "metadata": {},
   "source": [
    "Generate the estimated soil C for commercial"
   ]
  },
  {
   "cell_type": "code",
   "execution_count": null,
   "id": "1d60d270-8fb4-453c-aeb1-530021081855",
   "metadata": {},
   "outputs": [],
   "source": [
    "C_comm_soils_grass <- C_cropland*IPCC_soils_grass*(1 - comm_prop_modified)+(0.5*C_cropland)*IPCC_soils_grass*comm_prop_modified"
   ]
  },
  {
   "cell_type": "markdown",
   "id": "d2b759e0-a4d2-4a69-89bc-3381f791f2fd",
   "metadata": {},
   "source": [
    "Set the same value for other land use types:"
   ]
  },
  {
   "cell_type": "code",
   "execution_count": null,
   "id": "1ca37624-3773-48af-a756-ec1edd66cd37",
   "metadata": {},
   "outputs": [],
   "source": [
    "C_ind_soils_grass <- C_comm_soils_grass\n",
    "C_inst_soils_grass <- C_comm_soils_grass\n",
    "C_trans_soils_grass <- C_comm_soils_grass"
   ]
  },
  {
   "cell_type": "markdown",
   "id": "443e8092-26df-472f-ba04-b85f1d59d1b2",
   "metadata": {},
   "source": [
    "Estimates of soil C in Mg C ha<sup>-1</sup> for commercial, industrial, institutions, and transportation are as follows: "
   ]
  },
  {
   "cell_type": "code",
   "execution_count": null,
   "id": "154c8ea9-e3e5-460f-88fe-bbe1870819c4",
   "metadata": {},
   "outputs": [],
   "source": [
    "C_comm_soils_grass\n",
    "C_ind_soils_grass\n",
    "C_inst_soils_grass\n",
    "C_trans_soils_grass"
   ]
  },
  {
   "cell_type": "markdown",
   "id": "9d42f99b-faf4-49cc-9dae-000a6e9c519e",
   "metadata": {},
   "source": [
    "Next we estimate the above ground carbon storage in tree cover. We set commercial, industrial, and transportation soils under tree cover to zero, and use the same equation for soils under grass for under trees for Institutions."
   ]
  },
  {
   "cell_type": "code",
   "execution_count": null,
   "id": "c760d463-4c21-4309-bea0-7b0938cbe328",
   "metadata": {},
   "outputs": [],
   "source": [
    "C_comm_soils_trees <- 0\n",
    "C_ind_soils_trees <- 0\n",
    "C_inst_soils_trees <- C_cropland*IPCC_soils_trees*(1 - comm_prop_modified)+(0.5*C_cropland)*IPCC_soils_trees*comm_prop_modified\n",
    "C_trans_soils_trees <- 0"
   ]
  },
  {
   "cell_type": "markdown",
   "id": "b13cc54e-d800-4698-9d2f-9b45d4ce2002",
   "metadata": {},
   "source": [
    "This gives us the following soil carbon (Mg ha<sup>-1</sup> under tree cover estimates of "
   ]
  },
  {
   "cell_type": "code",
   "execution_count": null,
   "id": "53971b3a-3a75-4810-bb9e-fdec5540238a",
   "metadata": {},
   "outputs": [],
   "source": [
    "C_comm_soils_trees\n",
    "C_ind_soils_trees\n",
    "C_inst_soils_trees\n",
    "C_trans_soils_trees"
   ]
  },
  {
   "cell_type": "markdown",
   "id": "b2a731e7-ac54-4787-b74c-82626c8501f2",
   "metadata": {},
   "source": [
    "## Protected Areas\n",
    "\n",
    "The calculation for soil carbon under turfgrass in protected areas follows the same assumptions used for low-density residential and therefore the Mg C ha<sup>-1</sup> is the same."
   ]
  },
  {
   "cell_type": "code",
   "execution_count": null,
   "id": "a3caff46-f334-4b78-9131-f4a34d18e7d2",
   "metadata": {},
   "outputs": [],
   "source": [
    "C_prot_soils_grass <- C_LDR_soils_grass"
   ]
  },
  {
   "cell_type": "markdown",
   "id": "522040af-39de-4c95-badd-de54c11c85ad",
   "metadata": {},
   "source": [
    "Estimate of Mg C ha<sup>-1</sup> in soils in protected areas is:"
   ]
  },
  {
   "cell_type": "code",
   "execution_count": null,
   "id": "64b27d1e-5a45-451f-9438-4c74aeb23063",
   "metadata": {},
   "outputs": [],
   "source": [
    "C_prot_soils_grass"
   ]
  },
  {
   "cell_type": "markdown",
   "id": "80838b8e-c45d-4b50-8f44-4ad701ea68e5",
   "metadata": {},
   "source": [
    "Similarly, the calculation for soil carbon under tree cover for protected areas uses the same assumptions used for low-density residential."
   ]
  },
  {
   "cell_type": "code",
   "execution_count": null,
   "id": "7b6803de-3bba-489c-8af7-78b5adf3f9c2",
   "metadata": {},
   "outputs": [],
   "source": [
    "C_prot_soils_trees <- C_LDR_soils_trees"
   ]
  },
  {
   "cell_type": "markdown",
   "id": "528fc14d-a991-45f9-906c-4721a18aa192",
   "metadata": {},
   "source": [
    "Giving us the following Mg C ha<sup>-1</sup>"
   ]
  },
  {
   "cell_type": "code",
   "execution_count": null,
   "id": "80607759-261e-4565-96a4-f662784a892c",
   "metadata": {},
   "outputs": [],
   "source": [
    "C_prot_soils_trees"
   ]
  },
  {
   "cell_type": "markdown",
   "id": "13841b8a-20c3-4007-94d4-98e9f99c2a11",
   "metadata": {},
   "source": [
    "## Agriculture and Under development Turfgrass\n",
    "\n",
    "Soil carbon under agriculture was acquired by the CANSIS data as discussed above. Since the majority of conversions to Settlement in southern Ontario are from agricultural lands, we assume that areas Under Development retain the agricultural carbon values until fully transformed into a new land use."
   ]
  },
  {
   "cell_type": "code",
   "execution_count": null,
   "id": "36065b61-aa45-4514-9162-51f0d1469f63",
   "metadata": {},
   "outputs": [],
   "source": [
    "C_ag_soils_grass <- 70.0\n",
    "C_und_soils_grass <- 70.0"
   ]
  },
  {
   "cell_type": "markdown",
   "id": "eb4f641a-85b2-4418-b93b-c58edb9ae3d6",
   "metadata": {},
   "source": [
    "Confirm the values"
   ]
  },
  {
   "cell_type": "code",
   "execution_count": null,
   "id": "9557fd95-e8df-442f-b486-cb61367a2f0f",
   "metadata": {},
   "outputs": [],
   "source": [
    "C_ag_soils_grass\n",
    "C_und_soils_grass"
   ]
  },
  {
   "cell_type": "markdown",
   "id": "0a13c9e0-c11e-44fd-8bb2-3cb09fc2aacb",
   "metadata": {},
   "source": [
    "Soil under trees in agricultural land uses are assumed the same as the CANSIS data at 70 Mg C ha<sup>-1</sup>.\n",
    "However, soils in Under Development land cover are assumed to be similar to low-density residential that have some landscape disturbance."
   ]
  },
  {
   "cell_type": "code",
   "execution_count": null,
   "id": "b1844bad-6903-4f73-8caf-4bc8b024adb5",
   "metadata": {},
   "outputs": [],
   "source": [
    "C_ag_soils_trees <- 70.0\n",
    "C_und_soils_trees <- C_LDR_soils_trees"
   ]
  },
  {
   "cell_type": "markdown",
   "id": "475b7a39-7ba6-424b-a989-86b0f50a8cc6",
   "metadata": {},
   "source": [
    "Yielding a slightly higher value for soils under tree cover in Under Developed land use compared to Agricultural land use."
   ]
  },
  {
   "cell_type": "code",
   "execution_count": null,
   "id": "3b2efcd1-bd60-4a7e-8dcf-f22d54c675be",
   "metadata": {},
   "outputs": [],
   "source": [
    "C_ag_soils_trees\n",
    "C_und_soils_trees"
   ]
  },
  {
   "cell_type": "markdown",
   "id": "c7736f54-3a70-4f81-93e3-9c13f5973e6c",
   "metadata": {},
   "source": [
    "# Table of Soil Carbon by Land Use\n",
    "\n",
    "Using the results from above we can make four columns of data and combine them using `cbind()` to create a dataframe of our values. First we will make a list of our land use categories. I note the variable as lulc because technically Water is a land cover."
   ]
  },
  {
   "cell_type": "code",
   "execution_count": null,
   "id": "0c4be54d-8a25-4879-b9dd-247c2857b2e3",
   "metadata": {},
   "outputs": [],
   "source": [
    "lulc_categories <- c(\"Low Density Residential\", \"Medium Density Residential\", \"High Density Residential\", \"Commercial\", \n",
    "\"Industrial\", \"Institutions\", \"Transportation\", \"Protected Areas\", \"Agriculture\", \"Water\", \"Under Development\")"
   ]
  },
  {
   "cell_type": "markdown",
   "id": "c214da4a-f301-4e69-ae75-c88cb649d3d5",
   "metadata": {},
   "source": [
    "Next we will create a variable for each of our soil C estimates under turfgrass for each land use."
   ]
  },
  {
   "cell_type": "code",
   "execution_count": null,
   "id": "3a28be29-5bcc-4ec7-9043-1cea6fd3cfd4",
   "metadata": {},
   "outputs": [],
   "source": [
    "lulc_grass_soilC <- c(C_LDR_soils_grass, C_MDR_soils_grass, C_HDR_soils_grass, C_comm_soils_grass, C_ind_soils_grass, \n",
    "                      C_inst_soils_grass, C_trans_soils_grass, C_prot_soils_grass, C_ag_soils_grass, 0, C_und_soils_grass) "
   ]
  },
  {
   "cell_type": "markdown",
   "id": "f5f3dea1-7729-4963-b403-2256b1e55763",
   "metadata": {},
   "source": [
    "Then we create a variable holding our soil C estimates under tree cover for each land use."
   ]
  },
  {
   "cell_type": "code",
   "execution_count": null,
   "id": "a85d3113-d597-4d00-8021-b3f147295010",
   "metadata": {},
   "outputs": [],
   "source": [
    "lulc_trees_soilC <- c(C_LDR_soils_trees, C_MDR_soils_trees, C_HDR_soils_trees, C_comm_soils_trees, C_ind_soils_trees, \n",
    "                      C_inst_soils_trees, C_trans_soils_trees, C_prot_soils_trees, C_ag_soils_trees, 0, C_und_soils_trees) "
   ]
  },
  {
   "cell_type": "markdown",
   "id": "6e5d74e5-9d7f-498f-86d7-2f81c7d864d2",
   "metadata": {},
   "source": [
    "Finally we create a variable holding our soil C estimates under cropland for each land use. While one might think of cropland under some land uses as an error, there are many cases where the back of a parcel is still used for agricultural purposes even though the dominant portion of the parcel is used for residential (as an example). Typically, the larger the parcel adjacent to agricultural lands the more we see this overlap. Of course some of the classification is error."
   ]
  },
  {
   "cell_type": "code",
   "execution_count": null,
   "id": "ca56bdfe-31a7-4dd2-9a0a-a9600339a540",
   "metadata": {},
   "outputs": [],
   "source": [
    "lulc_crop_soilC <- c(70, 70, 70, 70, 70, 70, 70, 70, 70, 0, 70)"
   ]
  },
  {
   "cell_type": "markdown",
   "id": "258b81c1-1656-4943-a55f-4b6fa501f35a",
   "metadata": {},
   "source": [
    "Lets put all these data together now using the `cbind()` function to derive a table of Mg C ha<sup>-1</sup> in soil by land use."
   ]
  },
  {
   "cell_type": "code",
   "execution_count": null,
   "id": "9c35ea0d-eb2b-4308-94bc-7ebf2381480e",
   "metadata": {},
   "outputs": [],
   "source": [
    "soilCbylu <- cbind(lulc_categories, lulc_grass_soilC, lulc_trees_soilC, lulc_crop_soilC)"
   ]
  },
  {
   "cell_type": "code",
   "execution_count": null,
   "id": "25a9ccca-9f17-4a94-a0e1-ed185eee3fc5",
   "metadata": {},
   "outputs": [],
   "source": [
    "# Mg C ha-1\n",
    "soilCbylu <- as.data.frame(soilCbylu)\n",
    "soilCbylu$lulc_grass_soilC <- as.numeric(soilCbylu$lulc_grass_soilC)\n",
    "soilCbylu$lulc_trees_soilC <- as.numeric(soilCbylu$lulc_trees_soilC)\n",
    "soilCbylu$lulc_crop_soilC <- as.numeric(soilCbylu$lulc_crop_soilC)"
   ]
  },
  {
   "cell_type": "markdown",
   "id": "9e874d3e-3547-4b8d-b2cf-a4d79b0b7d24",
   "metadata": {},
   "source": [
    "Lastly, lets give the table some column names and display it."
   ]
  },
  {
   "cell_type": "code",
   "execution_count": null,
   "id": "e2f55771-085d-4dc8-af70-7f6258505fbd",
   "metadata": {},
   "outputs": [],
   "source": [
    "# Mg C ha\n",
    "colnames(soilCbylu) <- c(\"Land.Use\",\"Grass\",\"Trees\",\"Crop\")\n",
    "soilCbylu"
   ]
  },
  {
   "cell_type": "markdown",
   "id": "b9e59258-8f96-4c4d-bac6-5b35536bd0b7",
   "metadata": {},
   "source": [
    "I always find it useful to also look at the results in kg C m<sup>-2</sup>, so lets just create the same table with those units."
   ]
  },
  {
   "cell_type": "code",
   "execution_count": null,
   "id": "77a665fb-a31a-4a96-9961-f30ef6002ba0",
   "metadata": {},
   "outputs": [],
   "source": [
    "soilCbylukgm <- cbind(lulc_categories, soilCbylu$Grass * 1000 / 10000, soilCbylu$Trees * 1000 / 10000, soilCbylu$Crop * 1000 / 10000)"
   ]
  },
  {
   "cell_type": "code",
   "execution_count": null,
   "id": "57317f47-57ef-47e5-b25a-752b21cf9a7b",
   "metadata": {},
   "outputs": [],
   "source": [
    "# kg C m2\n",
    "colnames(soilCbylukgm) <- c(\"Land.Use\",\"Grass\",\"Trees\",\"Crop\")\n",
    "soilCbylukgm <- as.data.frame(soilCbylukgm)\n",
    "soilCbylukgm$Grass <- round(as.numeric(soilCbylukgm$Grass), 2)\n",
    "soilCbylukgm$Trees <- round(as.numeric(soilCbylukgm$Trees), 2)\n",
    "soilCbylukgm$Crop <- round(as.numeric(soilCbylukgm$Crop), 2)\n",
    "soilCbylukgm"
   ]
  },
  {
   "cell_type": "markdown",
   "id": "16b54f43-33b0-447b-89bd-a1a82d8ea9d6",
   "metadata": {},
   "source": [
    "# Estimates of Carbon by Land Use\n",
    "\n",
    "Now that we have calculated estimates of soil C under grass, trees, and crop as well as an above-ground estimate of tree carbon, we can apply these values to a study area.\n",
    "The Kitchener-Cambridge-Waterloo (KCW) Census Metropolitan Area (CMA) has been classified at 20 cm resolution in urban core areas and 80 cm in rural areas within the CMA boundary to derive the following land cover areas. The land use classification is the result of individual parcel manual interpretation. \n",
    "\n",
    "Read in a `.csv` of the area in different land covers using the `read.csv()` function."
   ]
  },
  {
   "cell_type": "code",
   "execution_count": null,
   "id": "6262eb34-23dd-4bae-8fc0-f8861c6606eb",
   "metadata": {},
   "outputs": [],
   "source": [
    "lc_data <- read.csv(\"landcoverarea.csv\")"
   ]
  },
  {
   "cell_type": "markdown",
   "id": "55a475fb-af1f-4d62-8a00-c6fb4f80628a",
   "metadata": {},
   "source": [
    "Lets take a quick look at these data."
   ]
  },
  {
   "cell_type": "code",
   "execution_count": null,
   "id": "8ae344eb-6fb3-4652-9136-899ed6bf0958",
   "metadata": {},
   "outputs": [],
   "source": [
    "lc_data"
   ]
  },
  {
   "cell_type": "markdown",
   "id": "1553c7c6-131a-4fcf-a189-5a2953ea75ee",
   "metadata": {},
   "source": [
    "Create a total area for each land use, by using the `rowSums()` function, and the percent of all area represented by each land use. We will also round our data to two decimals using the `round()` function."
   ]
  },
  {
   "cell_type": "code",
   "execution_count": null,
   "id": "47f04ecb-713c-410c-a832-58e0361d56be",
   "metadata": {},
   "outputs": [],
   "source": [
    "lc_data[ ,\"Total\"] <- rowSums(lc_data[,2:7])"
   ]
  },
  {
   "cell_type": "markdown",
   "id": "deb35e20-5f96-45c5-80ce-ea05b78efbd7",
   "metadata": {},
   "source": [
    "Use the same approach to calculate the total percent of the study area represented by each land use type."
   ]
  },
  {
   "cell_type": "code",
   "execution_count": null,
   "id": "4414a37a-8dfc-4893-9037-a0a6b537842a",
   "metadata": {},
   "outputs": [],
   "source": [
    "lc_data[ ,\"Perc\"] <- round(lc_data$Total/sum(lc_data$Total)*100, 1)"
   ]
  },
  {
   "cell_type": "markdown",
   "id": "1ff94636-00e8-4041-9ae3-3c7503d9efb8",
   "metadata": {},
   "source": [
    "Review these additions to our table of area (ha) of land cover by land use type."
   ]
  },
  {
   "cell_type": "code",
   "execution_count": null,
   "id": "ae2db62c-336c-47d4-ba7b-414dedf64735",
   "metadata": {},
   "outputs": [],
   "source": [
    "lc_data"
   ]
  },
  {
   "cell_type": "markdown",
   "id": "b72594cb-ce82-4982-a469-a08eb714593e",
   "metadata": {},
   "source": [
    "Now we can calculate the carbon for each of the different land covers for each land use. To do this we will use a simple equation of <br>\n",
    "<i>C<sub>Grass</sub> = LU<sub>Area</sub> * C<sub>Soils</sub></i> <br>\n",
    "<i>C<sub>Crop</sub> = LU<sub>Area</sub> * C<sub>Soils</sub></i> <br>\n",
    "<i>C<sub>Trees</sub> = LU<sub>Area</sub> * (C<sub>Soils</sub> + C<sub>Trees</sub>)</i><br>\n",
    "\n",
    "we then divide the outcome by 1000 to convert from megagram (Mg) to gigagram (Gg) and we use the `round()` function to round the result to 2 decimal places. "
   ]
  },
  {
   "cell_type": "code",
   "execution_count": null,
   "id": "1f445367-dfc0-4578-b6ef-9b4ac4e7654c",
   "metadata": {},
   "outputs": [],
   "source": [
    "C_grass <- round(lc_data$Grass * (soilCbylu$Grass)/1000, 2)"
   ]
  },
  {
   "cell_type": "code",
   "execution_count": null,
   "id": "cf6975b6-a85c-49f9-af7c-8b792a7bd262",
   "metadata": {},
   "outputs": [],
   "source": [
    "C_crop <- round(lc_data$Crop * (soilCbylu$Crop)/1000, 2) "
   ]
  },
  {
   "cell_type": "code",
   "execution_count": null,
   "id": "bfb0bd1e-6d7f-434e-845c-993f8b65690b",
   "metadata": {},
   "outputs": [],
   "source": [
    "C_tree <- round(lc_data$Tree * (soilCbylu$Tree + C_trees_t_ha) / 1000, 2)"
   ]
  },
  {
   "cell_type": "markdown",
   "id": "a179a019-a751-4bf7-9519-88184ad80cdd",
   "metadata": {},
   "source": [
    "The result is a matrix that we convert to a dataframe using the `as.data.frame()` function. We assign column headings using the `colnames()` function and convert the columns to `numeric` data types instead of chr type."
   ]
  },
  {
   "cell_type": "code",
   "execution_count": null,
   "id": "c6532a47-7f0f-4eab-95b8-28851a63231e",
   "metadata": {},
   "outputs": [],
   "source": [
    "totalCarbon <- as.data.frame(cbind(lulc_categories, C_grass, C_tree, C_crop))\n",
    "colnames(totalCarbon) <- c(\"Land.Use\",\"Grass\",\"Trees\",\"Crop\")\n",
    "totalCarbon$Grass <- as.numeric(totalCarbon$Grass)\n",
    "totalCarbon$Trees <- as.numeric(totalCarbon$Trees)\n",
    "totalCarbon$Crop <- as.numeric(totalCarbon$Crop)"
   ]
  },
  {
   "cell_type": "markdown",
   "id": "f5ece67e-a69f-4cc1-bd4e-7a45962a6470",
   "metadata": {},
   "source": [
    "Next we calculate the total carbon for each land use type using `rowSums()` and the percent of all carbon stored in the landscape represented by each land use type."
   ]
  },
  {
   "cell_type": "code",
   "execution_count": null,
   "id": "3ab95b2e-267c-422c-bddc-748137d1b2bb",
   "metadata": {},
   "outputs": [],
   "source": [
    "totalCarbon[ ,\"Total\"] <- rowSums(totalCarbon[,2:4])\n",
    "totalCarbon[ ,\"Perc\"] <- round(totalCarbon$Total/sum(totalCarbon$Total)*100, 1)"
   ]
  },
  {
   "cell_type": "markdown",
   "id": "5dbe2665-25f6-40f1-9b19-9ddf90da35a5",
   "metadata": {},
   "source": [
    "Calculate the carbon density for each land use type."
   ]
  },
  {
   "cell_type": "code",
   "execution_count": null,
   "id": "e40494c0-5893-4def-8b3f-b7816ba32b6f",
   "metadata": {},
   "outputs": [],
   "source": [
    "totalCarbon[ ,\"Cdens\"] <- round(totalCarbon$Total / lc_data$Total, 4)"
   ]
  },
  {
   "cell_type": "markdown",
   "id": "b585a3ec-0e3e-4d82-8458-b4fa69747cc3",
   "metadata": {},
   "source": [
    "Lastly, we can display our table of gigagrams (Gg) of carbon per land cover by land use type, with `Cdens` displaying Gg C ha<sup>-1</sup>"
   ]
  },
  {
   "cell_type": "code",
   "execution_count": null,
   "id": "a7ef2d50-1105-4c45-9e3d-ae82610e96c9",
   "metadata": {
    "tags": []
   },
   "outputs": [],
   "source": [
    "totalCarbon"
   ]
  },
  {
   "cell_type": "markdown",
   "id": "75692721-6478-4f21-b03d-1dedd9f717ed",
   "metadata": {},
   "source": [
    "To better understand our carbon density values, we translate the density from Gg C ha<sup>-1</sup> to kg C m<sup>-2</sup>."
   ]
  },
  {
   "cell_type": "code",
   "execution_count": null,
   "id": "86a1c82d-444e-4882-8462-f0d346ff0c02",
   "metadata": {},
   "outputs": [],
   "source": [
    "# Gg / ha --> kg / m2\n",
    "totalCarbon$Cdens * 100"
   ]
  },
  {
   "cell_type": "markdown",
   "id": "fdfe49cc-a851-4d29-b8db-204fba8c760f",
   "metadata": {},
   "source": [
    "# Estimates of Carbon by Parcel Size\n",
    "\n",
    "Using the same classified imagery as above, areas of different land cover have been summarized by parcel size (ha) and put into a comma separated value (.csv) file. Next we'll read in that .csv and estimate carbon values for each land cover to see if there is a relationship between parcel size and carbon storage."
   ]
  },
  {
   "cell_type": "code",
   "execution_count": null,
   "id": "214b3e3a-96e1-4fde-bdf9-a446b6b594c5",
   "metadata": {},
   "outputs": [],
   "source": [
    "lc_parcel_data <- read.csv(\"parcelha.csv\")\n",
    "\n",
    "#p.s., I'm getting a warning message here, which I can't seem to eliminate at the moment, but it is not causing any errors in subsequent calculations."
   ]
  },
  {
   "cell_type": "code",
   "execution_count": null,
   "id": "291d0d30-7a11-4083-b4e4-7ac6e5875f60",
   "metadata": {},
   "outputs": [],
   "source": [
    "lc_parcel_data"
   ]
  },
  {
   "cell_type": "code",
   "execution_count": null,
   "id": "8aabc77e-6723-4dae-8066-d85a18100713",
   "metadata": {},
   "outputs": [],
   "source": [
    "lc_parcel_data[ ,\"Total\"] <- rowSums(lc_parcel_data[,2:7])"
   ]
  },
  {
   "cell_type": "code",
   "execution_count": null,
   "id": "7fb5d76c-eedf-4a54-83d3-cc3b81a1afe1",
   "metadata": {},
   "outputs": [],
   "source": [
    "lc_parcel_data[ ,\"Perc\"] <- round(lc_parcel_data$Total/sum(lc_parcel_data$Total)*100, 1)"
   ]
  },
  {
   "cell_type": "code",
   "execution_count": null,
   "id": "2d432715-947c-49e7-bc1b-3d4deddc07cc",
   "metadata": {},
   "outputs": [],
   "source": [
    "lc_parcel_data"
   ]
  },
  {
   "cell_type": "markdown",
   "id": "20010145-fe33-45d7-b649-1bb9d27bd8ba",
   "metadata": {},
   "source": [
    "The parcel data summary information includes all land-use types. Therefore, the carbon estimation uses an average soil carbon for Grass, Tree, and Crop from the soil carbon table for all land uses applied against the areas of each land cover within the different parcel size classes. Then we divide the outcome by 1000 to convert from megagram (Mg) to Gigagram (Gg) and use the `round()` function to round the result to 2 decimal places. "
   ]
  },
  {
   "cell_type": "code",
   "execution_count": null,
   "id": "3cc66502-b372-481e-b775-4f8a75e4cd49",
   "metadata": {},
   "outputs": [],
   "source": [
    "C_grass_parcel <- round(lc_parcel_data$Grass * (ave(soilCbylu$Grass)[1])/1000, 2)\n",
    "C_crop_parcel <- round(lc_parcel_data$Crop * (ave(soilCbylu$Crop)[1])/1000, 2)\n",
    "C_tree_parcel <- round(lc_parcel_data$Tree * (ave(soilCbylu$Tree)[1] + C_trees_t_ha) / 1000, 2)"
   ]
  },
  {
   "cell_type": "markdown",
   "id": "ea3738c2-8c29-45d6-9954-c2f93b1bfb0f",
   "metadata": {},
   "source": [
    "As earlier, we can combine our parcel sizes with the carbon values we just calculated. Then ensure each column has a name and is a numeric data type (dbl)."
   ]
  },
  {
   "cell_type": "code",
   "execution_count": null,
   "id": "c04545e2-ff5f-42f9-b686-0c40a3e41506",
   "metadata": {},
   "outputs": [],
   "source": [
    "parcelCarbon <- as.data.frame(cbind(lc_parcel_data$ParcelSizeha, C_grass_parcel, C_tree_parcel, C_crop_parcel))\n",
    "colnames(parcelCarbon) <- c(\"ParcelSizeha\",\"Grass\",\"Trees\",\"Crop\")\n",
    "parcelCarbon$Grass <- as.numeric(parcelCarbon$Grass)\n",
    "parcelCarbon$Trees <- as.numeric(parcelCarbon$Trees)\n",
    "parcelCarbon$Crop <- as.numeric(parcelCarbon$Crop)"
   ]
  },
  {
   "cell_type": "markdown",
   "id": "bfc15498-993e-4e37-82ef-ee656dbd5929",
   "metadata": {},
   "source": [
    "Now lets summarize the data by adding columns with the total amount of carbon, the percent of all parcel carbon represented by that parcel-size class, and the carbon density for that parcel size."
   ]
  },
  {
   "cell_type": "code",
   "execution_count": null,
   "id": "8c4a191f-8ed5-4c93-807d-5836ea35d988",
   "metadata": {},
   "outputs": [],
   "source": [
    "parcelCarbon[ ,\"Total\"] <- rowSums(parcelCarbon[,2:4])"
   ]
  },
  {
   "cell_type": "code",
   "execution_count": null,
   "id": "f5d9a754-b533-4cf0-b6e3-bcdf841eb067",
   "metadata": {},
   "outputs": [],
   "source": [
    "parcelCarbon[ ,\"Perc\"] <- round(parcelCarbon$Total/sum(parcelCarbon$Total)*100, 1)"
   ]
  },
  {
   "cell_type": "code",
   "execution_count": null,
   "id": "95d3185f-844e-45c8-872a-d0f8e5400980",
   "metadata": {},
   "outputs": [],
   "source": [
    "parcelCarbon[ ,\"Cdens\"] <- round(parcelCarbon$Total / lc_parcel_data$Total, 4)"
   ]
  },
  {
   "cell_type": "markdown",
   "id": "947e66bd-268a-4b58-a2bf-02b0411729be",
   "metadata": {},
   "source": [
    "Then view the newly created table (i.e., dataframe)."
   ]
  },
  {
   "cell_type": "code",
   "execution_count": null,
   "id": "a39dad93-e3df-415f-9463-f91efa345a2e",
   "metadata": {},
   "outputs": [],
   "source": [
    "parcelCarbon"
   ]
  },
  {
   "cell_type": "markdown",
   "id": "474cfc22-0924-4c3d-a606-38cdf9fde253",
   "metadata": {},
   "source": [
    "Again, I like to view some of the data in kg m<sup>-2</sup>. So lets just look at the densities that way."
   ]
  },
  {
   "cell_type": "code",
   "execution_count": null,
   "id": "847c9e86-f15e-43e3-bc37-b22d5b08c992",
   "metadata": {},
   "outputs": [],
   "source": [
    "# Gg / ha --> kg / m-2\n",
    "parcelCarbon$Cdens * 100"
   ]
  },
  {
   "cell_type": "markdown",
   "id": "2a8332f7-3974-4ebe-a53f-d3f59bba058f",
   "metadata": {
    "tags": []
   },
   "source": [
    "## Congratulations! You've completed this Notebook."
   ]
  }
 ],
 "metadata": {
  "kernelspec": {
   "display_name": "R",
   "language": "R",
   "name": "ir"
  },
  "language_info": {
   "codemirror_mode": "r",
   "file_extension": ".r",
   "mimetype": "text/x-r-source",
   "name": "R",
   "pygments_lexer": "r",
   "version": "4.0.2"
  }
 },
 "nbformat": 4,
 "nbformat_minor": 5
}
